{
 "cells": [
  {
   "cell_type": "code",
   "execution_count": 1,
   "id": "2287183f",
   "metadata": {},
   "outputs": [
    {
     "name": "stderr",
     "output_type": "stream",
     "text": [
      "/Users/Yash/opt/anaconda3/envs/Om_sai_ram/lib/python3.9/site-packages/xgboost/compat.py:36: FutureWarning: pandas.Int64Index is deprecated and will be removed from pandas in a future version. Use pandas.Index with the appropriate dtype instead.\n",
      "  from pandas import MultiIndex, Int64Index\n"
     ]
    }
   ],
   "source": [
    "import numpy as np\n",
    "import pandas as pd\n",
    "from sklearn.model_selection import GridSearchCV\n",
    "from sklearn.svm import SVC\n",
    "from sklearn.ensemble import RandomForestClassifier\n",
    "from sklearn.neighbors import KNeighborsClassifier\n",
    "from sklearn.feature_selection import chi2, mutual_info_classif, SelectKBest, f_classif\n",
    "from sklearn.model_selection import cross_val_score \n",
    "import matplotlib.pyplot as plt\n",
    "from sklearn.metrics import confusion_matrix, f1_score\n",
    "from sklearn.model_selection import cross_val_predict\n",
    "from sklearn.metrics import accuracy_score, roc_curve, auc\n",
    "from skopt.space import Real, Categorical, Integer\n",
    "from skopt import BayesSearchCV\n",
    "from sklearn.preprocessing import label_binarize\n",
    "from sklearn.multiclass import OneVsRestClassifier\n",
    "from sklearn.model_selection import train_test_split\n",
    "import xgboost as xgb\n",
    "\n",
    "#Load data from csv file\n",
    "data = pd.read_csv(\"data1NormWithColNamesRowNames.csv\")\n",
    "data.head(10) \n",
    "\n",
    "data.set_index(\"Unnamed: 0\", inplace = True)\n",
    "data.index.name = None\n",
    "\n",
    "X = data.iloc[:, data.columns != 'assigned_cluster'].values\n",
    "#X=data.iloc[:,0:4915]\n",
    "X = np.absolute(X)\n",
    "\n",
    "y = data.iloc[:,data.columns == 'assigned_cluster'].values.ravel()\n",
    "\n",
    "               "
   ]
  },
  {
   "cell_type": "code",
   "execution_count": 5,
   "id": "86f7aac5",
   "metadata": {},
   "outputs": [],
   "source": [
    "classifier=xgb.XGBClassifier(use_label_encoder=False)"
   ]
  },
  {
   "cell_type": "code",
   "execution_count": 6,
   "id": "df04aaf4",
   "metadata": {},
   "outputs": [
    {
     "name": "stdout",
     "output_type": "stream",
     "text": [
      "Fitting 10 folds for each of 1 candidates, totalling 10 fits\n"
     ]
    },
    {
     "name": "stderr",
     "output_type": "stream",
     "text": [
      "/Users/Yash/opt/anaconda3/envs/Om_sai_ram/lib/python3.9/site-packages/sklearn/model_selection/_split.py:676: UserWarning: The least populated class in y has only 2 members, which is less than n_splits=10.\n",
      "  warnings.warn(\n",
      "/Users/Yash/opt/anaconda3/envs/Om_sai_ram/lib/python3.9/site-packages/xgboost/compat.py:36: FutureWarning: pandas.Int64Index is deprecated and will be removed from pandas in a future version. Use pandas.Index with the appropriate dtype instead.\n",
      "  from pandas import MultiIndex, Int64Index\n",
      "/Users/Yash/opt/anaconda3/envs/Om_sai_ram/lib/python3.9/site-packages/xgboost/compat.py:36: FutureWarning: pandas.Int64Index is deprecated and will be removed from pandas in a future version. Use pandas.Index with the appropriate dtype instead.\n",
      "  from pandas import MultiIndex, Int64Index\n",
      "/Users/Yash/opt/anaconda3/envs/Om_sai_ram/lib/python3.9/site-packages/xgboost/compat.py:36: FutureWarning: pandas.Int64Index is deprecated and will be removed from pandas in a future version. Use pandas.Index with the appropriate dtype instead.\n",
      "  from pandas import MultiIndex, Int64Index\n",
      "/Users/Yash/opt/anaconda3/envs/Om_sai_ram/lib/python3.9/site-packages/xgboost/compat.py:36: FutureWarning: pandas.Int64Index is deprecated and will be removed from pandas in a future version. Use pandas.Index with the appropriate dtype instead.\n",
      "  from pandas import MultiIndex, Int64Index\n",
      "/Users/Yash/opt/anaconda3/envs/Om_sai_ram/lib/python3.9/site-packages/xgboost/compat.py:36: FutureWarning: pandas.Int64Index is deprecated and will be removed from pandas in a future version. Use pandas.Index with the appropriate dtype instead.\n",
      "  from pandas import MultiIndex, Int64Index\n",
      "/Users/Yash/opt/anaconda3/envs/Om_sai_ram/lib/python3.9/site-packages/xgboost/compat.py:36: FutureWarning: pandas.Int64Index is deprecated and will be removed from pandas in a future version. Use pandas.Index with the appropriate dtype instead.\n",
      "  from pandas import MultiIndex, Int64Index\n",
      "/Users/Yash/opt/anaconda3/envs/Om_sai_ram/lib/python3.9/site-packages/xgboost/compat.py:36: FutureWarning: pandas.Int64Index is deprecated and will be removed from pandas in a future version. Use pandas.Index with the appropriate dtype instead.\n",
      "  from pandas import MultiIndex, Int64Index\n",
      "/Users/Yash/opt/anaconda3/envs/Om_sai_ram/lib/python3.9/site-packages/xgboost/compat.py:36: FutureWarning: pandas.Int64Index is deprecated and will be removed from pandas in a future version. Use pandas.Index with the appropriate dtype instead.\n",
      "  from pandas import MultiIndex, Int64Index\n"
     ]
    },
    {
     "name": "stdout",
     "output_type": "stream",
     "text": [
      "Fitting 10 folds for each of 1 candidates, totalling 10 fits\n"
     ]
    },
    {
     "name": "stderr",
     "output_type": "stream",
     "text": [
      "/Users/Yash/opt/anaconda3/envs/Om_sai_ram/lib/python3.9/site-packages/sklearn/model_selection/_split.py:676: UserWarning: The least populated class in y has only 2 members, which is less than n_splits=10.\n",
      "  warnings.warn(\n"
     ]
    },
    {
     "name": "stdout",
     "output_type": "stream",
     "text": [
      "Fitting 10 folds for each of 1 candidates, totalling 10 fits\n"
     ]
    },
    {
     "name": "stderr",
     "output_type": "stream",
     "text": [
      "/Users/Yash/opt/anaconda3/envs/Om_sai_ram/lib/python3.9/site-packages/sklearn/model_selection/_split.py:676: UserWarning: The least populated class in y has only 2 members, which is less than n_splits=10.\n",
      "  warnings.warn(\n"
     ]
    },
    {
     "name": "stdout",
     "output_type": "stream",
     "text": [
      "Fitting 10 folds for each of 1 candidates, totalling 10 fits\n"
     ]
    },
    {
     "name": "stderr",
     "output_type": "stream",
     "text": [
      "/Users/Yash/opt/anaconda3/envs/Om_sai_ram/lib/python3.9/site-packages/sklearn/model_selection/_split.py:676: UserWarning: The least populated class in y has only 2 members, which is less than n_splits=10.\n",
      "  warnings.warn(\n"
     ]
    },
    {
     "name": "stdout",
     "output_type": "stream",
     "text": [
      "Fitting 10 folds for each of 1 candidates, totalling 10 fits\n"
     ]
    },
    {
     "name": "stderr",
     "output_type": "stream",
     "text": [
      "/Users/Yash/opt/anaconda3/envs/Om_sai_ram/lib/python3.9/site-packages/sklearn/model_selection/_split.py:676: UserWarning: The least populated class in y has only 2 members, which is less than n_splits=10.\n",
      "  warnings.warn(\n"
     ]
    },
    {
     "name": "stdout",
     "output_type": "stream",
     "text": [
      "Fitting 10 folds for each of 1 candidates, totalling 10 fits\n"
     ]
    },
    {
     "name": "stderr",
     "output_type": "stream",
     "text": [
      "/Users/Yash/opt/anaconda3/envs/Om_sai_ram/lib/python3.9/site-packages/sklearn/model_selection/_split.py:676: UserWarning: The least populated class in y has only 2 members, which is less than n_splits=10.\n",
      "  warnings.warn(\n"
     ]
    },
    {
     "name": "stdout",
     "output_type": "stream",
     "text": [
      "Fitting 10 folds for each of 1 candidates, totalling 10 fits\n"
     ]
    },
    {
     "name": "stderr",
     "output_type": "stream",
     "text": [
      "/Users/Yash/opt/anaconda3/envs/Om_sai_ram/lib/python3.9/site-packages/sklearn/model_selection/_split.py:676: UserWarning: The least populated class in y has only 2 members, which is less than n_splits=10.\n",
      "  warnings.warn(\n"
     ]
    },
    {
     "name": "stdout",
     "output_type": "stream",
     "text": [
      "[CV 4/10; 1/1] START colsample_bytree=0.5, gamma=0.3, learning_rate=0.2, max_depth=10, min_child_weight=7\n",
      "[14:30:43] WARNING: /var/folders/sy/f16zz6x50xz3113nwtb9bvq00000gp/T/abs_44tbtwf8c1/croots/recipe/xgboost-split_1659548960882/work/src/learner.cc:1115: Starting in XGBoost 1.3.0, the default evaluation metric used with the objective 'multi:softprob' was changed from 'merror' to 'mlogloss'. Explicitly set eval_metric if you'd like to restore the old behavior.\n",
      "[CV 4/10; 1/1] END colsample_bytree=0.5, gamma=0.3, learning_rate=0.2, max_depth=10, min_child_weight=7;, score=0.984 total time= 2.5min\n",
      "[CV 8/10; 1/1] START colsample_bytree=0.4, gamma=0.4, learning_rate=0.3, max_depth=8, min_child_weight=3\n",
      "[14:33:53] WARNING: /var/folders/sy/f16zz6x50xz3113nwtb9bvq00000gp/T/abs_44tbtwf8c1/croots/recipe/xgboost-split_1659548960882/work/src/learner.cc:1115: Starting in XGBoost 1.3.0, the default evaluation metric used with the objective 'multi:softprob' was changed from 'merror' to 'mlogloss'. Explicitly set eval_metric if you'd like to restore the old behavior.\n",
      "[CV 8/10; 1/1] END colsample_bytree=0.4, gamma=0.4, learning_rate=0.3, max_depth=8, min_child_weight=3;, score=0.969 total time= 2.2min\n",
      "[CV 4/10; 1/1] START colsample_bytree=0.5, gamma=0.0, learning_rate=0.15, max_depth=4, min_child_weight=3\n",
      "[14:36:33] WARNING: /var/folders/sy/f16zz6x50xz3113nwtb9bvq00000gp/T/abs_44tbtwf8c1/croots/recipe/xgboost-split_1659548960882/work/src/learner.cc:1115: Starting in XGBoost 1.3.0, the default evaluation metric used with the objective 'multi:softprob' was changed from 'merror' to 'mlogloss'. Explicitly set eval_metric if you'd like to restore the old behavior.\n",
      "[CV 4/10; 1/1] END colsample_bytree=0.5, gamma=0.0, learning_rate=0.15, max_depth=4, min_child_weight=3;, score=0.995 total time= 2.8min\n",
      "[CV 6/10; 1/1] START colsample_bytree=0.3, gamma=0.3, learning_rate=0.15, max_depth=6, min_child_weight=5\n",
      "[14:40:01] WARNING: /var/folders/sy/f16zz6x50xz3113nwtb9bvq00000gp/T/abs_44tbtwf8c1/croots/recipe/xgboost-split_1659548960882/work/src/learner.cc:1115: Starting in XGBoost 1.3.0, the default evaluation metric used with the objective 'multi:softprob' was changed from 'merror' to 'mlogloss'. Explicitly set eval_metric if you'd like to restore the old behavior.\n",
      "[CV 6/10; 1/1] END colsample_bytree=0.3, gamma=0.3, learning_rate=0.15, max_depth=6, min_child_weight=5;, score=0.959 total time= 1.8min\n",
      "[CV 9/10; 1/1] START colsample_bytree=0.3, gamma=0.3, learning_rate=0.15, max_depth=6, min_child_weight=5\n",
      "[14:41:51] WARNING: /var/folders/sy/f16zz6x50xz3113nwtb9bvq00000gp/T/abs_44tbtwf8c1/croots/recipe/xgboost-split_1659548960882/work/src/learner.cc:1115: Starting in XGBoost 1.3.0, the default evaluation metric used with the objective 'multi:softprob' was changed from 'merror' to 'mlogloss'. Explicitly set eval_metric if you'd like to restore the old behavior.\n",
      "[CV 9/10; 1/1] END colsample_bytree=0.3, gamma=0.3, learning_rate=0.15, max_depth=6, min_child_weight=5;, score=0.974 total time=  28.8s\n",
      "[CV 3/10; 1/1] START colsample_bytree=0.4, gamma=0.1, learning_rate=0.25, max_depth=5, min_child_weight=3\n",
      "[14:42:20] WARNING: /var/folders/sy/f16zz6x50xz3113nwtb9bvq00000gp/T/abs_44tbtwf8c1/croots/recipe/xgboost-split_1659548960882/work/src/learner.cc:1115: Starting in XGBoost 1.3.0, the default evaluation metric used with the objective 'multi:softprob' was changed from 'merror' to 'mlogloss'. Explicitly set eval_metric if you'd like to restore the old behavior.\n",
      "[CV 3/10; 1/1] END colsample_bytree=0.4, gamma=0.1, learning_rate=0.25, max_depth=5, min_child_weight=3;, score=0.969 total time= 1.9min\n",
      "[CV 10/10; 1/1] START colsample_bytree=0.4, gamma=0.1, learning_rate=0.25, max_depth=5, min_child_weight=3\n",
      "[14:44:17] WARNING: /var/folders/sy/f16zz6x50xz3113nwtb9bvq00000gp/T/abs_44tbtwf8c1/croots/recipe/xgboost-split_1659548960882/work/src/learner.cc:1115: Starting in XGBoost 1.3.0, the default evaluation metric used with the objective 'multi:softprob' was changed from 'merror' to 'mlogloss'. Explicitly set eval_metric if you'd like to restore the old behavior.\n",
      "[CV 10/10; 1/1] END colsample_bytree=0.4, gamma=0.1, learning_rate=0.25, max_depth=5, min_child_weight=3;, score=0.953 total time=  30.2s\n",
      "[CV 3/10; 1/1] START colsample_bytree=0.7, gamma=0.4, learning_rate=0.25, max_depth=6, min_child_weight=3\n",
      "[14:44:49] WARNING: /var/folders/sy/f16zz6x50xz3113nwtb9bvq00000gp/T/abs_44tbtwf8c1/croots/recipe/xgboost-split_1659548960882/work/src/learner.cc:1115: Starting in XGBoost 1.3.0, the default evaluation metric used with the objective 'multi:softprob' was changed from 'merror' to 'mlogloss'. Explicitly set eval_metric if you'd like to restore the old behavior.\n",
      "[CV 3/10; 1/1] END colsample_bytree=0.7, gamma=0.4, learning_rate=0.25, max_depth=6, min_child_weight=3;, score=0.974 total time= 3.6min\n",
      "[CV 10/10; 1/1] START colsample_bytree=0.7, gamma=0.4, learning_rate=0.25, max_depth=6, min_child_weight=3\n",
      "[14:48:25] WARNING: /var/folders/sy/f16zz6x50xz3113nwtb9bvq00000gp/T/abs_44tbtwf8c1/croots/recipe/xgboost-split_1659548960882/work/src/learner.cc:1115: Starting in XGBoost 1.3.0, the default evaluation metric used with the objective 'multi:softprob' was changed from 'merror' to 'mlogloss'. Explicitly set eval_metric if you'd like to restore the old behavior.\n",
      "[CV 10/10; 1/1] END colsample_bytree=0.7, gamma=0.4, learning_rate=0.25, max_depth=6, min_child_weight=3;, score=0.953 total time=  59.5s\n",
      "[CV 2/10; 1/1] START colsample_bytree=0.7, gamma=0.3, learning_rate=0.15, max_depth=4, min_child_weight=3\n",
      "[14:49:25] WARNING: /var/folders/sy/f16zz6x50xz3113nwtb9bvq00000gp/T/abs_44tbtwf8c1/croots/recipe/xgboost-split_1659548960882/work/src/learner.cc:1115: Starting in XGBoost 1.3.0, the default evaluation metric used with the objective 'multi:softprob' was changed from 'merror' to 'mlogloss'. Explicitly set eval_metric if you'd like to restore the old behavior.\n",
      "[CV 2/10; 1/1] END colsample_bytree=0.7, gamma=0.3, learning_rate=0.15, max_depth=4, min_child_weight=3;, score=0.974 total time= 3.8min\n",
      "[CV 5/10; 1/1] START colsample_bytree=0.5, gamma=0.3, learning_rate=0.2, max_depth=10, min_child_weight=7\n",
      "[14:30:43] WARNING: /var/folders/sy/f16zz6x50xz3113nwtb9bvq00000gp/T/abs_44tbtwf8c1/croots/recipe/xgboost-split_1659548960882/work/src/learner.cc:1115: Starting in XGBoost 1.3.0, the default evaluation metric used with the objective 'multi:softprob' was changed from 'merror' to 'mlogloss'. Explicitly set eval_metric if you'd like to restore the old behavior.\n",
      "[CV 5/10; 1/1] END colsample_bytree=0.5, gamma=0.3, learning_rate=0.2, max_depth=10, min_child_weight=7;, score=0.974 total time= 2.5min\n",
      "[CV 3/10; 1/1] START colsample_bytree=0.4, gamma=0.4, learning_rate=0.3, max_depth=8, min_child_weight=3\n",
      "[14:33:52] WARNING: /var/folders/sy/f16zz6x50xz3113nwtb9bvq00000gp/T/abs_44tbtwf8c1/croots/recipe/xgboost-split_1659548960882/work/src/learner.cc:1115: Starting in XGBoost 1.3.0, the default evaluation metric used with the objective 'multi:softprob' was changed from 'merror' to 'mlogloss'. Explicitly set eval_metric if you'd like to restore the old behavior.\n",
      "[CV 3/10; 1/1] END colsample_bytree=0.4, gamma=0.4, learning_rate=0.3, max_depth=8, min_child_weight=3;, score=0.969 total time= 2.1min\n",
      "[CV 10/10; 1/1] START colsample_bytree=0.4, gamma=0.4, learning_rate=0.3, max_depth=8, min_child_weight=3\n",
      "[14:35:58] WARNING: /var/folders/sy/f16zz6x50xz3113nwtb9bvq00000gp/T/abs_44tbtwf8c1/croots/recipe/xgboost-split_1659548960882/work/src/learner.cc:1115: Starting in XGBoost 1.3.0, the default evaluation metric used with the objective 'multi:softprob' was changed from 'merror' to 'mlogloss'. Explicitly set eval_metric if you'd like to restore the old behavior.\n",
      "[CV 10/10; 1/1] END colsample_bytree=0.4, gamma=0.4, learning_rate=0.3, max_depth=8, min_child_weight=3;, score=0.953 total time=  33.7s\n",
      "[CV 5/10; 1/1] START colsample_bytree=0.5, gamma=0.0, learning_rate=0.15, max_depth=4, min_child_weight=3\n",
      "[14:36:33] WARNING: /var/folders/sy/f16zz6x50xz3113nwtb9bvq00000gp/T/abs_44tbtwf8c1/croots/recipe/xgboost-split_1659548960882/work/src/learner.cc:1115: Starting in XGBoost 1.3.0, the default evaluation metric used with the objective 'multi:softprob' was changed from 'merror' to 'mlogloss'. Explicitly set eval_metric if you'd like to restore the old behavior.\n",
      "[CV 5/10; 1/1] END colsample_bytree=0.5, gamma=0.0, learning_rate=0.15, max_depth=4, min_child_weight=3;, score=0.979 total time= 2.8min\n",
      "[CV 8/10; 1/1] START colsample_bytree=0.3, gamma=0.3, learning_rate=0.15, max_depth=6, min_child_weight=5\n",
      "[14:40:01] WARNING: /var/folders/sy/f16zz6x50xz3113nwtb9bvq00000gp/T/abs_44tbtwf8c1/croots/recipe/xgboost-split_1659548960882/work/src/learner.cc:1115: Starting in XGBoost 1.3.0, the default evaluation metric used with the objective 'multi:softprob' was changed from 'merror' to 'mlogloss'. Explicitly set eval_metric if you'd like to restore the old behavior.\n",
      "[CV 8/10; 1/1] END colsample_bytree=0.3, gamma=0.3, learning_rate=0.15, max_depth=6, min_child_weight=5;, score=0.974 total time= 1.9min\n",
      "[CV 1/10; 1/1] START colsample_bytree=0.4, gamma=0.1, learning_rate=0.25, max_depth=5, min_child_weight=3\n",
      "[14:42:20] WARNING: /var/folders/sy/f16zz6x50xz3113nwtb9bvq00000gp/T/abs_44tbtwf8c1/croots/recipe/xgboost-split_1659548960882/work/src/learner.cc:1115: Starting in XGBoost 1.3.0, the default evaluation metric used with the objective 'multi:softprob' was changed from 'merror' to 'mlogloss'. Explicitly set eval_metric if you'd like to restore the old behavior.\n",
      "[CV 1/10; 1/1] END colsample_bytree=0.4, gamma=0.1, learning_rate=0.25, max_depth=5, min_child_weight=3;, score=0.984 total time= 2.0min\n",
      "[CV 5/10; 1/1] START colsample_bytree=0.7, gamma=0.4, learning_rate=0.25, max_depth=6, min_child_weight=3\n",
      "[14:44:49] WARNING: /var/folders/sy/f16zz6x50xz3113nwtb9bvq00000gp/T/abs_44tbtwf8c1/croots/recipe/xgboost-split_1659548960882/work/src/learner.cc:1115: Starting in XGBoost 1.3.0, the default evaluation metric used with the objective 'multi:softprob' was changed from 'merror' to 'mlogloss'. Explicitly set eval_metric if you'd like to restore the old behavior.\n",
      "[CV 5/10; 1/1] END colsample_bytree=0.7, gamma=0.4, learning_rate=0.25, max_depth=6, min_child_weight=3;, score=0.969 total time= 3.6min\n",
      "[CV 1/10; 1/1] START colsample_bytree=0.7, gamma=0.3, learning_rate=0.15, max_depth=4, min_child_weight=3\n",
      "[14:49:25] WARNING: /var/folders/sy/f16zz6x50xz3113nwtb9bvq00000gp/T/abs_44tbtwf8c1/croots/recipe/xgboost-split_1659548960882/work/src/learner.cc:1115: Starting in XGBoost 1.3.0, the default evaluation metric used with the objective 'multi:softprob' was changed from 'merror' to 'mlogloss'. Explicitly set eval_metric if you'd like to restore the old behavior.\n",
      "[CV 1/10; 1/1] END colsample_bytree=0.7, gamma=0.3, learning_rate=0.15, max_depth=4, min_child_weight=3;, score=0.979 total time= 3.8min\n"
     ]
    },
    {
     "name": "stdout",
     "output_type": "stream",
     "text": [
      "[CV 1/10; 1/1] START colsample_bytree=0.5, gamma=0.3, learning_rate=0.2, max_depth=10, min_child_weight=7\n",
      "[14:30:43] WARNING: /var/folders/sy/f16zz6x50xz3113nwtb9bvq00000gp/T/abs_44tbtwf8c1/croots/recipe/xgboost-split_1659548960882/work/src/learner.cc:1115: Starting in XGBoost 1.3.0, the default evaluation metric used with the objective 'multi:softprob' was changed from 'merror' to 'mlogloss'. Explicitly set eval_metric if you'd like to restore the old behavior.\n",
      "[CV 1/10; 1/1] END colsample_bytree=0.5, gamma=0.3, learning_rate=0.2, max_depth=10, min_child_weight=7;, score=0.984 total time= 2.6min\n",
      "[CV 6/10; 1/1] START colsample_bytree=0.4, gamma=0.4, learning_rate=0.3, max_depth=8, min_child_weight=3\n",
      "[14:33:52] WARNING: /var/folders/sy/f16zz6x50xz3113nwtb9bvq00000gp/T/abs_44tbtwf8c1/croots/recipe/xgboost-split_1659548960882/work/src/learner.cc:1115: Starting in XGBoost 1.3.0, the default evaluation metric used with the objective 'multi:softprob' was changed from 'merror' to 'mlogloss'. Explicitly set eval_metric if you'd like to restore the old behavior.\n",
      "[CV 6/10; 1/1] END colsample_bytree=0.4, gamma=0.4, learning_rate=0.3, max_depth=8, min_child_weight=3;, score=0.964 total time= 2.1min\n",
      "[CV 9/10; 1/1] START colsample_bytree=0.4, gamma=0.4, learning_rate=0.3, max_depth=8, min_child_weight=3\n",
      "[14:35:57] WARNING: /var/folders/sy/f16zz6x50xz3113nwtb9bvq00000gp/T/abs_44tbtwf8c1/croots/recipe/xgboost-split_1659548960882/work/src/learner.cc:1115: Starting in XGBoost 1.3.0, the default evaluation metric used with the objective 'multi:softprob' was changed from 'merror' to 'mlogloss'. Explicitly set eval_metric if you'd like to restore the old behavior.\n",
      "[CV 9/10; 1/1] END colsample_bytree=0.4, gamma=0.4, learning_rate=0.3, max_depth=8, min_child_weight=3;, score=0.974 total time=  35.5s\n",
      "[CV 3/10; 1/1] START colsample_bytree=0.5, gamma=0.0, learning_rate=0.15, max_depth=4, min_child_weight=3\n",
      "[14:36:33] WARNING: /var/folders/sy/f16zz6x50xz3113nwtb9bvq00000gp/T/abs_44tbtwf8c1/croots/recipe/xgboost-split_1659548960882/work/src/learner.cc:1115: Starting in XGBoost 1.3.0, the default evaluation metric used with the objective 'multi:softprob' was changed from 'merror' to 'mlogloss'. Explicitly set eval_metric if you'd like to restore the old behavior.\n",
      "[CV 3/10; 1/1] END colsample_bytree=0.5, gamma=0.0, learning_rate=0.15, max_depth=4, min_child_weight=3;, score=0.969 total time= 2.8min\n",
      "[CV 1/10; 1/1] START colsample_bytree=0.3, gamma=0.3, learning_rate=0.15, max_depth=6, min_child_weight=5\n",
      "[14:40:01] WARNING: /var/folders/sy/f16zz6x50xz3113nwtb9bvq00000gp/T/abs_44tbtwf8c1/croots/recipe/xgboost-split_1659548960882/work/src/learner.cc:1115: Starting in XGBoost 1.3.0, the default evaluation metric used with the objective 'multi:softprob' was changed from 'merror' to 'mlogloss'. Explicitly set eval_metric if you'd like to restore the old behavior.\n",
      "[CV 1/10; 1/1] END colsample_bytree=0.3, gamma=0.3, learning_rate=0.15, max_depth=6, min_child_weight=5;, score=0.979 total time= 1.9min\n",
      "[CV 7/10; 1/1] START colsample_bytree=0.4, gamma=0.1, learning_rate=0.25, max_depth=5, min_child_weight=3\n",
      "[14:42:20] WARNING: /var/folders/sy/f16zz6x50xz3113nwtb9bvq00000gp/T/abs_44tbtwf8c1/croots/recipe/xgboost-split_1659548960882/work/src/learner.cc:1115: Starting in XGBoost 1.3.0, the default evaluation metric used with the objective 'multi:softprob' was changed from 'merror' to 'mlogloss'. Explicitly set eval_metric if you'd like to restore the old behavior.\n",
      "[CV 7/10; 1/1] END colsample_bytree=0.4, gamma=0.1, learning_rate=0.25, max_depth=5, min_child_weight=3;, score=0.969 total time= 2.0min\n",
      "[CV 1/10; 1/1] START colsample_bytree=0.7, gamma=0.4, learning_rate=0.25, max_depth=6, min_child_weight=3\n",
      "[14:44:49] WARNING: /var/folders/sy/f16zz6x50xz3113nwtb9bvq00000gp/T/abs_44tbtwf8c1/croots/recipe/xgboost-split_1659548960882/work/src/learner.cc:1115: Starting in XGBoost 1.3.0, the default evaluation metric used with the objective 'multi:softprob' was changed from 'merror' to 'mlogloss'. Explicitly set eval_metric if you'd like to restore the old behavior.\n",
      "[CV 1/10; 1/1] END colsample_bytree=0.7, gamma=0.4, learning_rate=0.25, max_depth=6, min_child_weight=3;, score=0.979 total time= 3.7min\n",
      "[CV 7/10; 1/1] START colsample_bytree=0.7, gamma=0.3, learning_rate=0.15, max_depth=4, min_child_weight=3\n",
      "[14:49:25] WARNING: /var/folders/sy/f16zz6x50xz3113nwtb9bvq00000gp/T/abs_44tbtwf8c1/croots/recipe/xgboost-split_1659548960882/work/src/learner.cc:1115: Starting in XGBoost 1.3.0, the default evaluation metric used with the objective 'multi:softprob' was changed from 'merror' to 'mlogloss'. Explicitly set eval_metric if you'd like to restore the old behavior.\n",
      "[CV 7/10; 1/1] END colsample_bytree=0.7, gamma=0.3, learning_rate=0.15, max_depth=4, min_child_weight=3;, score=0.959 total time= 3.8min\n",
      "[CV 8/10; 1/1] START colsample_bytree=0.5, gamma=0.3, learning_rate=0.2, max_depth=10, min_child_weight=7\n",
      "[14:30:43] WARNING: /var/folders/sy/f16zz6x50xz3113nwtb9bvq00000gp/T/abs_44tbtwf8c1/croots/recipe/xgboost-split_1659548960882/work/src/learner.cc:1115: Starting in XGBoost 1.3.0, the default evaluation metric used with the objective 'multi:softprob' was changed from 'merror' to 'mlogloss'. Explicitly set eval_metric if you'd like to restore the old behavior.\n",
      "[CV 8/10; 1/1] END colsample_bytree=0.5, gamma=0.3, learning_rate=0.2, max_depth=10, min_child_weight=7;, score=0.974 total time= 2.5min\n",
      "[CV 5/10; 1/1] START colsample_bytree=0.4, gamma=0.4, learning_rate=0.3, max_depth=8, min_child_weight=3\n",
      "[14:33:52] WARNING: /var/folders/sy/f16zz6x50xz3113nwtb9bvq00000gp/T/abs_44tbtwf8c1/croots/recipe/xgboost-split_1659548960882/work/src/learner.cc:1115: Starting in XGBoost 1.3.0, the default evaluation metric used with the objective 'multi:softprob' was changed from 'merror' to 'mlogloss'. Explicitly set eval_metric if you'd like to restore the old behavior.\n",
      "[CV 5/10; 1/1] END colsample_bytree=0.4, gamma=0.4, learning_rate=0.3, max_depth=8, min_child_weight=3;, score=0.979 total time= 2.2min\n",
      "[CV 8/10; 1/1] START colsample_bytree=0.5, gamma=0.0, learning_rate=0.15, max_depth=4, min_child_weight=3\n",
      "[14:36:33] WARNING: /var/folders/sy/f16zz6x50xz3113nwtb9bvq00000gp/T/abs_44tbtwf8c1/croots/recipe/xgboost-split_1659548960882/work/src/learner.cc:1115: Starting in XGBoost 1.3.0, the default evaluation metric used with the objective 'multi:softprob' was changed from 'merror' to 'mlogloss'. Explicitly set eval_metric if you'd like to restore the old behavior.\n",
      "[CV 8/10; 1/1] END colsample_bytree=0.5, gamma=0.0, learning_rate=0.15, max_depth=4, min_child_weight=3;, score=0.979 total time= 2.8min\n",
      "[CV 5/10; 1/1] START colsample_bytree=0.3, gamma=0.3, learning_rate=0.15, max_depth=6, min_child_weight=5\n",
      "[14:40:01] WARNING: /var/folders/sy/f16zz6x50xz3113nwtb9bvq00000gp/T/abs_44tbtwf8c1/croots/recipe/xgboost-split_1659548960882/work/src/learner.cc:1115: Starting in XGBoost 1.3.0, the default evaluation metric used with the objective 'multi:softprob' was changed from 'merror' to 'mlogloss'. Explicitly set eval_metric if you'd like to restore the old behavior.\n",
      "[CV 5/10; 1/1] END colsample_bytree=0.3, gamma=0.3, learning_rate=0.15, max_depth=6, min_child_weight=5;, score=0.984 total time= 1.9min\n",
      "[CV 2/10; 1/1] START colsample_bytree=0.4, gamma=0.1, learning_rate=0.25, max_depth=5, min_child_weight=3\n",
      "[14:42:20] WARNING: /var/folders/sy/f16zz6x50xz3113nwtb9bvq00000gp/T/abs_44tbtwf8c1/croots/recipe/xgboost-split_1659548960882/work/src/learner.cc:1115: Starting in XGBoost 1.3.0, the default evaluation metric used with the objective 'multi:softprob' was changed from 'merror' to 'mlogloss'. Explicitly set eval_metric if you'd like to restore the old behavior.\n",
      "[CV 2/10; 1/1] END colsample_bytree=0.4, gamma=0.1, learning_rate=0.25, max_depth=5, min_child_weight=3;, score=0.974 total time= 2.0min\n",
      "[CV 7/10; 1/1] START colsample_bytree=0.7, gamma=0.4, learning_rate=0.25, max_depth=6, min_child_weight=3\n",
      "[14:44:49] WARNING: /var/folders/sy/f16zz6x50xz3113nwtb9bvq00000gp/T/abs_44tbtwf8c1/croots/recipe/xgboost-split_1659548960882/work/src/learner.cc:1115: Starting in XGBoost 1.3.0, the default evaluation metric used with the objective 'multi:softprob' was changed from 'merror' to 'mlogloss'. Explicitly set eval_metric if you'd like to restore the old behavior.\n",
      "[CV 7/10; 1/1] END colsample_bytree=0.7, gamma=0.4, learning_rate=0.25, max_depth=6, min_child_weight=3;, score=0.948 total time= 3.7min\n",
      "[CV 5/10; 1/1] START colsample_bytree=0.7, gamma=0.3, learning_rate=0.15, max_depth=4, min_child_weight=3\n",
      "[14:49:25] WARNING: /var/folders/sy/f16zz6x50xz3113nwtb9bvq00000gp/T/abs_44tbtwf8c1/croots/recipe/xgboost-split_1659548960882/work/src/learner.cc:1115: Starting in XGBoost 1.3.0, the default evaluation metric used with the objective 'multi:softprob' was changed from 'merror' to 'mlogloss'. Explicitly set eval_metric if you'd like to restore the old behavior.\n",
      "[CV 5/10; 1/1] END colsample_bytree=0.7, gamma=0.3, learning_rate=0.15, max_depth=4, min_child_weight=3;, score=0.969 total time= 3.8min\n"
     ]
    },
    {
     "name": "stdout",
     "output_type": "stream",
     "text": [
      "[CV 6/10; 1/1] START colsample_bytree=0.5, gamma=0.3, learning_rate=0.2, max_depth=10, min_child_weight=7\n",
      "[14:30:42] WARNING: /var/folders/sy/f16zz6x50xz3113nwtb9bvq00000gp/T/abs_44tbtwf8c1/croots/recipe/xgboost-split_1659548960882/work/src/learner.cc:1115: Starting in XGBoost 1.3.0, the default evaluation metric used with the objective 'multi:softprob' was changed from 'merror' to 'mlogloss'. Explicitly set eval_metric if you'd like to restore the old behavior.\n",
      "[CV 6/10; 1/1] END colsample_bytree=0.5, gamma=0.3, learning_rate=0.2, max_depth=10, min_child_weight=7;, score=0.959 total time= 2.5min\n",
      "[CV 9/10; 1/1] START colsample_bytree=0.5, gamma=0.3, learning_rate=0.2, max_depth=10, min_child_weight=7\n",
      "[14:33:10] WARNING: /var/folders/sy/f16zz6x50xz3113nwtb9bvq00000gp/T/abs_44tbtwf8c1/croots/recipe/xgboost-split_1659548960882/work/src/learner.cc:1115: Starting in XGBoost 1.3.0, the default evaluation metric used with the objective 'multi:softprob' was changed from 'merror' to 'mlogloss'. Explicitly set eval_metric if you'd like to restore the old behavior.\n",
      "[CV 9/10; 1/1] END colsample_bytree=0.5, gamma=0.3, learning_rate=0.2, max_depth=10, min_child_weight=7;, score=0.964 total time=  41.5s\n",
      "[CV 2/10; 1/1] START colsample_bytree=0.4, gamma=0.4, learning_rate=0.3, max_depth=8, min_child_weight=3\n",
      "[14:33:52] WARNING: /var/folders/sy/f16zz6x50xz3113nwtb9bvq00000gp/T/abs_44tbtwf8c1/croots/recipe/xgboost-split_1659548960882/work/src/learner.cc:1115: Starting in XGBoost 1.3.0, the default evaluation metric used with the objective 'multi:softprob' was changed from 'merror' to 'mlogloss'. Explicitly set eval_metric if you'd like to restore the old behavior.\n",
      "[CV 2/10; 1/1] END colsample_bytree=0.4, gamma=0.4, learning_rate=0.3, max_depth=8, min_child_weight=3;, score=0.974 total time= 2.2min\n",
      "[CV 1/10; 1/1] START colsample_bytree=0.5, gamma=0.0, learning_rate=0.15, max_depth=4, min_child_weight=3\n",
      "[14:36:33] WARNING: /var/folders/sy/f16zz6x50xz3113nwtb9bvq00000gp/T/abs_44tbtwf8c1/croots/recipe/xgboost-split_1659548960882/work/src/learner.cc:1115: Starting in XGBoost 1.3.0, the default evaluation metric used with the objective 'multi:softprob' was changed from 'merror' to 'mlogloss'. Explicitly set eval_metric if you'd like to restore the old behavior.\n",
      "[CV 1/10; 1/1] END colsample_bytree=0.5, gamma=0.0, learning_rate=0.15, max_depth=4, min_child_weight=3;, score=0.990 total time= 2.8min\n",
      "[CV 7/10; 1/1] START colsample_bytree=0.3, gamma=0.3, learning_rate=0.15, max_depth=6, min_child_weight=5\n",
      "[14:40:01] WARNING: /var/folders/sy/f16zz6x50xz3113nwtb9bvq00000gp/T/abs_44tbtwf8c1/croots/recipe/xgboost-split_1659548960882/work/src/learner.cc:1115: Starting in XGBoost 1.3.0, the default evaluation metric used with the objective 'multi:softprob' was changed from 'merror' to 'mlogloss'. Explicitly set eval_metric if you'd like to restore the old behavior.\n",
      "[CV 7/10; 1/1] END colsample_bytree=0.3, gamma=0.3, learning_rate=0.15, max_depth=6, min_child_weight=5;, score=0.959 total time= 1.9min\n",
      "[CV 8/10; 1/1] START colsample_bytree=0.4, gamma=0.1, learning_rate=0.25, max_depth=5, min_child_weight=3\n",
      "[14:42:21] WARNING: /var/folders/sy/f16zz6x50xz3113nwtb9bvq00000gp/T/abs_44tbtwf8c1/croots/recipe/xgboost-split_1659548960882/work/src/learner.cc:1115: Starting in XGBoost 1.3.0, the default evaluation metric used with the objective 'multi:softprob' was changed from 'merror' to 'mlogloss'. Explicitly set eval_metric if you'd like to restore the old behavior.\n",
      "[CV 8/10; 1/1] END colsample_bytree=0.4, gamma=0.1, learning_rate=0.25, max_depth=5, min_child_weight=3;, score=0.979 total time= 2.0min\n",
      "[CV 4/10; 1/1] START colsample_bytree=0.7, gamma=0.4, learning_rate=0.25, max_depth=6, min_child_weight=3\n",
      "[14:44:50] WARNING: /var/folders/sy/f16zz6x50xz3113nwtb9bvq00000gp/T/abs_44tbtwf8c1/croots/recipe/xgboost-split_1659548960882/work/src/learner.cc:1115: Starting in XGBoost 1.3.0, the default evaluation metric used with the objective 'multi:softprob' was changed from 'merror' to 'mlogloss'. Explicitly set eval_metric if you'd like to restore the old behavior.\n",
      "[CV 4/10; 1/1] END colsample_bytree=0.7, gamma=0.4, learning_rate=0.25, max_depth=6, min_child_weight=3;, score=0.979 total time= 3.7min\n",
      "[CV 4/10; 1/1] START colsample_bytree=0.7, gamma=0.3, learning_rate=0.15, max_depth=4, min_child_weight=3\n",
      "[14:49:25] WARNING: /var/folders/sy/f16zz6x50xz3113nwtb9bvq00000gp/T/abs_44tbtwf8c1/croots/recipe/xgboost-split_1659548960882/work/src/learner.cc:1115: Starting in XGBoost 1.3.0, the default evaluation metric used with the objective 'multi:softprob' was changed from 'merror' to 'mlogloss'. Explicitly set eval_metric if you'd like to restore the old behavior.\n",
      "[CV 4/10; 1/1] END colsample_bytree=0.7, gamma=0.3, learning_rate=0.15, max_depth=4, min_child_weight=3;, score=0.984 total time= 3.8min\n",
      "Fitting 10 folds for each of 1 candidates, totalling 10 fits\n"
     ]
    },
    {
     "name": "stderr",
     "output_type": "stream",
     "text": [
      "/Users/Yash/opt/anaconda3/envs/Om_sai_ram/lib/python3.9/site-packages/sklearn/model_selection/_split.py:676: UserWarning: The least populated class in y has only 2 members, which is less than n_splits=10.\n",
      "  warnings.warn(\n",
      "/Users/Yash/opt/anaconda3/envs/Om_sai_ram/lib/python3.9/site-packages/xgboost/compat.py:36: FutureWarning: pandas.Int64Index is deprecated and will be removed from pandas in a future version. Use pandas.Index with the appropriate dtype instead.\n",
      "  from pandas import MultiIndex, Int64Index\n",
      "/Users/Yash/opt/anaconda3/envs/Om_sai_ram/lib/python3.9/site-packages/xgboost/compat.py:36: FutureWarning: pandas.Int64Index is deprecated and will be removed from pandas in a future version. Use pandas.Index with the appropriate dtype instead.\n",
      "  from pandas import MultiIndex, Int64Index\n",
      "/Users/Yash/opt/anaconda3/envs/Om_sai_ram/lib/python3.9/site-packages/xgboost/compat.py:36: FutureWarning: pandas.Int64Index is deprecated and will be removed from pandas in a future version. Use pandas.Index with the appropriate dtype instead.\n",
      "  from pandas import MultiIndex, Int64Index\n",
      "/Users/Yash/opt/anaconda3/envs/Om_sai_ram/lib/python3.9/site-packages/xgboost/compat.py:36: FutureWarning: pandas.Int64Index is deprecated and will be removed from pandas in a future version. Use pandas.Index with the appropriate dtype instead.\n",
      "  from pandas import MultiIndex, Int64Index\n",
      "/Users/Yash/opt/anaconda3/envs/Om_sai_ram/lib/python3.9/site-packages/xgboost/compat.py:36: FutureWarning: pandas.Int64Index is deprecated and will be removed from pandas in a future version. Use pandas.Index with the appropriate dtype instead.\n",
      "  from pandas import MultiIndex, Int64Index\n"
     ]
    },
    {
     "name": "stdout",
     "output_type": "stream",
     "text": [
      "Fitting 10 folds for each of 1 candidates, totalling 10 fits\n"
     ]
    },
    {
     "name": "stderr",
     "output_type": "stream",
     "text": [
      "/Users/Yash/opt/anaconda3/envs/Om_sai_ram/lib/python3.9/site-packages/sklearn/model_selection/_split.py:676: UserWarning: The least populated class in y has only 2 members, which is less than n_splits=10.\n",
      "  warnings.warn(\n"
     ]
    },
    {
     "name": "stdout",
     "output_type": "stream",
     "text": [
      "Fitting 10 folds for each of 1 candidates, totalling 10 fits\n"
     ]
    },
    {
     "name": "stderr",
     "output_type": "stream",
     "text": [
      "/Users/Yash/opt/anaconda3/envs/Om_sai_ram/lib/python3.9/site-packages/sklearn/model_selection/_split.py:676: UserWarning: The least populated class in y has only 2 members, which is less than n_splits=10.\n",
      "  warnings.warn(\n"
     ]
    },
    {
     "name": "stdout",
     "output_type": "stream",
     "text": [
      "Fitting 10 folds for each of 1 candidates, totalling 10 fits\n"
     ]
    },
    {
     "name": "stderr",
     "output_type": "stream",
     "text": [
      "/Users/Yash/opt/anaconda3/envs/Om_sai_ram/lib/python3.9/site-packages/sklearn/model_selection/_split.py:676: UserWarning: The least populated class in y has only 2 members, which is less than n_splits=10.\n",
      "  warnings.warn(\n"
     ]
    },
    {
     "name": "stdout",
     "output_type": "stream",
     "text": [
      "Fitting 10 folds for each of 1 candidates, totalling 10 fits\n"
     ]
    },
    {
     "name": "stderr",
     "output_type": "stream",
     "text": [
      "/Users/Yash/opt/anaconda3/envs/Om_sai_ram/lib/python3.9/site-packages/sklearn/model_selection/_split.py:676: UserWarning: The least populated class in y has only 2 members, which is less than n_splits=10.\n",
      "  warnings.warn(\n"
     ]
    },
    {
     "name": "stdout",
     "output_type": "stream",
     "text": [
      "Fitting 10 folds for each of 1 candidates, totalling 10 fits\n"
     ]
    },
    {
     "name": "stderr",
     "output_type": "stream",
     "text": [
      "/Users/Yash/opt/anaconda3/envs/Om_sai_ram/lib/python3.9/site-packages/sklearn/model_selection/_split.py:676: UserWarning: The least populated class in y has only 2 members, which is less than n_splits=10.\n",
      "  warnings.warn(\n"
     ]
    },
    {
     "name": "stdout",
     "output_type": "stream",
     "text": [
      "Fitting 10 folds for each of 1 candidates, totalling 10 fits\n"
     ]
    },
    {
     "name": "stderr",
     "output_type": "stream",
     "text": [
      "/Users/Yash/opt/anaconda3/envs/Om_sai_ram/lib/python3.9/site-packages/sklearn/model_selection/_split.py:676: UserWarning: The least populated class in y has only 2 members, which is less than n_splits=10.\n",
      "  warnings.warn(\n"
     ]
    },
    {
     "name": "stdout",
     "output_type": "stream",
     "text": [
      "Fitting 10 folds for each of 1 candidates, totalling 10 fits\n"
     ]
    },
    {
     "name": "stderr",
     "output_type": "stream",
     "text": [
      "/Users/Yash/opt/anaconda3/envs/Om_sai_ram/lib/python3.9/site-packages/sklearn/model_selection/_split.py:676: UserWarning: The least populated class in y has only 2 members, which is less than n_splits=10.\n",
      "  warnings.warn(\n"
     ]
    },
    {
     "name": "stdout",
     "output_type": "stream",
     "text": [
      "Fitting 10 folds for each of 1 candidates, totalling 10 fits\n"
     ]
    },
    {
     "name": "stderr",
     "output_type": "stream",
     "text": [
      "/Users/Yash/opt/anaconda3/envs/Om_sai_ram/lib/python3.9/site-packages/sklearn/model_selection/_split.py:676: UserWarning: The least populated class in y has only 2 members, which is less than n_splits=10.\n",
      "  warnings.warn(\n"
     ]
    },
    {
     "name": "stdout",
     "output_type": "stream",
     "text": [
      "Fitting 10 folds for each of 1 candidates, totalling 10 fits\n"
     ]
    },
    {
     "name": "stderr",
     "output_type": "stream",
     "text": [
      "/Users/Yash/opt/anaconda3/envs/Om_sai_ram/lib/python3.9/site-packages/sklearn/model_selection/_split.py:676: UserWarning: The least populated class in y has only 2 members, which is less than n_splits=10.\n",
      "  warnings.warn(\n"
     ]
    },
    {
     "name": "stdout",
     "output_type": "stream",
     "text": [
      "Fitting 10 folds for each of 1 candidates, totalling 10 fits\n"
     ]
    },
    {
     "name": "stderr",
     "output_type": "stream",
     "text": [
      "/Users/Yash/opt/anaconda3/envs/Om_sai_ram/lib/python3.9/site-packages/sklearn/model_selection/_split.py:676: UserWarning: The least populated class in y has only 2 members, which is less than n_splits=10.\n",
      "  warnings.warn(\n"
     ]
    },
    {
     "name": "stdout",
     "output_type": "stream",
     "text": [
      "Fitting 10 folds for each of 1 candidates, totalling 10 fits\n"
     ]
    },
    {
     "name": "stderr",
     "output_type": "stream",
     "text": [
      "/Users/Yash/opt/anaconda3/envs/Om_sai_ram/lib/python3.9/site-packages/sklearn/model_selection/_split.py:676: UserWarning: The least populated class in y has only 2 members, which is less than n_splits=10.\n",
      "  warnings.warn(\n"
     ]
    },
    {
     "name": "stdout",
     "output_type": "stream",
     "text": [
      "Fitting 10 folds for each of 1 candidates, totalling 10 fits\n"
     ]
    },
    {
     "name": "stderr",
     "output_type": "stream",
     "text": [
      "/Users/Yash/opt/anaconda3/envs/Om_sai_ram/lib/python3.9/site-packages/sklearn/model_selection/_split.py:676: UserWarning: The least populated class in y has only 2 members, which is less than n_splits=10.\n",
      "  warnings.warn(\n"
     ]
    },
    {
     "name": "stdout",
     "output_type": "stream",
     "text": [
      "Fitting 10 folds for each of 1 candidates, totalling 10 fits\n"
     ]
    },
    {
     "name": "stderr",
     "output_type": "stream",
     "text": [
      "/Users/Yash/opt/anaconda3/envs/Om_sai_ram/lib/python3.9/site-packages/sklearn/model_selection/_split.py:676: UserWarning: The least populated class in y has only 2 members, which is less than n_splits=10.\n",
      "  warnings.warn(\n"
     ]
    },
    {
     "name": "stdout",
     "output_type": "stream",
     "text": [
      "Fitting 10 folds for each of 1 candidates, totalling 10 fits\n"
     ]
    },
    {
     "name": "stderr",
     "output_type": "stream",
     "text": [
      "/Users/Yash/opt/anaconda3/envs/Om_sai_ram/lib/python3.9/site-packages/sklearn/model_selection/_split.py:676: UserWarning: The least populated class in y has only 2 members, which is less than n_splits=10.\n",
      "  warnings.warn(\n"
     ]
    },
    {
     "name": "stdout",
     "output_type": "stream",
     "text": [
      "Fitting 10 folds for each of 1 candidates, totalling 10 fits\n"
     ]
    },
    {
     "name": "stderr",
     "output_type": "stream",
     "text": [
      "/Users/Yash/opt/anaconda3/envs/Om_sai_ram/lib/python3.9/site-packages/sklearn/model_selection/_split.py:676: UserWarning: The least populated class in y has only 2 members, which is less than n_splits=10.\n",
      "  warnings.warn(\n"
     ]
    },
    {
     "name": "stdout",
     "output_type": "stream",
     "text": [
      "Fitting 10 folds for each of 1 candidates, totalling 10 fits\n"
     ]
    },
    {
     "name": "stderr",
     "output_type": "stream",
     "text": [
      "/Users/Yash/opt/anaconda3/envs/Om_sai_ram/lib/python3.9/site-packages/sklearn/model_selection/_split.py:676: UserWarning: The least populated class in y has only 2 members, which is less than n_splits=10.\n",
      "  warnings.warn(\n"
     ]
    },
    {
     "name": "stdout",
     "output_type": "stream",
     "text": [
      "Fitting 10 folds for each of 1 candidates, totalling 10 fits\n"
     ]
    },
    {
     "name": "stderr",
     "output_type": "stream",
     "text": [
      "/Users/Yash/opt/anaconda3/envs/Om_sai_ram/lib/python3.9/site-packages/sklearn/model_selection/_split.py:676: UserWarning: The least populated class in y has only 2 members, which is less than n_splits=10.\n",
      "  warnings.warn(\n"
     ]
    },
    {
     "name": "stdout",
     "output_type": "stream",
     "text": [
      "Fitting 10 folds for each of 1 candidates, totalling 10 fits\n"
     ]
    },
    {
     "name": "stderr",
     "output_type": "stream",
     "text": [
      "/Users/Yash/opt/anaconda3/envs/Om_sai_ram/lib/python3.9/site-packages/sklearn/model_selection/_split.py:676: UserWarning: The least populated class in y has only 2 members, which is less than n_splits=10.\n",
      "  warnings.warn(\n"
     ]
    },
    {
     "name": "stdout",
     "output_type": "stream",
     "text": [
      "Fitting 10 folds for each of 1 candidates, totalling 10 fits\n"
     ]
    },
    {
     "name": "stderr",
     "output_type": "stream",
     "text": [
      "/Users/Yash/opt/anaconda3/envs/Om_sai_ram/lib/python3.9/site-packages/sklearn/model_selection/_split.py:676: UserWarning: The least populated class in y has only 2 members, which is less than n_splits=10.\n",
      "  warnings.warn(\n"
     ]
    },
    {
     "name": "stdout",
     "output_type": "stream",
     "text": [
      "Fitting 10 folds for each of 1 candidates, totalling 10 fits\n"
     ]
    },
    {
     "name": "stderr",
     "output_type": "stream",
     "text": [
      "/Users/Yash/opt/anaconda3/envs/Om_sai_ram/lib/python3.9/site-packages/sklearn/model_selection/_split.py:676: UserWarning: The least populated class in y has only 2 members, which is less than n_splits=10.\n",
      "  warnings.warn(\n"
     ]
    },
    {
     "name": "stdout",
     "output_type": "stream",
     "text": [
      "Fitting 10 folds for each of 1 candidates, totalling 10 fits\n"
     ]
    },
    {
     "name": "stderr",
     "output_type": "stream",
     "text": [
      "/Users/Yash/opt/anaconda3/envs/Om_sai_ram/lib/python3.9/site-packages/sklearn/model_selection/_split.py:676: UserWarning: The least populated class in y has only 2 members, which is less than n_splits=10.\n",
      "  warnings.warn(\n"
     ]
    },
    {
     "name": "stdout",
     "output_type": "stream",
     "text": [
      "Fitting 10 folds for each of 1 candidates, totalling 10 fits\n"
     ]
    },
    {
     "name": "stderr",
     "output_type": "stream",
     "text": [
      "/Users/Yash/opt/anaconda3/envs/Om_sai_ram/lib/python3.9/site-packages/sklearn/model_selection/_split.py:676: UserWarning: The least populated class in y has only 2 members, which is less than n_splits=10.\n",
      "  warnings.warn(\n"
     ]
    },
    {
     "name": "stdout",
     "output_type": "stream",
     "text": [
      "[CV 3/10; 1/1] START colsample_bytree=0.5, gamma=0.3, learning_rate=0.2, max_depth=10, min_child_weight=7\n",
      "[14:30:43] WARNING: /var/folders/sy/f16zz6x50xz3113nwtb9bvq00000gp/T/abs_44tbtwf8c1/croots/recipe/xgboost-split_1659548960882/work/src/learner.cc:1115: Starting in XGBoost 1.3.0, the default evaluation metric used with the objective 'multi:softprob' was changed from 'merror' to 'mlogloss'. Explicitly set eval_metric if you'd like to restore the old behavior.\n",
      "[CV 3/10; 1/1] END colsample_bytree=0.5, gamma=0.3, learning_rate=0.2, max_depth=10, min_child_weight=7;, score=0.974 total time= 2.5min\n",
      "[CV 10/10; 1/1] START colsample_bytree=0.5, gamma=0.3, learning_rate=0.2, max_depth=10, min_child_weight=7\n",
      "[14:33:11] WARNING: /var/folders/sy/f16zz6x50xz3113nwtb9bvq00000gp/T/abs_44tbtwf8c1/croots/recipe/xgboost-split_1659548960882/work/src/learner.cc:1115: Starting in XGBoost 1.3.0, the default evaluation metric used with the objective 'multi:softprob' was changed from 'merror' to 'mlogloss'. Explicitly set eval_metric if you'd like to restore the old behavior.\n",
      "[CV 10/10; 1/1] END colsample_bytree=0.5, gamma=0.3, learning_rate=0.2, max_depth=10, min_child_weight=7;, score=0.953 total time=  40.4s\n",
      "[CV 4/10; 1/1] START colsample_bytree=0.4, gamma=0.4, learning_rate=0.3, max_depth=8, min_child_weight=3\n",
      "[14:33:53] WARNING: /var/folders/sy/f16zz6x50xz3113nwtb9bvq00000gp/T/abs_44tbtwf8c1/croots/recipe/xgboost-split_1659548960882/work/src/learner.cc:1115: Starting in XGBoost 1.3.0, the default evaluation metric used with the objective 'multi:softprob' was changed from 'merror' to 'mlogloss'. Explicitly set eval_metric if you'd like to restore the old behavior.\n",
      "[CV 4/10; 1/1] END colsample_bytree=0.4, gamma=0.4, learning_rate=0.3, max_depth=8, min_child_weight=3;, score=0.984 total time= 2.2min\n",
      "[CV 6/10; 1/1] START colsample_bytree=0.5, gamma=0.0, learning_rate=0.15, max_depth=4, min_child_weight=3\n",
      "[14:36:33] WARNING: /var/folders/sy/f16zz6x50xz3113nwtb9bvq00000gp/T/abs_44tbtwf8c1/croots/recipe/xgboost-split_1659548960882/work/src/learner.cc:1115: Starting in XGBoost 1.3.0, the default evaluation metric used with the objective 'multi:softprob' was changed from 'merror' to 'mlogloss'. Explicitly set eval_metric if you'd like to restore the old behavior.\n",
      "[CV 6/10; 1/1] END colsample_bytree=0.5, gamma=0.0, learning_rate=0.15, max_depth=4, min_child_weight=3;, score=0.964 total time= 2.8min\n",
      "[CV 9/10; 1/1] START colsample_bytree=0.5, gamma=0.0, learning_rate=0.15, max_depth=4, min_child_weight=3\n",
      "[14:39:18] WARNING: /var/folders/sy/f16zz6x50xz3113nwtb9bvq00000gp/T/abs_44tbtwf8c1/croots/recipe/xgboost-split_1659548960882/work/src/learner.cc:1115: Starting in XGBoost 1.3.0, the default evaluation metric used with the objective 'multi:softprob' was changed from 'merror' to 'mlogloss'. Explicitly set eval_metric if you'd like to restore the old behavior.\n",
      "[CV 9/10; 1/1] END colsample_bytree=0.5, gamma=0.0, learning_rate=0.15, max_depth=4, min_child_weight=3;, score=0.974 total time=  42.0s\n",
      "[CV 3/10; 1/1] START colsample_bytree=0.3, gamma=0.3, learning_rate=0.15, max_depth=6, min_child_weight=5\n",
      "[14:40:01] WARNING: /var/folders/sy/f16zz6x50xz3113nwtb9bvq00000gp/T/abs_44tbtwf8c1/croots/recipe/xgboost-split_1659548960882/work/src/learner.cc:1115: Starting in XGBoost 1.3.0, the default evaluation metric used with the objective 'multi:softprob' was changed from 'merror' to 'mlogloss'. Explicitly set eval_metric if you'd like to restore the old behavior.\n",
      "[CV 3/10; 1/1] END colsample_bytree=0.3, gamma=0.3, learning_rate=0.15, max_depth=6, min_child_weight=5;, score=0.974 total time= 1.9min\n",
      "[CV 10/10; 1/1] START colsample_bytree=0.3, gamma=0.3, learning_rate=0.15, max_depth=6, min_child_weight=5\n",
      "[14:41:51] WARNING: /var/folders/sy/f16zz6x50xz3113nwtb9bvq00000gp/T/abs_44tbtwf8c1/croots/recipe/xgboost-split_1659548960882/work/src/learner.cc:1115: Starting in XGBoost 1.3.0, the default evaluation metric used with the objective 'multi:softprob' was changed from 'merror' to 'mlogloss'. Explicitly set eval_metric if you'd like to restore the old behavior.\n",
      "[CV 10/10; 1/1] END colsample_bytree=0.3, gamma=0.3, learning_rate=0.15, max_depth=6, min_child_weight=5;, score=0.959 total time=  27.6s\n",
      "[CV 4/10; 1/1] START colsample_bytree=0.4, gamma=0.1, learning_rate=0.25, max_depth=5, min_child_weight=3\n",
      "[14:42:20] WARNING: /var/folders/sy/f16zz6x50xz3113nwtb9bvq00000gp/T/abs_44tbtwf8c1/croots/recipe/xgboost-split_1659548960882/work/src/learner.cc:1115: Starting in XGBoost 1.3.0, the default evaluation metric used with the objective 'multi:softprob' was changed from 'merror' to 'mlogloss'. Explicitly set eval_metric if you'd like to restore the old behavior.\n",
      "[CV 4/10; 1/1] END colsample_bytree=0.4, gamma=0.1, learning_rate=0.25, max_depth=5, min_child_weight=3;, score=0.974 total time= 2.0min\n",
      "[CV 8/10; 1/1] START colsample_bytree=0.7, gamma=0.4, learning_rate=0.25, max_depth=6, min_child_weight=3\n",
      "[14:44:50] WARNING: /var/folders/sy/f16zz6x50xz3113nwtb9bvq00000gp/T/abs_44tbtwf8c1/croots/recipe/xgboost-split_1659548960882/work/src/learner.cc:1115: Starting in XGBoost 1.3.0, the default evaluation metric used with the objective 'multi:softprob' was changed from 'merror' to 'mlogloss'. Explicitly set eval_metric if you'd like to restore the old behavior.\n",
      "[CV 8/10; 1/1] END colsample_bytree=0.7, gamma=0.4, learning_rate=0.25, max_depth=6, min_child_weight=3;, score=0.984 total time= 3.7min\n",
      "[CV 8/10; 1/1] START colsample_bytree=0.7, gamma=0.3, learning_rate=0.15, max_depth=4, min_child_weight=3\n",
      "[14:49:25] WARNING: /var/folders/sy/f16zz6x50xz3113nwtb9bvq00000gp/T/abs_44tbtwf8c1/croots/recipe/xgboost-split_1659548960882/work/src/learner.cc:1115: Starting in XGBoost 1.3.0, the default evaluation metric used with the objective 'multi:softprob' was changed from 'merror' to 'mlogloss'. Explicitly set eval_metric if you'd like to restore the old behavior.\n",
      "[CV 8/10; 1/1] END colsample_bytree=0.7, gamma=0.3, learning_rate=0.15, max_depth=4, min_child_weight=3;, score=0.990 total time= 3.7min\n",
      "[CV 1/10; 1/1] START colsample_bytree=0.5, gamma=0.2, learning_rate=0.25, max_depth=3, min_child_weight=1\n",
      "[15:05:34] WARNING: /var/folders/sy/f16zz6x50xz3113nwtb9bvq00000gp/T/abs_44tbtwf8c1/croots/recipe/xgboost-split_1659548960882/work/src/learner.cc:1115: Starting in XGBoost 1.3.0, the default evaluation metric used with the objective 'multi:softprob' was changed from 'merror' to 'mlogloss'. Explicitly set eval_metric if you'd like to restore the old behavior.\n",
      "[CV 1/10; 1/1] END colsample_bytree=0.5, gamma=0.2, learning_rate=0.25, max_depth=3, min_child_weight=1;, score=0.979 total time= 2.8min\n",
      "[CV 9/10; 1/1] START colsample_bytree=0.5, gamma=0.2, learning_rate=0.25, max_depth=3, min_child_weight=1\n",
      "[15:08:25] WARNING: /var/folders/sy/f16zz6x50xz3113nwtb9bvq00000gp/T/abs_44tbtwf8c1/croots/recipe/xgboost-split_1659548960882/work/src/learner.cc:1115: Starting in XGBoost 1.3.0, the default evaluation metric used with the objective 'multi:softprob' was changed from 'merror' to 'mlogloss'. Explicitly set eval_metric if you'd like to restore the old behavior.\n",
      "[CV 9/10; 1/1] END colsample_bytree=0.5, gamma=0.2, learning_rate=0.25, max_depth=3, min_child_weight=1;, score=0.964 total time=  44.9s\n",
      "[CV 7/10; 1/1] START colsample_bytree=0.3, gamma=0.4, learning_rate=0.25, max_depth=15, min_child_weight=3\n",
      "[15:09:11] WARNING: /var/folders/sy/f16zz6x50xz3113nwtb9bvq00000gp/T/abs_44tbtwf8c1/croots/recipe/xgboost-split_1659548960882/work/src/learner.cc:1115: Starting in XGBoost 1.3.0, the default evaluation metric used with the objective 'multi:softprob' was changed from 'merror' to 'mlogloss'. Explicitly set eval_metric if you'd like to restore the old behavior.\n",
      "[CV 7/10; 1/1] END colsample_bytree=0.3, gamma=0.4, learning_rate=0.25, max_depth=15, min_child_weight=3;, score=0.969 total time= 1.9min\n",
      "[CV 2/10; 1/1] START colsample_bytree=0.4, gamma=0.2, learning_rate=0.1, max_depth=12, min_child_weight=1\n",
      "[15:11:37] WARNING: /var/folders/sy/f16zz6x50xz3113nwtb9bvq00000gp/T/abs_44tbtwf8c1/croots/recipe/xgboost-split_1659548960882/work/src/learner.cc:1115: Starting in XGBoost 1.3.0, the default evaluation metric used with the objective 'multi:softprob' was changed from 'merror' to 'mlogloss'. Explicitly set eval_metric if you'd like to restore the old behavior.\n",
      "[CV 2/10; 1/1] END colsample_bytree=0.4, gamma=0.2, learning_rate=0.1, max_depth=12, min_child_weight=1;, score=0.974 total time= 3.9min\n",
      "[CV 4/10; 1/1] START colsample_bytree=0.4, gamma=0.2, learning_rate=0.1, max_depth=4, min_child_weight=1\n",
      "[15:16:29] WARNING: /var/folders/sy/f16zz6x50xz3113nwtb9bvq00000gp/T/abs_44tbtwf8c1/croots/recipe/xgboost-split_1659548960882/work/src/learner.cc:1115: Starting in XGBoost 1.3.0, the default evaluation metric used with the objective 'multi:softprob' was changed from 'merror' to 'mlogloss'. Explicitly set eval_metric if you'd like to restore the old behavior.\n",
      "[CV 4/10; 1/1] END colsample_bytree=0.4, gamma=0.2, learning_rate=0.1, max_depth=4, min_child_weight=1;, score=0.990 total time= 3.3min\n",
      "[CV 7/10; 1/1] START colsample_bytree=0.5, gamma=0.3, learning_rate=0.1, max_depth=6, min_child_weight=3\n",
      "[15:20:35] WARNING: /var/folders/sy/f16zz6x50xz3113nwtb9bvq00000gp/T/abs_44tbtwf8c1/croots/recipe/xgboost-split_1659548960882/work/src/learner.cc:1115: Starting in XGBoost 1.3.0, the default evaluation metric used with the objective 'multi:softprob' was changed from 'merror' to 'mlogloss'. Explicitly set eval_metric if you'd like to restore the old behavior.\n",
      "[CV 7/10; 1/1] END colsample_bytree=0.5, gamma=0.3, learning_rate=0.1, max_depth=6, min_child_weight=3;, score=0.959 total time= 3.7min\n",
      "[CV 3/10; 1/1] START colsample_bytree=0.5, gamma=0.4, learning_rate=0.15, max_depth=4, min_child_weight=3\n",
      "[15:25:07] WARNING: /var/folders/sy/f16zz6x50xz3113nwtb9bvq00000gp/T/abs_44tbtwf8c1/croots/recipe/xgboost-split_1659548960882/work/src/learner.cc:1115: Starting in XGBoost 1.3.0, the default evaluation metric used with the objective 'multi:softprob' was changed from 'merror' to 'mlogloss'. Explicitly set eval_metric if you'd like to restore the old behavior.\n",
      "[CV 3/10; 1/1] END colsample_bytree=0.5, gamma=0.4, learning_rate=0.15, max_depth=4, min_child_weight=3;, score=0.974 total time= 2.9min\n",
      "[CV 10/10; 1/1] START colsample_bytree=0.5, gamma=0.4, learning_rate=0.15, max_depth=4, min_child_weight=3\n",
      "[15:27:57] WARNING: /var/folders/sy/f16zz6x50xz3113nwtb9bvq00000gp/T/abs_44tbtwf8c1/croots/recipe/xgboost-split_1659548960882/work/src/learner.cc:1115: Starting in XGBoost 1.3.0, the default evaluation metric used with the objective 'multi:softprob' was changed from 'merror' to 'mlogloss'. Explicitly set eval_metric if you'd like to restore the old behavior.\n",
      "[CV 10/10; 1/1] END colsample_bytree=0.5, gamma=0.4, learning_rate=0.15, max_depth=4, min_child_weight=3;, score=0.948 total time=  43.9s\n",
      "[CV 3/10; 1/1] START colsample_bytree=0.5, gamma=0.2, learning_rate=0.15, max_depth=10, min_child_weight=3\n",
      "[15:28:44] WARNING: /var/folders/sy/f16zz6x50xz3113nwtb9bvq00000gp/T/abs_44tbtwf8c1/croots/recipe/xgboost-split_1659548960882/work/src/learner.cc:1115: Starting in XGBoost 1.3.0, the default evaluation metric used with the objective 'multi:softprob' was changed from 'merror' to 'mlogloss'. Explicitly set eval_metric if you'd like to restore the old behavior.\n",
      "[CV 3/10; 1/1] END colsample_bytree=0.5, gamma=0.2, learning_rate=0.15, max_depth=10, min_child_weight=3;, score=0.984 total time= 3.1min\n",
      "[CV 10/10; 1/1] START colsample_bytree=0.5, gamma=0.2, learning_rate=0.15, max_depth=10, min_child_weight=3\n",
      "[15:31:49] WARNING: /var/folders/sy/f16zz6x50xz3113nwtb9bvq00000gp/T/abs_44tbtwf8c1/croots/recipe/xgboost-split_1659548960882/work/src/learner.cc:1115: Starting in XGBoost 1.3.0, the default evaluation metric used with the objective 'multi:softprob' was changed from 'merror' to 'mlogloss'. Explicitly set eval_metric if you'd like to restore the old behavior.\n",
      "[CV 10/10; 1/1] END colsample_bytree=0.5, gamma=0.2, learning_rate=0.15, max_depth=10, min_child_weight=3;, score=0.959 total time=  48.0s\n",
      "[CV 5/10; 1/1] START colsample_bytree=0.3, gamma=0.0, learning_rate=0.3, max_depth=12, min_child_weight=3\n",
      "[15:32:38] WARNING: /var/folders/sy/f16zz6x50xz3113nwtb9bvq00000gp/T/abs_44tbtwf8c1/croots/recipe/xgboost-split_1659548960882/work/src/learner.cc:1115: Starting in XGBoost 1.3.0, the default evaluation metric used with the objective 'multi:softprob' was changed from 'merror' to 'mlogloss'. Explicitly set eval_metric if you'd like to restore the old behavior.\n",
      "[CV 5/10; 1/1] END colsample_bytree=0.3, gamma=0.0, learning_rate=0.3, max_depth=12, min_child_weight=3;, score=0.979 total time= 1.5min\n",
      "[CV 8/10; 1/1] START colsample_bytree=0.4, gamma=0.2, learning_rate=0.15, max_depth=10, min_child_weight=1\n",
      "[15:34:30] WARNING: /var/folders/sy/f16zz6x50xz3113nwtb9bvq00000gp/T/abs_44tbtwf8c1/croots/recipe/xgboost-split_1659548960882/work/src/learner.cc:1115: Starting in XGBoost 1.3.0, the default evaluation metric used with the objective 'multi:softprob' was changed from 'merror' to 'mlogloss'. Explicitly set eval_metric if you'd like to restore the old behavior.\n",
      "[CV 8/10; 1/1] END colsample_bytree=0.4, gamma=0.2, learning_rate=0.15, max_depth=10, min_child_weight=1;, score=0.984 total time= 3.2min\n",
      "[CV 3/10; 1/1] START colsample_bytree=0.5, gamma=0.1, learning_rate=0.15, max_depth=10, min_child_weight=3\n",
      "[15:38:39] WARNING: /var/folders/sy/f16zz6x50xz3113nwtb9bvq00000gp/T/abs_44tbtwf8c1/croots/recipe/xgboost-split_1659548960882/work/src/learner.cc:1115: Starting in XGBoost 1.3.0, the default evaluation metric used with the objective 'multi:softprob' was changed from 'merror' to 'mlogloss'. Explicitly set eval_metric if you'd like to restore the old behavior.\n",
      "[CV 3/10; 1/1] END colsample_bytree=0.5, gamma=0.1, learning_rate=0.15, max_depth=10, min_child_weight=3;, score=0.974 total time= 3.4min\n",
      "[CV 10/10; 1/1] START colsample_bytree=0.5, gamma=0.1, learning_rate=0.15, max_depth=10, min_child_weight=3\n",
      "[15:42:01] WARNING: /var/folders/sy/f16zz6x50xz3113nwtb9bvq00000gp/T/abs_44tbtwf8c1/croots/recipe/xgboost-split_1659548960882/work/src/learner.cc:1115: Starting in XGBoost 1.3.0, the default evaluation metric used with the objective 'multi:softprob' was changed from 'merror' to 'mlogloss'. Explicitly set eval_metric if you'd like to restore the old behavior.\n",
      "[CV 10/10; 1/1] END colsample_bytree=0.5, gamma=0.1, learning_rate=0.15, max_depth=10, min_child_weight=3;, score=0.964 total time=  47.9s\n",
      "[CV 8/10; 1/1] START colsample_bytree=0.5, gamma=0.3, learning_rate=0.05, max_depth=5, min_child_weight=1\n",
      "[15:42:51] WARNING: /var/folders/sy/f16zz6x50xz3113nwtb9bvq00000gp/T/abs_44tbtwf8c1/croots/recipe/xgboost-split_1659548960882/work/src/learner.cc:1115: Starting in XGBoost 1.3.0, the default evaluation metric used with the objective 'multi:softprob' was changed from 'merror' to 'mlogloss'. Explicitly set eval_metric if you'd like to restore the old behavior.\n",
      "[CV 8/10; 1/1] END colsample_bytree=0.5, gamma=0.3, learning_rate=0.05, max_depth=5, min_child_weight=1;, score=0.990 total time= 4.7min\n",
      "[CV 1/10; 1/1] START colsample_bytree=0.5, gamma=0.1, learning_rate=0.05, max_depth=6, min_child_weight=3\n",
      "[15:48:47] WARNING: /var/folders/sy/f16zz6x50xz3113nwtb9bvq00000gp/T/abs_44tbtwf8c1/croots/recipe/xgboost-split_1659548960882/work/src/learner.cc:1115: Starting in XGBoost 1.3.0, the default evaluation metric used with the objective 'multi:softprob' was changed from 'merror' to 'mlogloss'. Explicitly set eval_metric if you'd like to restore the old behavior.\n",
      "[CV 1/10; 1/1] END colsample_bytree=0.5, gamma=0.1, learning_rate=0.05, max_depth=6, min_child_weight=3;, score=0.974 total time= 4.6min\n",
      "[CV 5/10; 1/1] START colsample_bytree=0.5, gamma=0.2, learning_rate=0.05, max_depth=12, min_child_weight=3\n"
     ]
    },
    {
     "name": "stdout",
     "output_type": "stream",
     "text": [
      "Fitting 10 folds for each of 1 candidates, totalling 10 fits\n"
     ]
    },
    {
     "name": "stderr",
     "output_type": "stream",
     "text": [
      "/Users/Yash/opt/anaconda3/envs/Om_sai_ram/lib/python3.9/site-packages/sklearn/model_selection/_split.py:676: UserWarning: The least populated class in y has only 2 members, which is less than n_splits=10.\n",
      "  warnings.warn(\n"
     ]
    },
    {
     "name": "stdout",
     "output_type": "stream",
     "text": [
      "Fitting 10 folds for each of 1 candidates, totalling 10 fits\n"
     ]
    },
    {
     "name": "stderr",
     "output_type": "stream",
     "text": [
      "/Users/Yash/opt/anaconda3/envs/Om_sai_ram/lib/python3.9/site-packages/sklearn/model_selection/_split.py:676: UserWarning: The least populated class in y has only 2 members, which is less than n_splits=10.\n",
      "  warnings.warn(\n"
     ]
    },
    {
     "name": "stdout",
     "output_type": "stream",
     "text": [
      "Fitting 10 folds for each of 1 candidates, totalling 10 fits\n"
     ]
    },
    {
     "name": "stderr",
     "output_type": "stream",
     "text": [
      "/Users/Yash/opt/anaconda3/envs/Om_sai_ram/lib/python3.9/site-packages/sklearn/model_selection/_split.py:676: UserWarning: The least populated class in y has only 2 members, which is less than n_splits=10.\n",
      "  warnings.warn(\n"
     ]
    },
    {
     "name": "stdout",
     "output_type": "stream",
     "text": [
      "[CV 7/10; 1/1] START colsample_bytree=0.5, gamma=0.3, learning_rate=0.2, max_depth=10, min_child_weight=7\n",
      "[14:30:43] WARNING: /var/folders/sy/f16zz6x50xz3113nwtb9bvq00000gp/T/abs_44tbtwf8c1/croots/recipe/xgboost-split_1659548960882/work/src/learner.cc:1115: Starting in XGBoost 1.3.0, the default evaluation metric used with the objective 'multi:softprob' was changed from 'merror' to 'mlogloss'. Explicitly set eval_metric if you'd like to restore the old behavior.\n",
      "[CV 7/10; 1/1] END colsample_bytree=0.5, gamma=0.3, learning_rate=0.2, max_depth=10, min_child_weight=7;, score=0.948 total time= 2.5min\n",
      "[CV 1/10; 1/1] START colsample_bytree=0.4, gamma=0.4, learning_rate=0.3, max_depth=8, min_child_weight=3\n",
      "[14:33:52] WARNING: /var/folders/sy/f16zz6x50xz3113nwtb9bvq00000gp/T/abs_44tbtwf8c1/croots/recipe/xgboost-split_1659548960882/work/src/learner.cc:1115: Starting in XGBoost 1.3.0, the default evaluation metric used with the objective 'multi:softprob' was changed from 'merror' to 'mlogloss'. Explicitly set eval_metric if you'd like to restore the old behavior.\n",
      "[CV 1/10; 1/1] END colsample_bytree=0.4, gamma=0.4, learning_rate=0.3, max_depth=8, min_child_weight=3;, score=0.984 total time= 2.2min\n",
      "[CV 7/10; 1/1] START colsample_bytree=0.5, gamma=0.0, learning_rate=0.15, max_depth=4, min_child_weight=3\n",
      "[14:36:33] WARNING: /var/folders/sy/f16zz6x50xz3113nwtb9bvq00000gp/T/abs_44tbtwf8c1/croots/recipe/xgboost-split_1659548960882/work/src/learner.cc:1115: Starting in XGBoost 1.3.0, the default evaluation metric used with the objective 'multi:softprob' was changed from 'merror' to 'mlogloss'. Explicitly set eval_metric if you'd like to restore the old behavior.\n",
      "[CV 7/10; 1/1] END colsample_bytree=0.5, gamma=0.0, learning_rate=0.15, max_depth=4, min_child_weight=3;, score=0.964 total time= 2.8min\n",
      "[CV 4/10; 1/1] START colsample_bytree=0.3, gamma=0.3, learning_rate=0.15, max_depth=6, min_child_weight=5\n",
      "[14:40:01] WARNING: /var/folders/sy/f16zz6x50xz3113nwtb9bvq00000gp/T/abs_44tbtwf8c1/croots/recipe/xgboost-split_1659548960882/work/src/learner.cc:1115: Starting in XGBoost 1.3.0, the default evaluation metric used with the objective 'multi:softprob' was changed from 'merror' to 'mlogloss'. Explicitly set eval_metric if you'd like to restore the old behavior.\n",
      "[CV 4/10; 1/1] END colsample_bytree=0.3, gamma=0.3, learning_rate=0.15, max_depth=6, min_child_weight=5;, score=0.974 total time= 1.9min\n",
      "[CV 6/10; 1/1] START colsample_bytree=0.4, gamma=0.1, learning_rate=0.25, max_depth=5, min_child_weight=3\n",
      "[14:42:20] WARNING: /var/folders/sy/f16zz6x50xz3113nwtb9bvq00000gp/T/abs_44tbtwf8c1/croots/recipe/xgboost-split_1659548960882/work/src/learner.cc:1115: Starting in XGBoost 1.3.0, the default evaluation metric used with the objective 'multi:softprob' was changed from 'merror' to 'mlogloss'. Explicitly set eval_metric if you'd like to restore the old behavior.\n",
      "[CV 6/10; 1/1] END colsample_bytree=0.4, gamma=0.1, learning_rate=0.25, max_depth=5, min_child_weight=3;, score=0.964 total time= 1.9min\n",
      "[CV 9/10; 1/1] START colsample_bytree=0.4, gamma=0.1, learning_rate=0.25, max_depth=5, min_child_weight=3\n",
      "[14:44:16] WARNING: /var/folders/sy/f16zz6x50xz3113nwtb9bvq00000gp/T/abs_44tbtwf8c1/croots/recipe/xgboost-split_1659548960882/work/src/learner.cc:1115: Starting in XGBoost 1.3.0, the default evaluation metric used with the objective 'multi:softprob' was changed from 'merror' to 'mlogloss'. Explicitly set eval_metric if you'd like to restore the old behavior.\n",
      "[CV 9/10; 1/1] END colsample_bytree=0.4, gamma=0.1, learning_rate=0.25, max_depth=5, min_child_weight=3;, score=0.964 total time=  31.4s\n",
      "[CV 2/10; 1/1] START colsample_bytree=0.7, gamma=0.4, learning_rate=0.25, max_depth=6, min_child_weight=3\n",
      "[14:44:49] WARNING: /var/folders/sy/f16zz6x50xz3113nwtb9bvq00000gp/T/abs_44tbtwf8c1/croots/recipe/xgboost-split_1659548960882/work/src/learner.cc:1115: Starting in XGBoost 1.3.0, the default evaluation metric used with the objective 'multi:softprob' was changed from 'merror' to 'mlogloss'. Explicitly set eval_metric if you'd like to restore the old behavior.\n",
      "[CV 2/10; 1/1] END colsample_bytree=0.7, gamma=0.4, learning_rate=0.25, max_depth=6, min_child_weight=3;, score=0.979 total time= 3.6min\n",
      "[CV 6/10; 1/1] START colsample_bytree=0.7, gamma=0.3, learning_rate=0.15, max_depth=4, min_child_weight=3\n",
      "[14:49:25] WARNING: /var/folders/sy/f16zz6x50xz3113nwtb9bvq00000gp/T/abs_44tbtwf8c1/croots/recipe/xgboost-split_1659548960882/work/src/learner.cc:1115: Starting in XGBoost 1.3.0, the default evaluation metric used with the objective 'multi:softprob' was changed from 'merror' to 'mlogloss'. Explicitly set eval_metric if you'd like to restore the old behavior.\n",
      "[CV 6/10; 1/1] END colsample_bytree=0.7, gamma=0.3, learning_rate=0.15, max_depth=4, min_child_weight=3;, score=0.969 total time= 3.7min\n",
      "[CV 9/10; 1/1] START colsample_bytree=0.7, gamma=0.3, learning_rate=0.15, max_depth=4, min_child_weight=3\n",
      "[14:53:07] WARNING: /var/folders/sy/f16zz6x50xz3113nwtb9bvq00000gp/T/abs_44tbtwf8c1/croots/recipe/xgboost-split_1659548960882/work/src/learner.cc:1115: Starting in XGBoost 1.3.0, the default evaluation metric used with the objective 'multi:softprob' was changed from 'merror' to 'mlogloss'. Explicitly set eval_metric if you'd like to restore the old behavior.\n",
      "[CV 9/10; 1/1] END colsample_bytree=0.7, gamma=0.3, learning_rate=0.15, max_depth=4, min_child_weight=3;, score=0.974 total time=12.5min\n",
      "[CV 2/10; 1/1] START colsample_bytree=0.5, gamma=0.2, learning_rate=0.25, max_depth=3, min_child_weight=1\n",
      "[15:05:34] WARNING: /var/folders/sy/f16zz6x50xz3113nwtb9bvq00000gp/T/abs_44tbtwf8c1/croots/recipe/xgboost-split_1659548960882/work/src/learner.cc:1115: Starting in XGBoost 1.3.0, the default evaluation metric used with the objective 'multi:softprob' was changed from 'merror' to 'mlogloss'. Explicitly set eval_metric if you'd like to restore the old behavior.\n",
      "[CV 2/10; 1/1] END colsample_bytree=0.5, gamma=0.2, learning_rate=0.25, max_depth=3, min_child_weight=1;, score=0.974 total time= 2.9min\n",
      "[CV 1/10; 1/1] START colsample_bytree=0.3, gamma=0.4, learning_rate=0.25, max_depth=15, min_child_weight=3\n",
      "[15:09:11] WARNING: /var/folders/sy/f16zz6x50xz3113nwtb9bvq00000gp/T/abs_44tbtwf8c1/croots/recipe/xgboost-split_1659548960882/work/src/learner.cc:1115: Starting in XGBoost 1.3.0, the default evaluation metric used with the objective 'multi:softprob' was changed from 'merror' to 'mlogloss'. Explicitly set eval_metric if you'd like to restore the old behavior.\n",
      "[CV 1/10; 1/1] END colsample_bytree=0.3, gamma=0.4, learning_rate=0.25, max_depth=15, min_child_weight=3;, score=0.984 total time= 1.9min\n",
      "[CV 3/10; 1/1] START colsample_bytree=0.4, gamma=0.2, learning_rate=0.1, max_depth=12, min_child_weight=1\n",
      "[15:11:37] WARNING: /var/folders/sy/f16zz6x50xz3113nwtb9bvq00000gp/T/abs_44tbtwf8c1/croots/recipe/xgboost-split_1659548960882/work/src/learner.cc:1115: Starting in XGBoost 1.3.0, the default evaluation metric used with the objective 'multi:softprob' was changed from 'merror' to 'mlogloss'. Explicitly set eval_metric if you'd like to restore the old behavior.\n",
      "[CV 3/10; 1/1] END colsample_bytree=0.4, gamma=0.2, learning_rate=0.1, max_depth=12, min_child_weight=1;, score=0.969 total time= 3.8min\n",
      "[CV 10/10; 1/1] START colsample_bytree=0.4, gamma=0.2, learning_rate=0.1, max_depth=12, min_child_weight=1\n",
      "[15:15:26] WARNING: /var/folders/sy/f16zz6x50xz3113nwtb9bvq00000gp/T/abs_44tbtwf8c1/croots/recipe/xgboost-split_1659548960882/work/src/learner.cc:1115: Starting in XGBoost 1.3.0, the default evaluation metric used with the objective 'multi:softprob' was changed from 'merror' to 'mlogloss'. Explicitly set eval_metric if you'd like to restore the old behavior.\n",
      "[CV 10/10; 1/1] END colsample_bytree=0.4, gamma=0.2, learning_rate=0.1, max_depth=12, min_child_weight=1;, score=0.964 total time= 1.0min\n",
      "[CV 2/10; 1/1] START colsample_bytree=0.4, gamma=0.2, learning_rate=0.1, max_depth=4, min_child_weight=1\n",
      "[15:16:29] WARNING: /var/folders/sy/f16zz6x50xz3113nwtb9bvq00000gp/T/abs_44tbtwf8c1/croots/recipe/xgboost-split_1659548960882/work/src/learner.cc:1115: Starting in XGBoost 1.3.0, the default evaluation metric used with the objective 'multi:softprob' was changed from 'merror' to 'mlogloss'. Explicitly set eval_metric if you'd like to restore the old behavior.\n",
      "[CV 2/10; 1/1] END colsample_bytree=0.4, gamma=0.2, learning_rate=0.1, max_depth=4, min_child_weight=1;, score=0.974 total time= 3.3min\n",
      "[CV 5/10; 1/1] START colsample_bytree=0.5, gamma=0.3, learning_rate=0.1, max_depth=6, min_child_weight=3\n",
      "[15:20:35] WARNING: /var/folders/sy/f16zz6x50xz3113nwtb9bvq00000gp/T/abs_44tbtwf8c1/croots/recipe/xgboost-split_1659548960882/work/src/learner.cc:1115: Starting in XGBoost 1.3.0, the default evaluation metric used with the objective 'multi:softprob' was changed from 'merror' to 'mlogloss'. Explicitly set eval_metric if you'd like to restore the old behavior.\n",
      "[CV 5/10; 1/1] END colsample_bytree=0.5, gamma=0.3, learning_rate=0.1, max_depth=6, min_child_weight=3;, score=0.979 total time= 3.7min\n",
      "[CV 2/10; 1/1] START colsample_bytree=0.5, gamma=0.4, learning_rate=0.15, max_depth=4, min_child_weight=3\n",
      "[15:25:06] WARNING: /var/folders/sy/f16zz6x50xz3113nwtb9bvq00000gp/T/abs_44tbtwf8c1/croots/recipe/xgboost-split_1659548960882/work/src/learner.cc:1115: Starting in XGBoost 1.3.0, the default evaluation metric used with the objective 'multi:softprob' was changed from 'merror' to 'mlogloss'. Explicitly set eval_metric if you'd like to restore the old behavior.\n",
      "[CV 2/10; 1/1] END colsample_bytree=0.5, gamma=0.4, learning_rate=0.15, max_depth=4, min_child_weight=3;, score=0.974 total time= 2.9min\n",
      "[CV 8/10; 1/1] START colsample_bytree=0.5, gamma=0.2, learning_rate=0.15, max_depth=10, min_child_weight=3\n",
      "[15:28:45] WARNING: /var/folders/sy/f16zz6x50xz3113nwtb9bvq00000gp/T/abs_44tbtwf8c1/croots/recipe/xgboost-split_1659548960882/work/src/learner.cc:1115: Starting in XGBoost 1.3.0, the default evaluation metric used with the objective 'multi:softprob' was changed from 'merror' to 'mlogloss'. Explicitly set eval_metric if you'd like to restore the old behavior.\n",
      "[CV 8/10; 1/1] END colsample_bytree=0.5, gamma=0.2, learning_rate=0.15, max_depth=10, min_child_weight=3;, score=0.984 total time= 3.1min\n",
      "[CV 4/10; 1/1] START colsample_bytree=0.3, gamma=0.0, learning_rate=0.3, max_depth=12, min_child_weight=3\n",
      "[15:32:38] WARNING: /var/folders/sy/f16zz6x50xz3113nwtb9bvq00000gp/T/abs_44tbtwf8c1/croots/recipe/xgboost-split_1659548960882/work/src/learner.cc:1115: Starting in XGBoost 1.3.0, the default evaluation metric used with the objective 'multi:softprob' was changed from 'merror' to 'mlogloss'. Explicitly set eval_metric if you'd like to restore the old behavior.\n",
      "[CV 4/10; 1/1] END colsample_bytree=0.3, gamma=0.0, learning_rate=0.3, max_depth=12, min_child_weight=3;, score=0.979 total time= 1.5min\n",
      "[CV 3/10; 1/1] START colsample_bytree=0.4, gamma=0.2, learning_rate=0.15, max_depth=10, min_child_weight=1\n",
      "[15:34:30] WARNING: /var/folders/sy/f16zz6x50xz3113nwtb9bvq00000gp/T/abs_44tbtwf8c1/croots/recipe/xgboost-split_1659548960882/work/src/learner.cc:1115: Starting in XGBoost 1.3.0, the default evaluation metric used with the objective 'multi:softprob' was changed from 'merror' to 'mlogloss'. Explicitly set eval_metric if you'd like to restore the old behavior.\n",
      "[CV 3/10; 1/1] END colsample_bytree=0.4, gamma=0.2, learning_rate=0.15, max_depth=10, min_child_weight=1;, score=0.979 total time= 3.2min\n",
      "[CV 1/10; 1/1] START colsample_bytree=0.5, gamma=0.1, learning_rate=0.15, max_depth=10, min_child_weight=3\n",
      "[15:38:39] WARNING: /var/folders/sy/f16zz6x50xz3113nwtb9bvq00000gp/T/abs_44tbtwf8c1/croots/recipe/xgboost-split_1659548960882/work/src/learner.cc:1115: Starting in XGBoost 1.3.0, the default evaluation metric used with the objective 'multi:softprob' was changed from 'merror' to 'mlogloss'. Explicitly set eval_metric if you'd like to restore the old behavior.\n",
      "[CV 1/10; 1/1] END colsample_bytree=0.5, gamma=0.1, learning_rate=0.15, max_depth=10, min_child_weight=3;, score=0.984 total time= 3.5min\n",
      "[CV 4/10; 1/1] START colsample_bytree=0.5, gamma=0.3, learning_rate=0.05, max_depth=5, min_child_weight=1\n",
      "[15:42:51] WARNING: /var/folders/sy/f16zz6x50xz3113nwtb9bvq00000gp/T/abs_44tbtwf8c1/croots/recipe/xgboost-split_1659548960882/work/src/learner.cc:1115: Starting in XGBoost 1.3.0, the default evaluation metric used with the objective 'multi:softprob' was changed from 'merror' to 'mlogloss'. Explicitly set eval_metric if you'd like to restore the old behavior.\n",
      "[CV 4/10; 1/1] END colsample_bytree=0.5, gamma=0.3, learning_rate=0.05, max_depth=5, min_child_weight=1;, score=0.984 total time= 4.7min\n",
      "[CV 7/10; 1/1] START colsample_bytree=0.5, gamma=0.1, learning_rate=0.05, max_depth=6, min_child_weight=3\n",
      "[15:48:48] WARNING: /var/folders/sy/f16zz6x50xz3113nwtb9bvq00000gp/T/abs_44tbtwf8c1/croots/recipe/xgboost-split_1659548960882/work/src/learner.cc:1115: Starting in XGBoost 1.3.0, the default evaluation metric used with the objective 'multi:softprob' was changed from 'merror' to 'mlogloss'. Explicitly set eval_metric if you'd like to restore the old behavior.\n",
      "[CV 7/10; 1/1] END colsample_bytree=0.5, gamma=0.1, learning_rate=0.05, max_depth=6, min_child_weight=3;, score=0.964 total time= 4.6min\n",
      "[CV 10/10; 1/1] START colsample_bytree=0.5, gamma=0.1, learning_rate=0.05, max_depth=6, min_child_weight=3\n",
      "[15:53:20] WARNING: /var/folders/sy/f16zz6x50xz3113nwtb9bvq00000gp/T/abs_44tbtwf8c1/croots/recipe/xgboost-split_1659548960882/work/src/learner.cc:1115: Starting in XGBoost 1.3.0, the default evaluation metric used with the objective 'multi:softprob' was changed from 'merror' to 'mlogloss'. Explicitly set eval_metric if you'd like to restore the old behavior.\n",
      "[CV 10/10; 1/1] END colsample_bytree=0.5, gamma=0.1, learning_rate=0.05, max_depth=6, min_child_weight=3;, score=0.953 total time= 1.2min\n",
      "[CV 4/10; 1/1] START colsample_bytree=0.5, gamma=0.2, learning_rate=0.05, max_depth=12, min_child_weight=3\n",
      "[15:54:35] WARNING: /var/folders/sy/f16zz6x50xz3113nwtb9bvq00000gp/T/abs_44tbtwf8c1/croots/recipe/xgboost-split_1659548960882/work/src/learner.cc:1115: Starting in XGBoost 1.3.0, the default evaluation metric used with the objective 'multi:softprob' was changed from 'merror' to 'mlogloss'. Explicitly set eval_metric if you'd like to restore the old behavior.\n",
      "[CV 4/10; 1/1] END colsample_bytree=0.5, gamma=0.2, learning_rate=0.05, max_depth=12, min_child_weight=3;, score=0.995 total time= 5.1min\n",
      "[CV 3/10; 1/1] START colsample_bytree=0.4, gamma=0.3, learning_rate=0.1, max_depth=3, min_child_weight=3\n",
      "[16:00:58] WARNING: /var/folders/sy/f16zz6x50xz3113nwtb9bvq00000gp/T/abs_44tbtwf8c1/croots/recipe/xgboost-split_1659548960882/work/src/learner.cc:1115: Starting in XGBoost 1.3.0, the default evaluation metric used with the objective 'multi:softprob' was changed from 'merror' to 'mlogloss'. Explicitly set eval_metric if you'd like to restore the old behavior.\n",
      "[CV 3/10; 1/1] END colsample_bytree=0.4, gamma=0.3, learning_rate=0.1, max_depth=3, min_child_weight=3;, score=0.979 total time= 2.6min\n",
      "[CV 6/10; 1/1] START colsample_bytree=0.4, gamma=0.4, learning_rate=0.15, max_depth=10, min_child_weight=5\n",
      "[16:04:20] WARNING: /var/folders/sy/f16zz6x50xz3113nwtb9bvq00000gp/T/abs_44tbtwf8c1/croots/recipe/xgboost-split_1659548960882/work/src/learner.cc:1115: Starting in XGBoost 1.3.0, the default evaluation metric used with the objective 'multi:softprob' was changed from 'merror' to 'mlogloss'. Explicitly set eval_metric if you'd like to restore the old behavior.\n",
      "[CV 6/10; 1/1] END colsample_bytree=0.4, gamma=0.4, learning_rate=0.15, max_depth=10, min_child_weight=5;, score=0.959 total time= 2.4min\n",
      "[CV 1/10; 1/1] START colsample_bytree=0.5, gamma=0.2, learning_rate=0.3, max_depth=10, min_child_weight=3\n",
      "[CV 2/10; 1/1] START colsample_bytree=0.5, gamma=0.3, learning_rate=0.2, max_depth=10, min_child_weight=7\n",
      "[14:30:43] WARNING: /var/folders/sy/f16zz6x50xz3113nwtb9bvq00000gp/T/abs_44tbtwf8c1/croots/recipe/xgboost-split_1659548960882/work/src/learner.cc:1115: Starting in XGBoost 1.3.0, the default evaluation metric used with the objective 'multi:softprob' was changed from 'merror' to 'mlogloss'. Explicitly set eval_metric if you'd like to restore the old behavior.\n",
      "[CV 2/10; 1/1] END colsample_bytree=0.5, gamma=0.3, learning_rate=0.2, max_depth=10, min_child_weight=7;, score=0.979 total time= 2.5min\n",
      "[CV 7/10; 1/1] START colsample_bytree=0.4, gamma=0.4, learning_rate=0.3, max_depth=8, min_child_weight=3\n",
      "[14:33:52] WARNING: /var/folders/sy/f16zz6x50xz3113nwtb9bvq00000gp/T/abs_44tbtwf8c1/croots/recipe/xgboost-split_1659548960882/work/src/learner.cc:1115: Starting in XGBoost 1.3.0, the default evaluation metric used with the objective 'multi:softprob' was changed from 'merror' to 'mlogloss'. Explicitly set eval_metric if you'd like to restore the old behavior.\n",
      "[CV 7/10; 1/1] END colsample_bytree=0.4, gamma=0.4, learning_rate=0.3, max_depth=8, min_child_weight=3;, score=0.953 total time= 2.2min\n",
      "[CV 2/10; 1/1] START colsample_bytree=0.5, gamma=0.0, learning_rate=0.15, max_depth=4, min_child_weight=3\n",
      "[14:36:33] WARNING: /var/folders/sy/f16zz6x50xz3113nwtb9bvq00000gp/T/abs_44tbtwf8c1/croots/recipe/xgboost-split_1659548960882/work/src/learner.cc:1115: Starting in XGBoost 1.3.0, the default evaluation metric used with the objective 'multi:softprob' was changed from 'merror' to 'mlogloss'. Explicitly set eval_metric if you'd like to restore the old behavior.\n",
      "[CV 2/10; 1/1] END colsample_bytree=0.5, gamma=0.0, learning_rate=0.15, max_depth=4, min_child_weight=3;, score=0.979 total time= 2.8min\n",
      "[CV 10/10; 1/1] START colsample_bytree=0.5, gamma=0.0, learning_rate=0.15, max_depth=4, min_child_weight=3\n",
      "[14:39:18] WARNING: /var/folders/sy/f16zz6x50xz3113nwtb9bvq00000gp/T/abs_44tbtwf8c1/croots/recipe/xgboost-split_1659548960882/work/src/learner.cc:1115: Starting in XGBoost 1.3.0, the default evaluation metric used with the objective 'multi:softprob' was changed from 'merror' to 'mlogloss'. Explicitly set eval_metric if you'd like to restore the old behavior.\n",
      "[CV 10/10; 1/1] END colsample_bytree=0.5, gamma=0.0, learning_rate=0.15, max_depth=4, min_child_weight=3;, score=0.953 total time=  41.2s\n",
      "[CV 2/10; 1/1] START colsample_bytree=0.3, gamma=0.3, learning_rate=0.15, max_depth=6, min_child_weight=5\n",
      "[14:40:01] WARNING: /var/folders/sy/f16zz6x50xz3113nwtb9bvq00000gp/T/abs_44tbtwf8c1/croots/recipe/xgboost-split_1659548960882/work/src/learner.cc:1115: Starting in XGBoost 1.3.0, the default evaluation metric used with the objective 'multi:softprob' was changed from 'merror' to 'mlogloss'. Explicitly set eval_metric if you'd like to restore the old behavior.\n",
      "[CV 2/10; 1/1] END colsample_bytree=0.3, gamma=0.3, learning_rate=0.15, max_depth=6, min_child_weight=5;, score=0.974 total time= 1.9min\n",
      "[CV 5/10; 1/1] START colsample_bytree=0.4, gamma=0.1, learning_rate=0.25, max_depth=5, min_child_weight=3\n",
      "[14:42:20] WARNING: /var/folders/sy/f16zz6x50xz3113nwtb9bvq00000gp/T/abs_44tbtwf8c1/croots/recipe/xgboost-split_1659548960882/work/src/learner.cc:1115: Starting in XGBoost 1.3.0, the default evaluation metric used with the objective 'multi:softprob' was changed from 'merror' to 'mlogloss'. Explicitly set eval_metric if you'd like to restore the old behavior.\n",
      "[CV 5/10; 1/1] END colsample_bytree=0.4, gamma=0.1, learning_rate=0.25, max_depth=5, min_child_weight=3;, score=0.974 total time= 2.0min\n",
      "[CV 6/10; 1/1] START colsample_bytree=0.7, gamma=0.4, learning_rate=0.25, max_depth=6, min_child_weight=3\n",
      "[14:44:49] WARNING: /var/folders/sy/f16zz6x50xz3113nwtb9bvq00000gp/T/abs_44tbtwf8c1/croots/recipe/xgboost-split_1659548960882/work/src/learner.cc:1115: Starting in XGBoost 1.3.0, the default evaluation metric used with the objective 'multi:softprob' was changed from 'merror' to 'mlogloss'. Explicitly set eval_metric if you'd like to restore the old behavior.\n",
      "[CV 6/10; 1/1] END colsample_bytree=0.7, gamma=0.4, learning_rate=0.25, max_depth=6, min_child_weight=3;, score=0.959 total time= 3.6min\n",
      "[CV 9/10; 1/1] START colsample_bytree=0.7, gamma=0.4, learning_rate=0.25, max_depth=6, min_child_weight=3\n",
      "[14:48:22] WARNING: /var/folders/sy/f16zz6x50xz3113nwtb9bvq00000gp/T/abs_44tbtwf8c1/croots/recipe/xgboost-split_1659548960882/work/src/learner.cc:1115: Starting in XGBoost 1.3.0, the default evaluation metric used with the objective 'multi:softprob' was changed from 'merror' to 'mlogloss'. Explicitly set eval_metric if you'd like to restore the old behavior.\n",
      "[CV 9/10; 1/1] END colsample_bytree=0.7, gamma=0.4, learning_rate=0.25, max_depth=6, min_child_weight=3;, score=0.969 total time= 1.0min\n",
      "[CV 3/10; 1/1] START colsample_bytree=0.7, gamma=0.3, learning_rate=0.15, max_depth=4, min_child_weight=3\n",
      "[14:49:25] WARNING: /var/folders/sy/f16zz6x50xz3113nwtb9bvq00000gp/T/abs_44tbtwf8c1/croots/recipe/xgboost-split_1659548960882/work/src/learner.cc:1115: Starting in XGBoost 1.3.0, the default evaluation metric used with the objective 'multi:softprob' was changed from 'merror' to 'mlogloss'. Explicitly set eval_metric if you'd like to restore the old behavior.\n",
      "[CV 3/10; 1/1] END colsample_bytree=0.7, gamma=0.3, learning_rate=0.15, max_depth=4, min_child_weight=3;, score=0.969 total time= 3.7min\n",
      "[CV 10/10; 1/1] START colsample_bytree=0.7, gamma=0.3, learning_rate=0.15, max_depth=4, min_child_weight=3\n",
      "[14:53:07] WARNING: /var/folders/sy/f16zz6x50xz3113nwtb9bvq00000gp/T/abs_44tbtwf8c1/croots/recipe/xgboost-split_1659548960882/work/src/learner.cc:1115: Starting in XGBoost 1.3.0, the default evaluation metric used with the objective 'multi:softprob' was changed from 'merror' to 'mlogloss'. Explicitly set eval_metric if you'd like to restore the old behavior.\n",
      "[CV 10/10; 1/1] END colsample_bytree=0.7, gamma=0.3, learning_rate=0.15, max_depth=4, min_child_weight=3;, score=0.953 total time=12.4min\n",
      "[CV 3/10; 1/1] START colsample_bytree=0.5, gamma=0.2, learning_rate=0.25, max_depth=3, min_child_weight=1\n",
      "[15:05:34] WARNING: /var/folders/sy/f16zz6x50xz3113nwtb9bvq00000gp/T/abs_44tbtwf8c1/croots/recipe/xgboost-split_1659548960882/work/src/learner.cc:1115: Starting in XGBoost 1.3.0, the default evaluation metric used with the objective 'multi:softprob' was changed from 'merror' to 'mlogloss'. Explicitly set eval_metric if you'd like to restore the old behavior.\n",
      "[CV 3/10; 1/1] END colsample_bytree=0.5, gamma=0.2, learning_rate=0.25, max_depth=3, min_child_weight=1;, score=0.969 total time= 2.9min\n",
      "[CV 10/10; 1/1] START colsample_bytree=0.5, gamma=0.2, learning_rate=0.25, max_depth=3, min_child_weight=1\n",
      "[15:08:27] WARNING: /var/folders/sy/f16zz6x50xz3113nwtb9bvq00000gp/T/abs_44tbtwf8c1/croots/recipe/xgboost-split_1659548960882/work/src/learner.cc:1115: Starting in XGBoost 1.3.0, the default evaluation metric used with the objective 'multi:softprob' was changed from 'merror' to 'mlogloss'. Explicitly set eval_metric if you'd like to restore the old behavior.\n",
      "[CV 10/10; 1/1] END colsample_bytree=0.5, gamma=0.2, learning_rate=0.25, max_depth=3, min_child_weight=1;, score=0.959 total time=  42.4s\n",
      "[CV 2/10; 1/1] START colsample_bytree=0.3, gamma=0.4, learning_rate=0.25, max_depth=15, min_child_weight=3\n",
      "[15:09:11] WARNING: /var/folders/sy/f16zz6x50xz3113nwtb9bvq00000gp/T/abs_44tbtwf8c1/croots/recipe/xgboost-split_1659548960882/work/src/learner.cc:1115: Starting in XGBoost 1.3.0, the default evaluation metric used with the objective 'multi:softprob' was changed from 'merror' to 'mlogloss'. Explicitly set eval_metric if you'd like to restore the old behavior.\n",
      "[CV 2/10; 1/1] END colsample_bytree=0.3, gamma=0.4, learning_rate=0.25, max_depth=15, min_child_weight=3;, score=0.974 total time= 1.9min\n",
      "[CV 4/10; 1/1] START colsample_bytree=0.4, gamma=0.2, learning_rate=0.1, max_depth=12, min_child_weight=1\n",
      "[15:11:37] WARNING: /var/folders/sy/f16zz6x50xz3113nwtb9bvq00000gp/T/abs_44tbtwf8c1/croots/recipe/xgboost-split_1659548960882/work/src/learner.cc:1115: Starting in XGBoost 1.3.0, the default evaluation metric used with the objective 'multi:softprob' was changed from 'merror' to 'mlogloss'. Explicitly set eval_metric if you'd like to restore the old behavior.\n",
      "[CV 4/10; 1/1] END colsample_bytree=0.4, gamma=0.2, learning_rate=0.1, max_depth=12, min_child_weight=1;, score=0.995 total time= 3.9min\n",
      "[CV 7/10; 1/1] START colsample_bytree=0.4, gamma=0.2, learning_rate=0.1, max_depth=4, min_child_weight=1\n",
      "[15:16:29] WARNING: /var/folders/sy/f16zz6x50xz3113nwtb9bvq00000gp/T/abs_44tbtwf8c1/croots/recipe/xgboost-split_1659548960882/work/src/learner.cc:1115: Starting in XGBoost 1.3.0, the default evaluation metric used with the objective 'multi:softprob' was changed from 'merror' to 'mlogloss'. Explicitly set eval_metric if you'd like to restore the old behavior.\n",
      "[CV 7/10; 1/1] END colsample_bytree=0.4, gamma=0.2, learning_rate=0.1, max_depth=4, min_child_weight=1;, score=0.964 total time= 3.3min\n",
      "[CV 8/10; 1/1] START colsample_bytree=0.5, gamma=0.3, learning_rate=0.1, max_depth=6, min_child_weight=3\n",
      "[15:20:35] WARNING: /var/folders/sy/f16zz6x50xz3113nwtb9bvq00000gp/T/abs_44tbtwf8c1/croots/recipe/xgboost-split_1659548960882/work/src/learner.cc:1115: Starting in XGBoost 1.3.0, the default evaluation metric used with the objective 'multi:softprob' was changed from 'merror' to 'mlogloss'. Explicitly set eval_metric if you'd like to restore the old behavior.\n",
      "[CV 8/10; 1/1] END colsample_bytree=0.5, gamma=0.3, learning_rate=0.1, max_depth=6, min_child_weight=3;, score=0.990 total time= 3.7min\n",
      "[CV 4/10; 1/1] START colsample_bytree=0.5, gamma=0.4, learning_rate=0.15, max_depth=4, min_child_weight=3\n",
      "[15:25:07] WARNING: /var/folders/sy/f16zz6x50xz3113nwtb9bvq00000gp/T/abs_44tbtwf8c1/croots/recipe/xgboost-split_1659548960882/work/src/learner.cc:1115: Starting in XGBoost 1.3.0, the default evaluation metric used with the objective 'multi:softprob' was changed from 'merror' to 'mlogloss'. Explicitly set eval_metric if you'd like to restore the old behavior.\n",
      "[CV 4/10; 1/1] END colsample_bytree=0.5, gamma=0.4, learning_rate=0.15, max_depth=4, min_child_weight=3;, score=0.990 total time= 2.9min\n",
      "[CV 2/10; 1/1] START colsample_bytree=0.5, gamma=0.2, learning_rate=0.15, max_depth=10, min_child_weight=3\n",
      "[15:28:45] WARNING: /var/folders/sy/f16zz6x50xz3113nwtb9bvq00000gp/T/abs_44tbtwf8c1/croots/recipe/xgboost-split_1659548960882/work/src/learner.cc:1115: Starting in XGBoost 1.3.0, the default evaluation metric used with the objective 'multi:softprob' was changed from 'merror' to 'mlogloss'. Explicitly set eval_metric if you'd like to restore the old behavior.\n",
      "[CV 2/10; 1/1] END colsample_bytree=0.5, gamma=0.2, learning_rate=0.15, max_depth=10, min_child_weight=3;, score=0.979 total time= 3.2min\n",
      "[CV 7/10; 1/1] START colsample_bytree=0.3, gamma=0.0, learning_rate=0.3, max_depth=12, min_child_weight=3\n",
      "[15:32:39] WARNING: /var/folders/sy/f16zz6x50xz3113nwtb9bvq00000gp/T/abs_44tbtwf8c1/croots/recipe/xgboost-split_1659548960882/work/src/learner.cc:1115: Starting in XGBoost 1.3.0, the default evaluation metric used with the objective 'multi:softprob' was changed from 'merror' to 'mlogloss'. Explicitly set eval_metric if you'd like to restore the old behavior.\n",
      "[CV 7/10; 1/1] END colsample_bytree=0.3, gamma=0.0, learning_rate=0.3, max_depth=12, min_child_weight=3;, score=0.953 total time= 1.5min\n",
      "[CV 2/10; 1/1] START colsample_bytree=0.4, gamma=0.2, learning_rate=0.15, max_depth=10, min_child_weight=1\n",
      "[15:34:30] WARNING: /var/folders/sy/f16zz6x50xz3113nwtb9bvq00000gp/T/abs_44tbtwf8c1/croots/recipe/xgboost-split_1659548960882/work/src/learner.cc:1115: Starting in XGBoost 1.3.0, the default evaluation metric used with the objective 'multi:softprob' was changed from 'merror' to 'mlogloss'. Explicitly set eval_metric if you'd like to restore the old behavior.\n",
      "[CV 2/10; 1/1] END colsample_bytree=0.4, gamma=0.2, learning_rate=0.15, max_depth=10, min_child_weight=1;, score=0.974 total time= 3.2min\n",
      "[CV 2/10; 1/1] START colsample_bytree=0.5, gamma=0.1, learning_rate=0.15, max_depth=10, min_child_weight=3\n",
      "[15:38:39] WARNING: /var/folders/sy/f16zz6x50xz3113nwtb9bvq00000gp/T/abs_44tbtwf8c1/croots/recipe/xgboost-split_1659548960882/work/src/learner.cc:1115: Starting in XGBoost 1.3.0, the default evaluation metric used with the objective 'multi:softprob' was changed from 'merror' to 'mlogloss'. Explicitly set eval_metric if you'd like to restore the old behavior.\n",
      "[CV 2/10; 1/1] END colsample_bytree=0.5, gamma=0.1, learning_rate=0.15, max_depth=10, min_child_weight=3;, score=0.979 total time= 3.5min\n",
      "[CV 2/10; 1/1] START colsample_bytree=0.5, gamma=0.3, learning_rate=0.05, max_depth=5, min_child_weight=1\n",
      "[15:42:51] WARNING: /var/folders/sy/f16zz6x50xz3113nwtb9bvq00000gp/T/abs_44tbtwf8c1/croots/recipe/xgboost-split_1659548960882/work/src/learner.cc:1115: Starting in XGBoost 1.3.0, the default evaluation metric used with the objective 'multi:softprob' was changed from 'merror' to 'mlogloss'. Explicitly set eval_metric if you'd like to restore the old behavior.\n",
      "[CV 2/10; 1/1] END colsample_bytree=0.5, gamma=0.3, learning_rate=0.05, max_depth=5, min_child_weight=1;, score=0.974 total time= 4.7min\n",
      "[CV 10/10; 1/1] START colsample_bytree=0.5, gamma=0.3, learning_rate=0.05, max_depth=5, min_child_weight=1\n",
      "[15:47:31] WARNING: /var/folders/sy/f16zz6x50xz3113nwtb9bvq00000gp/T/abs_44tbtwf8c1/croots/recipe/xgboost-split_1659548960882/work/src/learner.cc:1115: Starting in XGBoost 1.3.0, the default evaluation metric used with the objective 'multi:softprob' was changed from 'merror' to 'mlogloss'. Explicitly set eval_metric if you'd like to restore the old behavior.\n",
      "[CV 10/10; 1/1] END colsample_bytree=0.5, gamma=0.3, learning_rate=0.05, max_depth=5, min_child_weight=1;, score=0.959 total time= 1.2min\n",
      "[CV 2/10; 1/1] START colsample_bytree=0.5, gamma=0.1, learning_rate=0.05, max_depth=6, min_child_weight=3\n",
      "[15:48:47] WARNING: /var/folders/sy/f16zz6x50xz3113nwtb9bvq00000gp/T/abs_44tbtwf8c1/croots/recipe/xgboost-split_1659548960882/work/src/learner.cc:1115: Starting in XGBoost 1.3.0, the default evaluation metric used with the objective 'multi:softprob' was changed from 'merror' to 'mlogloss'. Explicitly set eval_metric if you'd like to restore the old behavior.\n",
      "[CV 2/10; 1/1] END colsample_bytree=0.5, gamma=0.1, learning_rate=0.05, max_depth=6, min_child_weight=3;, score=0.974 total time= 4.6min\n",
      "[CV 1/10; 1/1] START colsample_bytree=0.5, gamma=0.2, learning_rate=0.05, max_depth=12, min_child_weight=3\n",
      "[15:54:35] WARNING: /var/folders/sy/f16zz6x50xz3113nwtb9bvq00000gp/T/abs_44tbtwf8c1/croots/recipe/xgboost-split_1659548960882/work/src/learner.cc:1115: Starting in XGBoost 1.3.0, the default evaluation metric used with the objective 'multi:softprob' was changed from 'merror' to 'mlogloss'. Explicitly set eval_metric if you'd like to restore the old behavior.\n",
      "[CV 1/10; 1/1] END colsample_bytree=0.5, gamma=0.2, learning_rate=0.05, max_depth=12, min_child_weight=3;, score=0.979 total time= 5.0min\n",
      "[CV 8/10; 1/1] START colsample_bytree=0.4, gamma=0.3, learning_rate=0.1, max_depth=3, min_child_weight=3\n",
      "[16:00:58] WARNING: /var/folders/sy/f16zz6x50xz3113nwtb9bvq00000gp/T/abs_44tbtwf8c1/croots/recipe/xgboost-split_1659548960882/work/src/learner.cc:1115: Starting in XGBoost 1.3.0, the default evaluation metric used with the objective 'multi:softprob' was changed from 'merror' to 'mlogloss'. Explicitly set eval_metric if you'd like to restore the old behavior.\n",
      "[CV 8/10; 1/1] END colsample_bytree=0.4, gamma=0.3, learning_rate=0.1, max_depth=3, min_child_weight=3;, score=0.984 total time= 2.6min\n",
      "[CV 8/10; 1/1] START colsample_bytree=0.4, gamma=0.4, learning_rate=0.15, max_depth=10, min_child_weight=5\n"
     ]
    },
    {
     "name": "stdout",
     "output_type": "stream",
     "text": [
      "Fitting 10 folds for each of 1 candidates, totalling 10 fits\n"
     ]
    },
    {
     "name": "stderr",
     "output_type": "stream",
     "text": [
      "/Users/Yash/opt/anaconda3/envs/Om_sai_ram/lib/python3.9/site-packages/sklearn/model_selection/_split.py:676: UserWarning: The least populated class in y has only 2 members, which is less than n_splits=10.\n",
      "  warnings.warn(\n"
     ]
    },
    {
     "name": "stdout",
     "output_type": "stream",
     "text": [
      "Fitting 10 folds for each of 1 candidates, totalling 10 fits\n"
     ]
    },
    {
     "name": "stderr",
     "output_type": "stream",
     "text": [
      "/Users/Yash/opt/anaconda3/envs/Om_sai_ram/lib/python3.9/site-packages/sklearn/model_selection/_split.py:676: UserWarning: The least populated class in y has only 2 members, which is less than n_splits=10.\n",
      "  warnings.warn(\n"
     ]
    },
    {
     "name": "stdout",
     "output_type": "stream",
     "text": [
      "[CV 4/10; 1/1] START colsample_bytree=0.5, gamma=0.2, learning_rate=0.25, max_depth=3, min_child_weight=1\n",
      "[15:05:38] WARNING: /var/folders/sy/f16zz6x50xz3113nwtb9bvq00000gp/T/abs_44tbtwf8c1/croots/recipe/xgboost-split_1659548960882/work/src/learner.cc:1115: Starting in XGBoost 1.3.0, the default evaluation metric used with the objective 'multi:softprob' was changed from 'merror' to 'mlogloss'. Explicitly set eval_metric if you'd like to restore the old behavior.\n",
      "[CV 4/10; 1/1] END colsample_bytree=0.5, gamma=0.2, learning_rate=0.25, max_depth=3, min_child_weight=1;, score=0.990 total time= 2.9min\n",
      "[CV 4/10; 1/1] START colsample_bytree=0.3, gamma=0.4, learning_rate=0.25, max_depth=15, min_child_weight=3\n",
      "[15:09:11] WARNING: /var/folders/sy/f16zz6x50xz3113nwtb9bvq00000gp/T/abs_44tbtwf8c1/croots/recipe/xgboost-split_1659548960882/work/src/learner.cc:1115: Starting in XGBoost 1.3.0, the default evaluation metric used with the objective 'multi:softprob' was changed from 'merror' to 'mlogloss'. Explicitly set eval_metric if you'd like to restore the old behavior.\n",
      "[CV 4/10; 1/1] END colsample_bytree=0.3, gamma=0.4, learning_rate=0.25, max_depth=15, min_child_weight=3;, score=0.990 total time= 1.9min\n",
      "[CV 7/10; 1/1] START colsample_bytree=0.4, gamma=0.2, learning_rate=0.1, max_depth=12, min_child_weight=1\n",
      "[15:11:37] WARNING: /var/folders/sy/f16zz6x50xz3113nwtb9bvq00000gp/T/abs_44tbtwf8c1/croots/recipe/xgboost-split_1659548960882/work/src/learner.cc:1115: Starting in XGBoost 1.3.0, the default evaluation metric used with the objective 'multi:softprob' was changed from 'merror' to 'mlogloss'. Explicitly set eval_metric if you'd like to restore the old behavior.\n",
      "[CV 7/10; 1/1] END colsample_bytree=0.4, gamma=0.2, learning_rate=0.1, max_depth=12, min_child_weight=1;, score=0.964 total time= 3.9min\n",
      "[CV 6/10; 1/1] START colsample_bytree=0.4, gamma=0.2, learning_rate=0.1, max_depth=4, min_child_weight=1\n",
      "[15:16:29] WARNING: /var/folders/sy/f16zz6x50xz3113nwtb9bvq00000gp/T/abs_44tbtwf8c1/croots/recipe/xgboost-split_1659548960882/work/src/learner.cc:1115: Starting in XGBoost 1.3.0, the default evaluation metric used with the objective 'multi:softprob' was changed from 'merror' to 'mlogloss'. Explicitly set eval_metric if you'd like to restore the old behavior.\n",
      "[CV 6/10; 1/1] END colsample_bytree=0.4, gamma=0.2, learning_rate=0.1, max_depth=4, min_child_weight=1;, score=0.959 total time= 3.3min\n",
      "[CV 10/10; 1/1] START colsample_bytree=0.4, gamma=0.2, learning_rate=0.1, max_depth=4, min_child_weight=1\n",
      "[15:19:44] WARNING: /var/folders/sy/f16zz6x50xz3113nwtb9bvq00000gp/T/abs_44tbtwf8c1/croots/recipe/xgboost-split_1659548960882/work/src/learner.cc:1115: Starting in XGBoost 1.3.0, the default evaluation metric used with the objective 'multi:softprob' was changed from 'merror' to 'mlogloss'. Explicitly set eval_metric if you'd like to restore the old behavior.\n",
      "[CV 10/10; 1/1] END colsample_bytree=0.4, gamma=0.2, learning_rate=0.1, max_depth=4, min_child_weight=1;, score=0.953 total time=  48.2s\n",
      "[CV 3/10; 1/1] START colsample_bytree=0.5, gamma=0.3, learning_rate=0.1, max_depth=6, min_child_weight=3\n",
      "[15:20:35] WARNING: /var/folders/sy/f16zz6x50xz3113nwtb9bvq00000gp/T/abs_44tbtwf8c1/croots/recipe/xgboost-split_1659548960882/work/src/learner.cc:1115: Starting in XGBoost 1.3.0, the default evaluation metric used with the objective 'multi:softprob' was changed from 'merror' to 'mlogloss'. Explicitly set eval_metric if you'd like to restore the old behavior.\n",
      "[CV 3/10; 1/1] END colsample_bytree=0.5, gamma=0.3, learning_rate=0.1, max_depth=6, min_child_weight=3;, score=0.969 total time= 3.6min\n",
      "[CV 10/10; 1/1] START colsample_bytree=0.5, gamma=0.3, learning_rate=0.1, max_depth=6, min_child_weight=3\n",
      "[15:24:10] WARNING: /var/folders/sy/f16zz6x50xz3113nwtb9bvq00000gp/T/abs_44tbtwf8c1/croots/recipe/xgboost-split_1659548960882/work/src/learner.cc:1115: Starting in XGBoost 1.3.0, the default evaluation metric used with the objective 'multi:softprob' was changed from 'merror' to 'mlogloss'. Explicitly set eval_metric if you'd like to restore the old behavior.\n",
      "[CV 10/10; 1/1] END colsample_bytree=0.5, gamma=0.3, learning_rate=0.1, max_depth=6, min_child_weight=3;, score=0.953 total time=  54.4s\n",
      "[CV 8/10; 1/1] START colsample_bytree=0.5, gamma=0.4, learning_rate=0.15, max_depth=4, min_child_weight=3\n",
      "[15:25:07] WARNING: /var/folders/sy/f16zz6x50xz3113nwtb9bvq00000gp/T/abs_44tbtwf8c1/croots/recipe/xgboost-split_1659548960882/work/src/learner.cc:1115: Starting in XGBoost 1.3.0, the default evaluation metric used with the objective 'multi:softprob' was changed from 'merror' to 'mlogloss'. Explicitly set eval_metric if you'd like to restore the old behavior.\n",
      "[CV 8/10; 1/1] END colsample_bytree=0.5, gamma=0.4, learning_rate=0.15, max_depth=4, min_child_weight=3;, score=0.984 total time= 2.9min\n",
      "[CV 4/10; 1/1] START colsample_bytree=0.5, gamma=0.2, learning_rate=0.15, max_depth=10, min_child_weight=3\n",
      "[15:28:44] WARNING: /var/folders/sy/f16zz6x50xz3113nwtb9bvq00000gp/T/abs_44tbtwf8c1/croots/recipe/xgboost-split_1659548960882/work/src/learner.cc:1115: Starting in XGBoost 1.3.0, the default evaluation metric used with the objective 'multi:softprob' was changed from 'merror' to 'mlogloss'. Explicitly set eval_metric if you'd like to restore the old behavior.\n",
      "[CV 4/10; 1/1] END colsample_bytree=0.5, gamma=0.2, learning_rate=0.15, max_depth=10, min_child_weight=3;, score=0.995 total time= 3.1min\n",
      "[CV 6/10; 1/1] START colsample_bytree=0.3, gamma=0.0, learning_rate=0.3, max_depth=12, min_child_weight=3\n",
      "[15:32:38] WARNING: /var/folders/sy/f16zz6x50xz3113nwtb9bvq00000gp/T/abs_44tbtwf8c1/croots/recipe/xgboost-split_1659548960882/work/src/learner.cc:1115: Starting in XGBoost 1.3.0, the default evaluation metric used with the objective 'multi:softprob' was changed from 'merror' to 'mlogloss'. Explicitly set eval_metric if you'd like to restore the old behavior.\n",
      "[CV 6/10; 1/1] END colsample_bytree=0.3, gamma=0.0, learning_rate=0.3, max_depth=12, min_child_weight=3;, score=0.969 total time= 1.4min\n",
      "[CV 9/10; 1/1] START colsample_bytree=0.3, gamma=0.0, learning_rate=0.3, max_depth=12, min_child_weight=3\n",
      "[15:34:03] WARNING: /var/folders/sy/f16zz6x50xz3113nwtb9bvq00000gp/T/abs_44tbtwf8c1/croots/recipe/xgboost-split_1659548960882/work/src/learner.cc:1115: Starting in XGBoost 1.3.0, the default evaluation metric used with the objective 'multi:softprob' was changed from 'merror' to 'mlogloss'. Explicitly set eval_metric if you'd like to restore the old behavior.\n",
      "[CV 9/10; 1/1] END colsample_bytree=0.3, gamma=0.0, learning_rate=0.3, max_depth=12, min_child_weight=3;, score=0.964 total time=  23.4s\n",
      "[CV 4/10; 1/1] START colsample_bytree=0.4, gamma=0.2, learning_rate=0.15, max_depth=10, min_child_weight=1\n",
      "[15:34:30] WARNING: /var/folders/sy/f16zz6x50xz3113nwtb9bvq00000gp/T/abs_44tbtwf8c1/croots/recipe/xgboost-split_1659548960882/work/src/learner.cc:1115: Starting in XGBoost 1.3.0, the default evaluation metric used with the objective 'multi:softprob' was changed from 'merror' to 'mlogloss'. Explicitly set eval_metric if you'd like to restore the old behavior.\n",
      "[CV 4/10; 1/1] END colsample_bytree=0.4, gamma=0.2, learning_rate=0.15, max_depth=10, min_child_weight=1;, score=0.995 total time= 3.2min\n",
      "[CV 6/10; 1/1] START colsample_bytree=0.5, gamma=0.1, learning_rate=0.15, max_depth=10, min_child_weight=3\n",
      "[15:38:38] WARNING: /var/folders/sy/f16zz6x50xz3113nwtb9bvq00000gp/T/abs_44tbtwf8c1/croots/recipe/xgboost-split_1659548960882/work/src/learner.cc:1115: Starting in XGBoost 1.3.0, the default evaluation metric used with the objective 'multi:softprob' was changed from 'merror' to 'mlogloss'. Explicitly set eval_metric if you'd like to restore the old behavior.\n",
      "[CV 6/10; 1/1] END colsample_bytree=0.5, gamma=0.1, learning_rate=0.15, max_depth=10, min_child_weight=3;, score=0.969 total time= 3.4min\n",
      "[CV 9/10; 1/1] START colsample_bytree=0.5, gamma=0.1, learning_rate=0.15, max_depth=10, min_child_weight=3\n",
      "[15:42:00] WARNING: /var/folders/sy/f16zz6x50xz3113nwtb9bvq00000gp/T/abs_44tbtwf8c1/croots/recipe/xgboost-split_1659548960882/work/src/learner.cc:1115: Starting in XGBoost 1.3.0, the default evaluation metric used with the objective 'multi:softprob' was changed from 'merror' to 'mlogloss'. Explicitly set eval_metric if you'd like to restore the old behavior.\n",
      "[CV 9/10; 1/1] END colsample_bytree=0.5, gamma=0.1, learning_rate=0.15, max_depth=10, min_child_weight=3;, score=0.974 total time=  48.9s\n",
      "[CV 3/10; 1/1] START colsample_bytree=0.5, gamma=0.3, learning_rate=0.05, max_depth=5, min_child_weight=1\n",
      "[15:42:51] WARNING: /var/folders/sy/f16zz6x50xz3113nwtb9bvq00000gp/T/abs_44tbtwf8c1/croots/recipe/xgboost-split_1659548960882/work/src/learner.cc:1115: Starting in XGBoost 1.3.0, the default evaluation metric used with the objective 'multi:softprob' was changed from 'merror' to 'mlogloss'. Explicitly set eval_metric if you'd like to restore the old behavior.\n",
      "[CV 3/10; 1/1] END colsample_bytree=0.5, gamma=0.3, learning_rate=0.05, max_depth=5, min_child_weight=1;, score=0.979 total time= 4.7min\n",
      "[CV 4/10; 1/1] START colsample_bytree=0.5, gamma=0.1, learning_rate=0.05, max_depth=6, min_child_weight=3\n",
      "[15:48:47] WARNING: /var/folders/sy/f16zz6x50xz3113nwtb9bvq00000gp/T/abs_44tbtwf8c1/croots/recipe/xgboost-split_1659548960882/work/src/learner.cc:1115: Starting in XGBoost 1.3.0, the default evaluation metric used with the objective 'multi:softprob' was changed from 'merror' to 'mlogloss'. Explicitly set eval_metric if you'd like to restore the old behavior.\n",
      "[CV 4/10; 1/1] END colsample_bytree=0.5, gamma=0.1, learning_rate=0.05, max_depth=6, min_child_weight=3;, score=0.990 total time= 4.6min\n",
      "[CV 6/10; 1/1] START colsample_bytree=0.5, gamma=0.2, learning_rate=0.05, max_depth=12, min_child_weight=3\n",
      "[15:54:35] WARNING: /var/folders/sy/f16zz6x50xz3113nwtb9bvq00000gp/T/abs_44tbtwf8c1/croots/recipe/xgboost-split_1659548960882/work/src/learner.cc:1115: Starting in XGBoost 1.3.0, the default evaluation metric used with the objective 'multi:softprob' was changed from 'merror' to 'mlogloss'. Explicitly set eval_metric if you'd like to restore the old behavior.\n",
      "[CV 6/10; 1/1] END colsample_bytree=0.5, gamma=0.2, learning_rate=0.05, max_depth=12, min_child_weight=3;, score=0.964 total time= 4.9min\n",
      "[CV 9/10; 1/1] START colsample_bytree=0.5, gamma=0.2, learning_rate=0.05, max_depth=12, min_child_weight=3\n",
      "[15:59:29] WARNING: /var/folders/sy/f16zz6x50xz3113nwtb9bvq00000gp/T/abs_44tbtwf8c1/croots/recipe/xgboost-split_1659548960882/work/src/learner.cc:1115: Starting in XGBoost 1.3.0, the default evaluation metric used with the objective 'multi:softprob' was changed from 'merror' to 'mlogloss'. Explicitly set eval_metric if you'd like to restore the old behavior.\n",
      "[CV 9/10; 1/1] END colsample_bytree=0.5, gamma=0.2, learning_rate=0.05, max_depth=12, min_child_weight=3;, score=0.969 total time= 1.5min\n",
      "[CV 6/10; 1/1] START colsample_bytree=0.4, gamma=0.3, learning_rate=0.1, max_depth=3, min_child_weight=3\n",
      "[16:00:58] WARNING: /var/folders/sy/f16zz6x50xz3113nwtb9bvq00000gp/T/abs_44tbtwf8c1/croots/recipe/xgboost-split_1659548960882/work/src/learner.cc:1115: Starting in XGBoost 1.3.0, the default evaluation metric used with the objective 'multi:softprob' was changed from 'merror' to 'mlogloss'. Explicitly set eval_metric if you'd like to restore the old behavior.\n",
      "[CV 6/10; 1/1] END colsample_bytree=0.4, gamma=0.3, learning_rate=0.1, max_depth=3, min_child_weight=3;, score=0.959 total time= 2.5min\n",
      "[CV 9/10; 1/1] START colsample_bytree=0.4, gamma=0.3, learning_rate=0.1, max_depth=3, min_child_weight=3\n",
      "[16:03:30] WARNING: /var/folders/sy/f16zz6x50xz3113nwtb9bvq00000gp/T/abs_44tbtwf8c1/croots/recipe/xgboost-split_1659548960882/work/src/learner.cc:1115: Starting in XGBoost 1.3.0, the default evaluation metric used with the objective 'multi:softprob' was changed from 'merror' to 'mlogloss'. Explicitly set eval_metric if you'd like to restore the old behavior.\n",
      "[CV 9/10; 1/1] END colsample_bytree=0.4, gamma=0.3, learning_rate=0.1, max_depth=3, min_child_weight=3;, score=0.974 total time=  47.9s\n",
      "[CV 7/10; 1/1] START colsample_bytree=0.4, gamma=0.4, learning_rate=0.15, max_depth=10, min_child_weight=5\n",
      "[16:04:20] WARNING: /var/folders/sy/f16zz6x50xz3113nwtb9bvq00000gp/T/abs_44tbtwf8c1/croots/recipe/xgboost-split_1659548960882/work/src/learner.cc:1115: Starting in XGBoost 1.3.0, the default evaluation metric used with the objective 'multi:softprob' was changed from 'merror' to 'mlogloss'. Explicitly set eval_metric if you'd like to restore the old behavior.\n",
      "[CV 7/10; 1/1] END colsample_bytree=0.4, gamma=0.4, learning_rate=0.15, max_depth=10, min_child_weight=5;, score=0.953 total time= 2.4min\n",
      "[CV 10/10; 1/1] START colsample_bytree=0.4, gamma=0.4, learning_rate=0.15, max_depth=10, min_child_weight=5\n",
      "[16:06:43] WARNING: /var/folders/sy/f16zz6x50xz3113nwtb9bvq00000gp/T/abs_44tbtwf8c1/croots/recipe/xgboost-split_1659548960882/work/src/learner.cc:1115: Starting in XGBoost 1.3.0, the default evaluation metric used with the objective 'multi:softprob' was changed from 'merror' to 'mlogloss'. Explicitly set eval_metric if you'd like to restore the old behavior.\n",
      "[CV 10/10; 1/1] END colsample_bytree=0.4, gamma=0.4, learning_rate=0.15, max_depth=10, min_child_weight=5;, score=0.959 total time=  37.4s\n",
      "[CV 5/10; 1/1] START colsample_bytree=0.5, gamma=0.2, learning_rate=0.3, max_depth=10, min_child_weight=3\n",
      "[16:07:24] WARNING: /var/folders/sy/f16zz6x50xz3113nwtb9bvq00000gp/T/abs_44tbtwf8c1/croots/recipe/xgboost-split_1659548960882/work/src/learner.cc:1115: Starting in XGBoost 1.3.0, the default evaluation metric used with the objective 'multi:softprob' was changed from 'merror' to 'mlogloss'. Explicitly set eval_metric if you'd like to restore the old behavior.\n",
      "[CV 5/10; 1/1] END colsample_bytree=0.5, gamma=0.2, learning_rate=0.3, max_depth=10, min_child_weight=3;, score=0.979 total time= 2.4min\n",
      "[CV 6/10; 1/1] START colsample_bytree=0.4, gamma=0.2, learning_rate=0.25, max_depth=5, min_child_weight=5\n",
      "[16:10:21] WARNING: /var/folders/sy/f16zz6x50xz3113nwtb9bvq00000gp/T/abs_44tbtwf8c1/croots/recipe/xgboost-split_1659548960882/work/src/learner.cc:1115: Starting in XGBoost 1.3.0, the default evaluation metric used with the objective 'multi:softprob' was changed from 'merror' to 'mlogloss'. Explicitly set eval_metric if you'd like to restore the old behavior.\n",
      "[CV 6/10; 1/1] END colsample_bytree=0.4, gamma=0.2, learning_rate=0.25, max_depth=5, min_child_weight=5;, score=0.959 total time= 1.8min\n",
      "[CV 9/10; 1/1] START colsample_bytree=0.4, gamma=0.2, learning_rate=0.25, max_depth=5, min_child_weight=5\n",
      "[16:12:07] WARNING: /var/folders/sy/f16zz6x50xz3113nwtb9bvq00000gp/T/abs_44tbtwf8c1/croots/recipe/xgboost-split_1659548960882/work/src/learner.cc:1115: Starting in XGBoost 1.3.0, the default evaluation metric used with the objective 'multi:softprob' was changed from 'merror' to 'mlogloss'. Explicitly set eval_metric if you'd like to restore the old behavior.\n",
      "[CV 9/10; 1/1] END colsample_bytree=0.4, gamma=0.2, learning_rate=0.25, max_depth=5, min_child_weight=5;, score=0.964 total time=  29.2s\n",
      "[CV 8/10; 1/1] START colsample_bytree=0.5, gamma=0.0, learning_rate=0.25, max_depth=8, min_child_weight=7\n",
      "[16:12:39] WARNING: /var/folders/sy/f16zz6x50xz3113nwtb9bvq00000gp/T/abs_44tbtwf8c1/croots/recipe/xgboost-split_1659548960882/work/src/learner.cc:1115: Starting in XGBoost 1.3.0, the default evaluation metric used with the objective 'multi:softprob' was changed from 'merror' to 'mlogloss'. Explicitly set eval_metric if you'd like to restore the old behavior.\n",
      "[CV 8/10; 1/1] END colsample_bytree=0.5, gamma=0.0, learning_rate=0.25, max_depth=8, min_child_weight=7;, score=0.974 total time= 2.1min\n",
      "[CV 9/10; 1/1] START colsample_bytree=0.5, gamma=0.0, learning_rate=0.25, max_depth=8, min_child_weight=7\n"
     ]
    },
    {
     "name": "stdout",
     "output_type": "stream",
     "text": [
      "Fitting 10 folds for each of 1 candidates, totalling 10 fits\n"
     ]
    },
    {
     "name": "stderr",
     "output_type": "stream",
     "text": [
      "/Users/Yash/opt/anaconda3/envs/Om_sai_ram/lib/python3.9/site-packages/sklearn/model_selection/_split.py:676: UserWarning: The least populated class in y has only 2 members, which is less than n_splits=10.\n",
      "  warnings.warn(\n"
     ]
    },
    {
     "name": "stdout",
     "output_type": "stream",
     "text": [
      "Fitting 10 folds for each of 1 candidates, totalling 10 fits\n"
     ]
    },
    {
     "name": "stderr",
     "output_type": "stream",
     "text": [
      "/Users/Yash/opt/anaconda3/envs/Om_sai_ram/lib/python3.9/site-packages/sklearn/model_selection/_split.py:676: UserWarning: The least populated class in y has only 2 members, which is less than n_splits=10.\n",
      "  warnings.warn(\n"
     ]
    },
    {
     "name": "stdout",
     "output_type": "stream",
     "text": [
      "[CV 6/10; 1/1] START colsample_bytree=0.5, gamma=0.2, learning_rate=0.25, max_depth=3, min_child_weight=1\n",
      "[15:05:39] WARNING: /var/folders/sy/f16zz6x50xz3113nwtb9bvq00000gp/T/abs_44tbtwf8c1/croots/recipe/xgboost-split_1659548960882/work/src/learner.cc:1115: Starting in XGBoost 1.3.0, the default evaluation metric used with the objective 'multi:softprob' was changed from 'merror' to 'mlogloss'. Explicitly set eval_metric if you'd like to restore the old behavior.\n",
      "[CV 6/10; 1/1] END colsample_bytree=0.5, gamma=0.2, learning_rate=0.25, max_depth=3, min_child_weight=1;, score=0.964 total time= 2.8min\n",
      "[CV 3/10; 1/1] START colsample_bytree=0.3, gamma=0.4, learning_rate=0.25, max_depth=15, min_child_weight=3\n",
      "[15:09:11] WARNING: /var/folders/sy/f16zz6x50xz3113nwtb9bvq00000gp/T/abs_44tbtwf8c1/croots/recipe/xgboost-split_1659548960882/work/src/learner.cc:1115: Starting in XGBoost 1.3.0, the default evaluation metric used with the objective 'multi:softprob' was changed from 'merror' to 'mlogloss'. Explicitly set eval_metric if you'd like to restore the old behavior.\n",
      "[CV 3/10; 1/1] END colsample_bytree=0.3, gamma=0.4, learning_rate=0.25, max_depth=15, min_child_weight=3;, score=0.974 total time= 1.8min\n",
      "[CV 10/10; 1/1] START colsample_bytree=0.3, gamma=0.4, learning_rate=0.25, max_depth=15, min_child_weight=3\n",
      "[15:11:01] WARNING: /var/folders/sy/f16zz6x50xz3113nwtb9bvq00000gp/T/abs_44tbtwf8c1/croots/recipe/xgboost-split_1659548960882/work/src/learner.cc:1115: Starting in XGBoost 1.3.0, the default evaluation metric used with the objective 'multi:softprob' was changed from 'merror' to 'mlogloss'. Explicitly set eval_metric if you'd like to restore the old behavior.\n",
      "[CV 10/10; 1/1] END colsample_bytree=0.3, gamma=0.4, learning_rate=0.25, max_depth=15, min_child_weight=3;, score=0.959 total time=  31.4s\n",
      "[CV 6/10; 1/1] START colsample_bytree=0.4, gamma=0.2, learning_rate=0.1, max_depth=12, min_child_weight=1\n",
      "[15:11:37] WARNING: /var/folders/sy/f16zz6x50xz3113nwtb9bvq00000gp/T/abs_44tbtwf8c1/croots/recipe/xgboost-split_1659548960882/work/src/learner.cc:1115: Starting in XGBoost 1.3.0, the default evaluation metric used with the objective 'multi:softprob' was changed from 'merror' to 'mlogloss'. Explicitly set eval_metric if you'd like to restore the old behavior.\n",
      "[CV 6/10; 1/1] END colsample_bytree=0.4, gamma=0.2, learning_rate=0.1, max_depth=12, min_child_weight=1;, score=0.959 total time= 3.8min\n",
      "[CV 9/10; 1/1] START colsample_bytree=0.4, gamma=0.2, learning_rate=0.1, max_depth=12, min_child_weight=1\n",
      "[15:15:25] WARNING: /var/folders/sy/f16zz6x50xz3113nwtb9bvq00000gp/T/abs_44tbtwf8c1/croots/recipe/xgboost-split_1659548960882/work/src/learner.cc:1115: Starting in XGBoost 1.3.0, the default evaluation metric used with the objective 'multi:softprob' was changed from 'merror' to 'mlogloss'. Explicitly set eval_metric if you'd like to restore the old behavior.\n",
      "[CV 9/10; 1/1] END colsample_bytree=0.4, gamma=0.2, learning_rate=0.1, max_depth=12, min_child_weight=1;, score=0.969 total time= 1.1min\n",
      "[CV 8/10; 1/1] START colsample_bytree=0.4, gamma=0.2, learning_rate=0.1, max_depth=4, min_child_weight=1\n",
      "[15:16:29] WARNING: /var/folders/sy/f16zz6x50xz3113nwtb9bvq00000gp/T/abs_44tbtwf8c1/croots/recipe/xgboost-split_1659548960882/work/src/learner.cc:1115: Starting in XGBoost 1.3.0, the default evaluation metric used with the objective 'multi:softprob' was changed from 'merror' to 'mlogloss'. Explicitly set eval_metric if you'd like to restore the old behavior.\n",
      "[CV 8/10; 1/1] END colsample_bytree=0.4, gamma=0.2, learning_rate=0.1, max_depth=4, min_child_weight=1;, score=0.990 total time= 3.3min\n",
      "[CV 9/10; 1/1] START colsample_bytree=0.4, gamma=0.2, learning_rate=0.1, max_depth=4, min_child_weight=1\n",
      "[15:19:44] WARNING: /var/folders/sy/f16zz6x50xz3113nwtb9bvq00000gp/T/abs_44tbtwf8c1/croots/recipe/xgboost-split_1659548960882/work/src/learner.cc:1115: Starting in XGBoost 1.3.0, the default evaluation metric used with the objective 'multi:softprob' was changed from 'merror' to 'mlogloss'. Explicitly set eval_metric if you'd like to restore the old behavior.\n",
      "[CV 9/10; 1/1] END colsample_bytree=0.4, gamma=0.2, learning_rate=0.1, max_depth=4, min_child_weight=1;, score=0.974 total time=  48.4s\n",
      "[CV 6/10; 1/1] START colsample_bytree=0.5, gamma=0.3, learning_rate=0.1, max_depth=6, min_child_weight=3\n",
      "[15:20:35] WARNING: /var/folders/sy/f16zz6x50xz3113nwtb9bvq00000gp/T/abs_44tbtwf8c1/croots/recipe/xgboost-split_1659548960882/work/src/learner.cc:1115: Starting in XGBoost 1.3.0, the default evaluation metric used with the objective 'multi:softprob' was changed from 'merror' to 'mlogloss'. Explicitly set eval_metric if you'd like to restore the old behavior.\n",
      "[CV 6/10; 1/1] END colsample_bytree=0.5, gamma=0.3, learning_rate=0.1, max_depth=6, min_child_weight=3;, score=0.964 total time= 3.6min\n",
      "[CV 9/10; 1/1] START colsample_bytree=0.5, gamma=0.3, learning_rate=0.1, max_depth=6, min_child_weight=3\n",
      "[15:24:10] WARNING: /var/folders/sy/f16zz6x50xz3113nwtb9bvq00000gp/T/abs_44tbtwf8c1/croots/recipe/xgboost-split_1659548960882/work/src/learner.cc:1115: Starting in XGBoost 1.3.0, the default evaluation metric used with the objective 'multi:softprob' was changed from 'merror' to 'mlogloss'. Explicitly set eval_metric if you'd like to restore the old behavior.\n",
      "[CV 9/10; 1/1] END colsample_bytree=0.5, gamma=0.3, learning_rate=0.1, max_depth=6, min_child_weight=3;, score=0.969 total time=  55.3s\n",
      "[CV 5/10; 1/1] START colsample_bytree=0.5, gamma=0.4, learning_rate=0.15, max_depth=4, min_child_weight=3\n",
      "[15:25:07] WARNING: /var/folders/sy/f16zz6x50xz3113nwtb9bvq00000gp/T/abs_44tbtwf8c1/croots/recipe/xgboost-split_1659548960882/work/src/learner.cc:1115: Starting in XGBoost 1.3.0, the default evaluation metric used with the objective 'multi:softprob' was changed from 'merror' to 'mlogloss'. Explicitly set eval_metric if you'd like to restore the old behavior.\n",
      "[CV 5/10; 1/1] END colsample_bytree=0.5, gamma=0.4, learning_rate=0.15, max_depth=4, min_child_weight=3;, score=0.979 total time= 2.9min\n",
      "[CV 1/10; 1/1] START colsample_bytree=0.5, gamma=0.2, learning_rate=0.15, max_depth=10, min_child_weight=3\n",
      "[15:28:44] WARNING: /var/folders/sy/f16zz6x50xz3113nwtb9bvq00000gp/T/abs_44tbtwf8c1/croots/recipe/xgboost-split_1659548960882/work/src/learner.cc:1115: Starting in XGBoost 1.3.0, the default evaluation metric used with the objective 'multi:softprob' was changed from 'merror' to 'mlogloss'. Explicitly set eval_metric if you'd like to restore the old behavior.\n",
      "[CV 1/10; 1/1] END colsample_bytree=0.5, gamma=0.2, learning_rate=0.15, max_depth=10, min_child_weight=3;, score=0.984 total time= 3.2min\n",
      "[CV 2/10; 1/1] START colsample_bytree=0.3, gamma=0.0, learning_rate=0.3, max_depth=12, min_child_weight=3\n",
      "[15:32:38] WARNING: /var/folders/sy/f16zz6x50xz3113nwtb9bvq00000gp/T/abs_44tbtwf8c1/croots/recipe/xgboost-split_1659548960882/work/src/learner.cc:1115: Starting in XGBoost 1.3.0, the default evaluation metric used with the objective 'multi:softprob' was changed from 'merror' to 'mlogloss'. Explicitly set eval_metric if you'd like to restore the old behavior.\n",
      "[CV 2/10; 1/1] END colsample_bytree=0.3, gamma=0.0, learning_rate=0.3, max_depth=12, min_child_weight=3;, score=0.974 total time= 1.5min\n",
      "[CV 6/10; 1/1] START colsample_bytree=0.4, gamma=0.2, learning_rate=0.15, max_depth=10, min_child_weight=1\n",
      "[15:34:30] WARNING: /var/folders/sy/f16zz6x50xz3113nwtb9bvq00000gp/T/abs_44tbtwf8c1/croots/recipe/xgboost-split_1659548960882/work/src/learner.cc:1115: Starting in XGBoost 1.3.0, the default evaluation metric used with the objective 'multi:softprob' was changed from 'merror' to 'mlogloss'. Explicitly set eval_metric if you'd like to restore the old behavior.\n",
      "[CV 6/10; 1/1] END colsample_bytree=0.4, gamma=0.2, learning_rate=0.15, max_depth=10, min_child_weight=1;, score=0.959 total time= 3.2min\n",
      "[CV 9/10; 1/1] START colsample_bytree=0.4, gamma=0.2, learning_rate=0.15, max_depth=10, min_child_weight=1\n",
      "[15:37:39] WARNING: /var/folders/sy/f16zz6x50xz3113nwtb9bvq00000gp/T/abs_44tbtwf8c1/croots/recipe/xgboost-split_1659548960882/work/src/learner.cc:1115: Starting in XGBoost 1.3.0, the default evaluation metric used with the objective 'multi:softprob' was changed from 'merror' to 'mlogloss'. Explicitly set eval_metric if you'd like to restore the old behavior.\n",
      "[CV 9/10; 1/1] END colsample_bytree=0.4, gamma=0.2, learning_rate=0.15, max_depth=10, min_child_weight=1;, score=0.964 total time=  55.5s\n",
      "[CV 7/10; 1/1] START colsample_bytree=0.5, gamma=0.1, learning_rate=0.15, max_depth=10, min_child_weight=3\n",
      "[15:38:39] WARNING: /var/folders/sy/f16zz6x50xz3113nwtb9bvq00000gp/T/abs_44tbtwf8c1/croots/recipe/xgboost-split_1659548960882/work/src/learner.cc:1115: Starting in XGBoost 1.3.0, the default evaluation metric used with the objective 'multi:softprob' was changed from 'merror' to 'mlogloss'. Explicitly set eval_metric if you'd like to restore the old behavior.\n",
      "[CV 7/10; 1/1] END colsample_bytree=0.5, gamma=0.1, learning_rate=0.15, max_depth=10, min_child_weight=3;, score=0.959 total time= 3.4min\n",
      "[CV 1/10; 1/1] START colsample_bytree=0.5, gamma=0.3, learning_rate=0.05, max_depth=5, min_child_weight=1\n",
      "[15:42:51] WARNING: /var/folders/sy/f16zz6x50xz3113nwtb9bvq00000gp/T/abs_44tbtwf8c1/croots/recipe/xgboost-split_1659548960882/work/src/learner.cc:1115: Starting in XGBoost 1.3.0, the default evaluation metric used with the objective 'multi:softprob' was changed from 'merror' to 'mlogloss'. Explicitly set eval_metric if you'd like to restore the old behavior.\n",
      "[CV 1/10; 1/1] END colsample_bytree=0.5, gamma=0.3, learning_rate=0.05, max_depth=5, min_child_weight=1;, score=0.979 total time= 4.7min\n",
      "[CV 8/10; 1/1] START colsample_bytree=0.5, gamma=0.1, learning_rate=0.05, max_depth=6, min_child_weight=3\n",
      "[15:48:48] WARNING: /var/folders/sy/f16zz6x50xz3113nwtb9bvq00000gp/T/abs_44tbtwf8c1/croots/recipe/xgboost-split_1659548960882/work/src/learner.cc:1115: Starting in XGBoost 1.3.0, the default evaluation metric used with the objective 'multi:softprob' was changed from 'merror' to 'mlogloss'. Explicitly set eval_metric if you'd like to restore the old behavior.\n",
      "[CV 8/10; 1/1] END colsample_bytree=0.5, gamma=0.1, learning_rate=0.05, max_depth=6, min_child_weight=3;, score=0.990 total time= 4.6min\n",
      "[CV 7/10; 1/1] START colsample_bytree=0.5, gamma=0.2, learning_rate=0.05, max_depth=12, min_child_weight=3\n",
      "[15:54:35] WARNING: /var/folders/sy/f16zz6x50xz3113nwtb9bvq00000gp/T/abs_44tbtwf8c1/croots/recipe/xgboost-split_1659548960882/work/src/learner.cc:1115: Starting in XGBoost 1.3.0, the default evaluation metric used with the objective 'multi:softprob' was changed from 'merror' to 'mlogloss'. Explicitly set eval_metric if you'd like to restore the old behavior.\n",
      "[CV 7/10; 1/1] END colsample_bytree=0.5, gamma=0.2, learning_rate=0.05, max_depth=12, min_child_weight=3;, score=0.964 total time= 5.0min\n",
      "[CV 1/10; 1/1] START colsample_bytree=0.4, gamma=0.3, learning_rate=0.1, max_depth=3, min_child_weight=3\n",
      "[16:00:58] WARNING: /var/folders/sy/f16zz6x50xz3113nwtb9bvq00000gp/T/abs_44tbtwf8c1/croots/recipe/xgboost-split_1659548960882/work/src/learner.cc:1115: Starting in XGBoost 1.3.0, the default evaluation metric used with the objective 'multi:softprob' was changed from 'merror' to 'mlogloss'. Explicitly set eval_metric if you'd like to restore the old behavior.\n",
      "[CV 1/10; 1/1] END colsample_bytree=0.4, gamma=0.3, learning_rate=0.1, max_depth=3, min_child_weight=3;, score=0.979 total time= 2.6min\n",
      "[CV 2/10; 1/1] START colsample_bytree=0.4, gamma=0.4, learning_rate=0.15, max_depth=10, min_child_weight=5\n",
      "[16:04:20] WARNING: /var/folders/sy/f16zz6x50xz3113nwtb9bvq00000gp/T/abs_44tbtwf8c1/croots/recipe/xgboost-split_1659548960882/work/src/learner.cc:1115: Starting in XGBoost 1.3.0, the default evaluation metric used with the objective 'multi:softprob' was changed from 'merror' to 'mlogloss'. Explicitly set eval_metric if you'd like to restore the old behavior.\n",
      "[CV 2/10; 1/1] END colsample_bytree=0.4, gamma=0.4, learning_rate=0.15, max_depth=10, min_child_weight=5;, score=0.979 total time= 2.5min\n",
      "[CV 3/10; 1/1] START colsample_bytree=0.5, gamma=0.2, learning_rate=0.3, max_depth=10, min_child_weight=3\n",
      "[16:07:23] WARNING: /var/folders/sy/f16zz6x50xz3113nwtb9bvq00000gp/T/abs_44tbtwf8c1/croots/recipe/xgboost-split_1659548960882/work/src/learner.cc:1115: Starting in XGBoost 1.3.0, the default evaluation metric used with the objective 'multi:softprob' was changed from 'merror' to 'mlogloss'. Explicitly set eval_metric if you'd like to restore the old behavior.\n",
      "[CV 3/10; 1/1] END colsample_bytree=0.5, gamma=0.2, learning_rate=0.3, max_depth=10, min_child_weight=3;, score=0.984 total time= 2.3min\n",
      "[CV 9/10; 1/1] START colsample_bytree=0.5, gamma=0.2, learning_rate=0.3, max_depth=10, min_child_weight=3\n",
      "[16:09:41] WARNING: /var/folders/sy/f16zz6x50xz3113nwtb9bvq00000gp/T/abs_44tbtwf8c1/croots/recipe/xgboost-split_1659548960882/work/src/learner.cc:1115: Starting in XGBoost 1.3.0, the default evaluation metric used with the objective 'multi:softprob' was changed from 'merror' to 'mlogloss'. Explicitly set eval_metric if you'd like to restore the old behavior.\n",
      "[CV 9/10; 1/1] END colsample_bytree=0.5, gamma=0.2, learning_rate=0.3, max_depth=10, min_child_weight=3;, score=0.969 total time=  38.8s\n",
      "[CV 3/10; 1/1] START colsample_bytree=0.4, gamma=0.2, learning_rate=0.25, max_depth=5, min_child_weight=5\n",
      "[16:10:21] WARNING: /var/folders/sy/f16zz6x50xz3113nwtb9bvq00000gp/T/abs_44tbtwf8c1/croots/recipe/xgboost-split_1659548960882/work/src/learner.cc:1115: Starting in XGBoost 1.3.0, the default evaluation metric used with the objective 'multi:softprob' was changed from 'merror' to 'mlogloss'. Explicitly set eval_metric if you'd like to restore the old behavior.\n",
      "[CV 3/10; 1/1] END colsample_bytree=0.4, gamma=0.2, learning_rate=0.25, max_depth=5, min_child_weight=5;, score=0.974 total time= 1.8min\n",
      "[CV 1/10; 1/1] START colsample_bytree=0.5, gamma=0.0, learning_rate=0.25, max_depth=8, min_child_weight=7\n",
      "[16:12:40] WARNING: /var/folders/sy/f16zz6x50xz3113nwtb9bvq00000gp/T/abs_44tbtwf8c1/croots/recipe/xgboost-split_1659548960882/work/src/learner.cc:1115: Starting in XGBoost 1.3.0, the default evaluation metric used with the objective 'multi:softprob' was changed from 'merror' to 'mlogloss'. Explicitly set eval_metric if you'd like to restore the old behavior.\n",
      "[CV 1/10; 1/1] END colsample_bytree=0.5, gamma=0.0, learning_rate=0.25, max_depth=8, min_child_weight=7;, score=0.990 total time= 2.2min\n",
      "[CV 6/10; 1/1] START colsample_bytree=0.5, gamma=0.4, learning_rate=0.05, max_depth=4, min_child_weight=5\n",
      "[16:15:21] WARNING: /var/folders/sy/f16zz6x50xz3113nwtb9bvq00000gp/T/abs_44tbtwf8c1/croots/recipe/xgboost-split_1659548960882/work/src/learner.cc:1115: Starting in XGBoost 1.3.0, the default evaluation metric used with the objective 'multi:softprob' was changed from 'merror' to 'mlogloss'. Explicitly set eval_metric if you'd like to restore the old behavior.\n",
      "[CV 6/10; 1/1] END colsample_bytree=0.5, gamma=0.4, learning_rate=0.05, max_depth=4, min_child_weight=5;, score=0.953 total time= 4.1min\n",
      "[CV 9/10; 1/1] START colsample_bytree=0.5, gamma=0.4, learning_rate=0.05, max_depth=4, min_child_weight=5\n",
      "[16:19:28] WARNING: /var/folders/sy/f16zz6x50xz3113nwtb9bvq00000gp/T/abs_44tbtwf8c1/croots/recipe/xgboost-split_1659548960882/work/src/learner.cc:1115: Starting in XGBoost 1.3.0, the default evaluation metric used with the objective 'multi:softprob' was changed from 'merror' to 'mlogloss'. Explicitly set eval_metric if you'd like to restore the old behavior.\n",
      "[CV 9/10; 1/1] END colsample_bytree=0.5, gamma=0.4, learning_rate=0.05, max_depth=4, min_child_weight=5;, score=0.969 total time= 1.1min\n",
      "[CV 8/10; 1/1] START colsample_bytree=0.5, gamma=0.2, learning_rate=0.1, max_depth=10, min_child_weight=3\n"
     ]
    },
    {
     "name": "stdout",
     "output_type": "stream",
     "text": [
      "Fitting 10 folds for each of 1 candidates, totalling 10 fits\n"
     ]
    },
    {
     "name": "stderr",
     "output_type": "stream",
     "text": [
      "/Users/Yash/opt/anaconda3/envs/Om_sai_ram/lib/python3.9/site-packages/sklearn/model_selection/_split.py:676: UserWarning: The least populated class in y has only 2 members, which is less than n_splits=10.\n",
      "  warnings.warn(\n"
     ]
    },
    {
     "name": "stdout",
     "output_type": "stream",
     "text": [
      "[CV 5/10; 1/1] START colsample_bytree=0.5, gamma=0.2, learning_rate=0.25, max_depth=3, min_child_weight=1\n",
      "[15:05:39] WARNING: /var/folders/sy/f16zz6x50xz3113nwtb9bvq00000gp/T/abs_44tbtwf8c1/croots/recipe/xgboost-split_1659548960882/work/src/learner.cc:1115: Starting in XGBoost 1.3.0, the default evaluation metric used with the objective 'multi:softprob' was changed from 'merror' to 'mlogloss'. Explicitly set eval_metric if you'd like to restore the old behavior.\n",
      "[CV 5/10; 1/1] END colsample_bytree=0.5, gamma=0.2, learning_rate=0.25, max_depth=3, min_child_weight=1;, score=0.969 total time= 2.9min\n",
      "[CV 8/10; 1/1] START colsample_bytree=0.3, gamma=0.4, learning_rate=0.25, max_depth=15, min_child_weight=3\n",
      "[15:09:11] WARNING: /var/folders/sy/f16zz6x50xz3113nwtb9bvq00000gp/T/abs_44tbtwf8c1/croots/recipe/xgboost-split_1659548960882/work/src/learner.cc:1115: Starting in XGBoost 1.3.0, the default evaluation metric used with the objective 'multi:softprob' was changed from 'merror' to 'mlogloss'. Explicitly set eval_metric if you'd like to restore the old behavior.\n",
      "[CV 8/10; 1/1] END colsample_bytree=0.3, gamma=0.4, learning_rate=0.25, max_depth=15, min_child_weight=3;, score=0.974 total time= 1.9min\n",
      "[CV 8/10; 1/1] START colsample_bytree=0.4, gamma=0.2, learning_rate=0.1, max_depth=12, min_child_weight=1\n",
      "[15:11:37] WARNING: /var/folders/sy/f16zz6x50xz3113nwtb9bvq00000gp/T/abs_44tbtwf8c1/croots/recipe/xgboost-split_1659548960882/work/src/learner.cc:1115: Starting in XGBoost 1.3.0, the default evaluation metric used with the objective 'multi:softprob' was changed from 'merror' to 'mlogloss'. Explicitly set eval_metric if you'd like to restore the old behavior.\n",
      "[CV 8/10; 1/1] END colsample_bytree=0.4, gamma=0.2, learning_rate=0.1, max_depth=12, min_child_weight=1;, score=0.984 total time= 3.9min\n",
      "[CV 5/10; 1/1] START colsample_bytree=0.4, gamma=0.2, learning_rate=0.1, max_depth=4, min_child_weight=1\n",
      "[15:16:29] WARNING: /var/folders/sy/f16zz6x50xz3113nwtb9bvq00000gp/T/abs_44tbtwf8c1/croots/recipe/xgboost-split_1659548960882/work/src/learner.cc:1115: Starting in XGBoost 1.3.0, the default evaluation metric used with the objective 'multi:softprob' was changed from 'merror' to 'mlogloss'. Explicitly set eval_metric if you'd like to restore the old behavior.\n",
      "[CV 5/10; 1/1] END colsample_bytree=0.4, gamma=0.2, learning_rate=0.1, max_depth=4, min_child_weight=1;, score=0.979 total time= 3.3min\n",
      "[CV 4/10; 1/1] START colsample_bytree=0.5, gamma=0.3, learning_rate=0.1, max_depth=6, min_child_weight=3\n",
      "[15:20:35] WARNING: /var/folders/sy/f16zz6x50xz3113nwtb9bvq00000gp/T/abs_44tbtwf8c1/croots/recipe/xgboost-split_1659548960882/work/src/learner.cc:1115: Starting in XGBoost 1.3.0, the default evaluation metric used with the objective 'multi:softprob' was changed from 'merror' to 'mlogloss'. Explicitly set eval_metric if you'd like to restore the old behavior.\n",
      "[CV 4/10; 1/1] END colsample_bytree=0.5, gamma=0.3, learning_rate=0.1, max_depth=6, min_child_weight=3;, score=0.984 total time= 3.6min\n",
      "[CV 7/10; 1/1] START colsample_bytree=0.5, gamma=0.4, learning_rate=0.15, max_depth=4, min_child_weight=3\n",
      "[15:25:07] WARNING: /var/folders/sy/f16zz6x50xz3113nwtb9bvq00000gp/T/abs_44tbtwf8c1/croots/recipe/xgboost-split_1659548960882/work/src/learner.cc:1115: Starting in XGBoost 1.3.0, the default evaluation metric used with the objective 'multi:softprob' was changed from 'merror' to 'mlogloss'. Explicitly set eval_metric if you'd like to restore the old behavior.\n",
      "[CV 7/10; 1/1] END colsample_bytree=0.5, gamma=0.4, learning_rate=0.15, max_depth=4, min_child_weight=3;, score=0.959 total time= 2.9min\n",
      "[CV 6/10; 1/1] START colsample_bytree=0.5, gamma=0.2, learning_rate=0.15, max_depth=10, min_child_weight=3\n",
      "[15:28:44] WARNING: /var/folders/sy/f16zz6x50xz3113nwtb9bvq00000gp/T/abs_44tbtwf8c1/croots/recipe/xgboost-split_1659548960882/work/src/learner.cc:1115: Starting in XGBoost 1.3.0, the default evaluation metric used with the objective 'multi:softprob' was changed from 'merror' to 'mlogloss'. Explicitly set eval_metric if you'd like to restore the old behavior.\n",
      "[CV 6/10; 1/1] END colsample_bytree=0.5, gamma=0.2, learning_rate=0.15, max_depth=10, min_child_weight=3;, score=0.969 total time= 3.1min\n",
      "[CV 9/10; 1/1] START colsample_bytree=0.5, gamma=0.2, learning_rate=0.15, max_depth=10, min_child_weight=3\n",
      "[15:31:48] WARNING: /var/folders/sy/f16zz6x50xz3113nwtb9bvq00000gp/T/abs_44tbtwf8c1/croots/recipe/xgboost-split_1659548960882/work/src/learner.cc:1115: Starting in XGBoost 1.3.0, the default evaluation metric used with the objective 'multi:softprob' was changed from 'merror' to 'mlogloss'. Explicitly set eval_metric if you'd like to restore the old behavior.\n",
      "[CV 9/10; 1/1] END colsample_bytree=0.5, gamma=0.2, learning_rate=0.15, max_depth=10, min_child_weight=3;, score=0.974 total time=  49.4s\n",
      "[CV 3/10; 1/1] START colsample_bytree=0.3, gamma=0.0, learning_rate=0.3, max_depth=12, min_child_weight=3\n",
      "[15:32:38] WARNING: /var/folders/sy/f16zz6x50xz3113nwtb9bvq00000gp/T/abs_44tbtwf8c1/croots/recipe/xgboost-split_1659548960882/work/src/learner.cc:1115: Starting in XGBoost 1.3.0, the default evaluation metric used with the objective 'multi:softprob' was changed from 'merror' to 'mlogloss'. Explicitly set eval_metric if you'd like to restore the old behavior.\n",
      "[CV 3/10; 1/1] END colsample_bytree=0.3, gamma=0.0, learning_rate=0.3, max_depth=12, min_child_weight=3;, score=0.969 total time= 1.4min\n",
      "[CV 10/10; 1/1] START colsample_bytree=0.3, gamma=0.0, learning_rate=0.3, max_depth=12, min_child_weight=3\n",
      "[15:34:03] WARNING: /var/folders/sy/f16zz6x50xz3113nwtb9bvq00000gp/T/abs_44tbtwf8c1/croots/recipe/xgboost-split_1659548960882/work/src/learner.cc:1115: Starting in XGBoost 1.3.0, the default evaluation metric used with the objective 'multi:softprob' was changed from 'merror' to 'mlogloss'. Explicitly set eval_metric if you'd like to restore the old behavior.\n",
      "[CV 10/10; 1/1] END colsample_bytree=0.3, gamma=0.0, learning_rate=0.3, max_depth=12, min_child_weight=3;, score=0.964 total time=  23.1s\n",
      "[CV 5/10; 1/1] START colsample_bytree=0.4, gamma=0.2, learning_rate=0.15, max_depth=10, min_child_weight=1\n",
      "[15:34:30] WARNING: /var/folders/sy/f16zz6x50xz3113nwtb9bvq00000gp/T/abs_44tbtwf8c1/croots/recipe/xgboost-split_1659548960882/work/src/learner.cc:1115: Starting in XGBoost 1.3.0, the default evaluation metric used with the objective 'multi:softprob' was changed from 'merror' to 'mlogloss'. Explicitly set eval_metric if you'd like to restore the old behavior.\n",
      "[CV 5/10; 1/1] END colsample_bytree=0.4, gamma=0.2, learning_rate=0.15, max_depth=10, min_child_weight=1;, score=0.979 total time= 3.2min\n",
      "[CV 10/10; 1/1] START colsample_bytree=0.4, gamma=0.2, learning_rate=0.15, max_depth=10, min_child_weight=1\n",
      "[15:37:40] WARNING: /var/folders/sy/f16zz6x50xz3113nwtb9bvq00000gp/T/abs_44tbtwf8c1/croots/recipe/xgboost-split_1659548960882/work/src/learner.cc:1115: Starting in XGBoost 1.3.0, the default evaluation metric used with the objective 'multi:softprob' was changed from 'merror' to 'mlogloss'. Explicitly set eval_metric if you'd like to restore the old behavior.\n",
      "[CV 10/10; 1/1] END colsample_bytree=0.4, gamma=0.2, learning_rate=0.15, max_depth=10, min_child_weight=1;, score=0.959 total time=  54.0s\n",
      "[CV 5/10; 1/1] START colsample_bytree=0.5, gamma=0.1, learning_rate=0.15, max_depth=10, min_child_weight=3\n",
      "[15:38:39] WARNING: /var/folders/sy/f16zz6x50xz3113nwtb9bvq00000gp/T/abs_44tbtwf8c1/croots/recipe/xgboost-split_1659548960882/work/src/learner.cc:1115: Starting in XGBoost 1.3.0, the default evaluation metric used with the objective 'multi:softprob' was changed from 'merror' to 'mlogloss'. Explicitly set eval_metric if you'd like to restore the old behavior.\n",
      "[CV 5/10; 1/1] END colsample_bytree=0.5, gamma=0.1, learning_rate=0.15, max_depth=10, min_child_weight=3;, score=0.979 total time= 3.5min\n",
      "[CV 6/10; 1/1] START colsample_bytree=0.5, gamma=0.3, learning_rate=0.05, max_depth=5, min_child_weight=1\n",
      "[15:42:51] WARNING: /var/folders/sy/f16zz6x50xz3113nwtb9bvq00000gp/T/abs_44tbtwf8c1/croots/recipe/xgboost-split_1659548960882/work/src/learner.cc:1115: Starting in XGBoost 1.3.0, the default evaluation metric used with the objective 'multi:softprob' was changed from 'merror' to 'mlogloss'. Explicitly set eval_metric if you'd like to restore the old behavior.\n",
      "[CV 6/10; 1/1] END colsample_bytree=0.5, gamma=0.3, learning_rate=0.05, max_depth=5, min_child_weight=1;, score=0.964 total time= 4.6min\n",
      "[CV 9/10; 1/1] START colsample_bytree=0.5, gamma=0.3, learning_rate=0.05, max_depth=5, min_child_weight=1\n",
      "[15:47:29] WARNING: /var/folders/sy/f16zz6x50xz3113nwtb9bvq00000gp/T/abs_44tbtwf8c1/croots/recipe/xgboost-split_1659548960882/work/src/learner.cc:1115: Starting in XGBoost 1.3.0, the default evaluation metric used with the objective 'multi:softprob' was changed from 'merror' to 'mlogloss'. Explicitly set eval_metric if you'd like to restore the old behavior.\n",
      "[CV 9/10; 1/1] END colsample_bytree=0.5, gamma=0.3, learning_rate=0.05, max_depth=5, min_child_weight=1;, score=0.959 total time= 1.2min\n",
      "[CV 6/10; 1/1] START colsample_bytree=0.5, gamma=0.1, learning_rate=0.05, max_depth=6, min_child_weight=3\n",
      "[15:48:47] WARNING: /var/folders/sy/f16zz6x50xz3113nwtb9bvq00000gp/T/abs_44tbtwf8c1/croots/recipe/xgboost-split_1659548960882/work/src/learner.cc:1115: Starting in XGBoost 1.3.0, the default evaluation metric used with the objective 'multi:softprob' was changed from 'merror' to 'mlogloss'. Explicitly set eval_metric if you'd like to restore the old behavior.\n",
      "[CV 6/10; 1/1] END colsample_bytree=0.5, gamma=0.1, learning_rate=0.05, max_depth=6, min_child_weight=3;, score=0.959 total time= 4.5min\n",
      "[CV 9/10; 1/1] START colsample_bytree=0.5, gamma=0.1, learning_rate=0.05, max_depth=6, min_child_weight=3\n",
      "[15:53:18] WARNING: /var/folders/sy/f16zz6x50xz3113nwtb9bvq00000gp/T/abs_44tbtwf8c1/croots/recipe/xgboost-split_1659548960882/work/src/learner.cc:1115: Starting in XGBoost 1.3.0, the default evaluation metric used with the objective 'multi:softprob' was changed from 'merror' to 'mlogloss'. Explicitly set eval_metric if you'd like to restore the old behavior.\n",
      "[CV 9/10; 1/1] END colsample_bytree=0.5, gamma=0.1, learning_rate=0.05, max_depth=6, min_child_weight=3;, score=0.969 total time= 1.2min\n",
      "[CV 3/10; 1/1] START colsample_bytree=0.5, gamma=0.2, learning_rate=0.05, max_depth=12, min_child_weight=3\n",
      "[15:54:35] WARNING: /var/folders/sy/f16zz6x50xz3113nwtb9bvq00000gp/T/abs_44tbtwf8c1/croots/recipe/xgboost-split_1659548960882/work/src/learner.cc:1115: Starting in XGBoost 1.3.0, the default evaluation metric used with the objective 'multi:softprob' was changed from 'merror' to 'mlogloss'. Explicitly set eval_metric if you'd like to restore the old behavior.\n",
      "[CV 3/10; 1/1] END colsample_bytree=0.5, gamma=0.2, learning_rate=0.05, max_depth=12, min_child_weight=3;, score=0.974 total time= 5.0min\n",
      "[CV 10/10; 1/1] START colsample_bytree=0.5, gamma=0.2, learning_rate=0.05, max_depth=12, min_child_weight=3\n",
      "[15:59:32] WARNING: /var/folders/sy/f16zz6x50xz3113nwtb9bvq00000gp/T/abs_44tbtwf8c1/croots/recipe/xgboost-split_1659548960882/work/src/learner.cc:1115: Starting in XGBoost 1.3.0, the default evaluation metric used with the objective 'multi:softprob' was changed from 'merror' to 'mlogloss'. Explicitly set eval_metric if you'd like to restore the old behavior.\n",
      "[CV 10/10; 1/1] END colsample_bytree=0.5, gamma=0.2, learning_rate=0.05, max_depth=12, min_child_weight=3;, score=0.953 total time= 1.4min\n",
      "[CV 4/10; 1/1] START colsample_bytree=0.4, gamma=0.3, learning_rate=0.1, max_depth=3, min_child_weight=3\n",
      "[16:00:58] WARNING: /var/folders/sy/f16zz6x50xz3113nwtb9bvq00000gp/T/abs_44tbtwf8c1/croots/recipe/xgboost-split_1659548960882/work/src/learner.cc:1115: Starting in XGBoost 1.3.0, the default evaluation metric used with the objective 'multi:softprob' was changed from 'merror' to 'mlogloss'. Explicitly set eval_metric if you'd like to restore the old behavior.\n",
      "[CV 4/10; 1/1] END colsample_bytree=0.4, gamma=0.3, learning_rate=0.1, max_depth=3, min_child_weight=3;, score=0.984 total time= 2.6min\n",
      "[CV 5/10; 1/1] START colsample_bytree=0.4, gamma=0.4, learning_rate=0.15, max_depth=10, min_child_weight=5\n",
      "[16:04:20] WARNING: /var/folders/sy/f16zz6x50xz3113nwtb9bvq00000gp/T/abs_44tbtwf8c1/croots/recipe/xgboost-split_1659548960882/work/src/learner.cc:1115: Starting in XGBoost 1.3.0, the default evaluation metric used with the objective 'multi:softprob' was changed from 'merror' to 'mlogloss'. Explicitly set eval_metric if you'd like to restore the old behavior.\n",
      "[CV 5/10; 1/1] END colsample_bytree=0.4, gamma=0.4, learning_rate=0.15, max_depth=10, min_child_weight=5;, score=0.979 total time= 2.4min\n",
      "[CV 8/10; 1/1] START colsample_bytree=0.5, gamma=0.2, learning_rate=0.3, max_depth=10, min_child_weight=3\n",
      "[16:07:24] WARNING: /var/folders/sy/f16zz6x50xz3113nwtb9bvq00000gp/T/abs_44tbtwf8c1/croots/recipe/xgboost-split_1659548960882/work/src/learner.cc:1115: Starting in XGBoost 1.3.0, the default evaluation metric used with the objective 'multi:softprob' was changed from 'merror' to 'mlogloss'. Explicitly set eval_metric if you'd like to restore the old behavior.\n",
      "[CV 8/10; 1/1] END colsample_bytree=0.5, gamma=0.2, learning_rate=0.3, max_depth=10, min_child_weight=3;, score=0.979 total time= 2.3min\n",
      "[CV 1/10; 1/1] START colsample_bytree=0.4, gamma=0.2, learning_rate=0.25, max_depth=5, min_child_weight=5\n",
      "[16:10:21] WARNING: /var/folders/sy/f16zz6x50xz3113nwtb9bvq00000gp/T/abs_44tbtwf8c1/croots/recipe/xgboost-split_1659548960882/work/src/learner.cc:1115: Starting in XGBoost 1.3.0, the default evaluation metric used with the objective 'multi:softprob' was changed from 'merror' to 'mlogloss'. Explicitly set eval_metric if you'd like to restore the old behavior.\n",
      "[CV 1/10; 1/1] END colsample_bytree=0.4, gamma=0.2, learning_rate=0.25, max_depth=5, min_child_weight=5;, score=0.979 total time= 1.8min\n",
      "[CV 5/10; 1/1] START colsample_bytree=0.5, gamma=0.0, learning_rate=0.25, max_depth=8, min_child_weight=7\n",
      "[16:12:40] WARNING: /var/folders/sy/f16zz6x50xz3113nwtb9bvq00000gp/T/abs_44tbtwf8c1/croots/recipe/xgboost-split_1659548960882/work/src/learner.cc:1115: Starting in XGBoost 1.3.0, the default evaluation metric used with the objective 'multi:softprob' was changed from 'merror' to 'mlogloss'. Explicitly set eval_metric if you'd like to restore the old behavior.\n",
      "[CV 5/10; 1/1] END colsample_bytree=0.5, gamma=0.0, learning_rate=0.25, max_depth=8, min_child_weight=7;, score=0.984 total time= 2.2min\n",
      "[CV 2/10; 1/1] START colsample_bytree=0.5, gamma=0.4, learning_rate=0.05, max_depth=4, min_child_weight=5\n",
      "[16:15:21] WARNING: /var/folders/sy/f16zz6x50xz3113nwtb9bvq00000gp/T/abs_44tbtwf8c1/croots/recipe/xgboost-split_1659548960882/work/src/learner.cc:1115: Starting in XGBoost 1.3.0, the default evaluation metric used with the objective 'multi:softprob' was changed from 'merror' to 'mlogloss'. Explicitly set eval_metric if you'd like to restore the old behavior.\n",
      "[CV 2/10; 1/1] END colsample_bytree=0.5, gamma=0.4, learning_rate=0.05, max_depth=4, min_child_weight=5;, score=0.979 total time= 4.2min\n",
      "[CV 7/10; 1/1] START colsample_bytree=0.5, gamma=0.2, learning_rate=0.1, max_depth=10, min_child_weight=3\n",
      "[16:20:38] WARNING: /var/folders/sy/f16zz6x50xz3113nwtb9bvq00000gp/T/abs_44tbtwf8c1/croots/recipe/xgboost-split_1659548960882/work/src/learner.cc:1115: Starting in XGBoost 1.3.0, the default evaluation metric used with the objective 'multi:softprob' was changed from 'merror' to 'mlogloss'. Explicitly set eval_metric if you'd like to restore the old behavior.\n",
      "[CV 7/10; 1/1] END colsample_bytree=0.5, gamma=0.2, learning_rate=0.1, max_depth=10, min_child_weight=3;, score=0.964 total time= 3.9min\n",
      "[CV 1/10; 1/1] START colsample_bytree=0.4, gamma=0.4, learning_rate=0.1, max_depth=4, min_child_weight=7\n"
     ]
    },
    {
     "name": "stdout",
     "output_type": "stream",
     "text": [
      "Fitting 10 folds for each of 1 candidates, totalling 10 fits\n"
     ]
    },
    {
     "name": "stderr",
     "output_type": "stream",
     "text": [
      "/Users/Yash/opt/anaconda3/envs/Om_sai_ram/lib/python3.9/site-packages/sklearn/model_selection/_split.py:676: UserWarning: The least populated class in y has only 2 members, which is less than n_splits=10.\n",
      "  warnings.warn(\n"
     ]
    },
    {
     "name": "stdout",
     "output_type": "stream",
     "text": [
      "Fitting 10 folds for each of 1 candidates, totalling 10 fits\n"
     ]
    },
    {
     "name": "stderr",
     "output_type": "stream",
     "text": [
      "/Users/Yash/opt/anaconda3/envs/Om_sai_ram/lib/python3.9/site-packages/sklearn/model_selection/_split.py:676: UserWarning: The least populated class in y has only 2 members, which is less than n_splits=10.\n",
      "  warnings.warn(\n"
     ]
    },
    {
     "name": "stdout",
     "output_type": "stream",
     "text": [
      "[CV 8/10; 1/1] START colsample_bytree=0.5, gamma=0.2, learning_rate=0.25, max_depth=3, min_child_weight=1\n",
      "[15:05:39] WARNING: /var/folders/sy/f16zz6x50xz3113nwtb9bvq00000gp/T/abs_44tbtwf8c1/croots/recipe/xgboost-split_1659548960882/work/src/learner.cc:1115: Starting in XGBoost 1.3.0, the default evaluation metric used with the objective 'multi:softprob' was changed from 'merror' to 'mlogloss'. Explicitly set eval_metric if you'd like to restore the old behavior.\n",
      "[CV 8/10; 1/1] END colsample_bytree=0.5, gamma=0.2, learning_rate=0.25, max_depth=3, min_child_weight=1;, score=0.969 total time= 2.9min\n",
      "[CV 5/10; 1/1] START colsample_bytree=0.3, gamma=0.4, learning_rate=0.25, max_depth=15, min_child_weight=3\n",
      "[15:09:11] WARNING: /var/folders/sy/f16zz6x50xz3113nwtb9bvq00000gp/T/abs_44tbtwf8c1/croots/recipe/xgboost-split_1659548960882/work/src/learner.cc:1115: Starting in XGBoost 1.3.0, the default evaluation metric used with the objective 'multi:softprob' was changed from 'merror' to 'mlogloss'. Explicitly set eval_metric if you'd like to restore the old behavior.\n",
      "[CV 5/10; 1/1] END colsample_bytree=0.3, gamma=0.4, learning_rate=0.25, max_depth=15, min_child_weight=3;, score=0.979 total time= 1.9min\n",
      "[CV 1/10; 1/1] START colsample_bytree=0.4, gamma=0.2, learning_rate=0.1, max_depth=12, min_child_weight=1\n",
      "[15:11:37] WARNING: /var/folders/sy/f16zz6x50xz3113nwtb9bvq00000gp/T/abs_44tbtwf8c1/croots/recipe/xgboost-split_1659548960882/work/src/learner.cc:1115: Starting in XGBoost 1.3.0, the default evaluation metric used with the objective 'multi:softprob' was changed from 'merror' to 'mlogloss'. Explicitly set eval_metric if you'd like to restore the old behavior.\n",
      "[CV 1/10; 1/1] END colsample_bytree=0.4, gamma=0.2, learning_rate=0.1, max_depth=12, min_child_weight=1;, score=0.974 total time= 3.9min\n",
      "[CV 3/10; 1/1] START colsample_bytree=0.4, gamma=0.2, learning_rate=0.1, max_depth=4, min_child_weight=1\n",
      "[15:16:29] WARNING: /var/folders/sy/f16zz6x50xz3113nwtb9bvq00000gp/T/abs_44tbtwf8c1/croots/recipe/xgboost-split_1659548960882/work/src/learner.cc:1115: Starting in XGBoost 1.3.0, the default evaluation metric used with the objective 'multi:softprob' was changed from 'merror' to 'mlogloss'. Explicitly set eval_metric if you'd like to restore the old behavior.\n",
      "[CV 3/10; 1/1] END colsample_bytree=0.4, gamma=0.2, learning_rate=0.1, max_depth=4, min_child_weight=1;, score=0.974 total time= 3.3min\n",
      "[CV 1/10; 1/1] START colsample_bytree=0.5, gamma=0.3, learning_rate=0.1, max_depth=6, min_child_weight=3\n",
      "[15:20:35] WARNING: /var/folders/sy/f16zz6x50xz3113nwtb9bvq00000gp/T/abs_44tbtwf8c1/croots/recipe/xgboost-split_1659548960882/work/src/learner.cc:1115: Starting in XGBoost 1.3.0, the default evaluation metric used with the objective 'multi:softprob' was changed from 'merror' to 'mlogloss'. Explicitly set eval_metric if you'd like to restore the old behavior.\n",
      "[CV 1/10; 1/1] END colsample_bytree=0.5, gamma=0.3, learning_rate=0.1, max_depth=6, min_child_weight=3;, score=0.979 total time= 3.6min\n",
      "[CV 1/10; 1/1] START colsample_bytree=0.5, gamma=0.4, learning_rate=0.15, max_depth=4, min_child_weight=3\n",
      "[15:25:06] WARNING: /var/folders/sy/f16zz6x50xz3113nwtb9bvq00000gp/T/abs_44tbtwf8c1/croots/recipe/xgboost-split_1659548960882/work/src/learner.cc:1115: Starting in XGBoost 1.3.0, the default evaluation metric used with the objective 'multi:softprob' was changed from 'merror' to 'mlogloss'. Explicitly set eval_metric if you'd like to restore the old behavior.\n",
      "[CV 1/10; 1/1] END colsample_bytree=0.5, gamma=0.4, learning_rate=0.15, max_depth=4, min_child_weight=3;, score=0.984 total time= 2.9min\n",
      "[CV 7/10; 1/1] START colsample_bytree=0.5, gamma=0.2, learning_rate=0.15, max_depth=10, min_child_weight=3\n",
      "[15:28:45] WARNING: /var/folders/sy/f16zz6x50xz3113nwtb9bvq00000gp/T/abs_44tbtwf8c1/croots/recipe/xgboost-split_1659548960882/work/src/learner.cc:1115: Starting in XGBoost 1.3.0, the default evaluation metric used with the objective 'multi:softprob' was changed from 'merror' to 'mlogloss'. Explicitly set eval_metric if you'd like to restore the old behavior.\n",
      "[CV 7/10; 1/1] END colsample_bytree=0.5, gamma=0.2, learning_rate=0.15, max_depth=10, min_child_weight=3;, score=0.959 total time= 3.1min\n",
      "[CV 8/10; 1/1] START colsample_bytree=0.3, gamma=0.0, learning_rate=0.3, max_depth=12, min_child_weight=3\n",
      "[15:32:38] WARNING: /var/folders/sy/f16zz6x50xz3113nwtb9bvq00000gp/T/abs_44tbtwf8c1/croots/recipe/xgboost-split_1659548960882/work/src/learner.cc:1115: Starting in XGBoost 1.3.0, the default evaluation metric used with the objective 'multi:softprob' was changed from 'merror' to 'mlogloss'. Explicitly set eval_metric if you'd like to restore the old behavior.\n",
      "[CV 8/10; 1/1] END colsample_bytree=0.3, gamma=0.0, learning_rate=0.3, max_depth=12, min_child_weight=3;, score=0.979 total time= 1.5min\n",
      "[CV 1/10; 1/1] START colsample_bytree=0.4, gamma=0.2, learning_rate=0.15, max_depth=10, min_child_weight=1\n",
      "[15:34:30] WARNING: /var/folders/sy/f16zz6x50xz3113nwtb9bvq00000gp/T/abs_44tbtwf8c1/croots/recipe/xgboost-split_1659548960882/work/src/learner.cc:1115: Starting in XGBoost 1.3.0, the default evaluation metric used with the objective 'multi:softprob' was changed from 'merror' to 'mlogloss'. Explicitly set eval_metric if you'd like to restore the old behavior.\n",
      "[CV 1/10; 1/1] END colsample_bytree=0.4, gamma=0.2, learning_rate=0.15, max_depth=10, min_child_weight=1;, score=0.979 total time= 3.2min\n",
      "[CV 8/10; 1/1] START colsample_bytree=0.5, gamma=0.1, learning_rate=0.15, max_depth=10, min_child_weight=3\n",
      "[15:38:39] WARNING: /var/folders/sy/f16zz6x50xz3113nwtb9bvq00000gp/T/abs_44tbtwf8c1/croots/recipe/xgboost-split_1659548960882/work/src/learner.cc:1115: Starting in XGBoost 1.3.0, the default evaluation metric used with the objective 'multi:softprob' was changed from 'merror' to 'mlogloss'. Explicitly set eval_metric if you'd like to restore the old behavior.\n",
      "[CV 8/10; 1/1] END colsample_bytree=0.5, gamma=0.1, learning_rate=0.15, max_depth=10, min_child_weight=3;, score=0.984 total time= 3.5min\n",
      "[CV 7/10; 1/1] START colsample_bytree=0.5, gamma=0.3, learning_rate=0.05, max_depth=5, min_child_weight=1\n",
      "[15:42:51] WARNING: /var/folders/sy/f16zz6x50xz3113nwtb9bvq00000gp/T/abs_44tbtwf8c1/croots/recipe/xgboost-split_1659548960882/work/src/learner.cc:1115: Starting in XGBoost 1.3.0, the default evaluation metric used with the objective 'multi:softprob' was changed from 'merror' to 'mlogloss'. Explicitly set eval_metric if you'd like to restore the old behavior.\n",
      "[CV 7/10; 1/1] END colsample_bytree=0.5, gamma=0.3, learning_rate=0.05, max_depth=5, min_child_weight=1;, score=0.964 total time= 4.7min\n",
      "[CV 5/10; 1/1] START colsample_bytree=0.5, gamma=0.1, learning_rate=0.05, max_depth=6, min_child_weight=3\n",
      "[15:48:47] WARNING: /var/folders/sy/f16zz6x50xz3113nwtb9bvq00000gp/T/abs_44tbtwf8c1/croots/recipe/xgboost-split_1659548960882/work/src/learner.cc:1115: Starting in XGBoost 1.3.0, the default evaluation metric used with the objective 'multi:softprob' was changed from 'merror' to 'mlogloss'. Explicitly set eval_metric if you'd like to restore the old behavior.\n",
      "[CV 5/10; 1/1] END colsample_bytree=0.5, gamma=0.1, learning_rate=0.05, max_depth=6, min_child_weight=3;, score=0.984 total time= 4.6min\n",
      "[CV 8/10; 1/1] START colsample_bytree=0.5, gamma=0.2, learning_rate=0.05, max_depth=12, min_child_weight=3\n",
      "[15:54:35] WARNING: /var/folders/sy/f16zz6x50xz3113nwtb9bvq00000gp/T/abs_44tbtwf8c1/croots/recipe/xgboost-split_1659548960882/work/src/learner.cc:1115: Starting in XGBoost 1.3.0, the default evaluation metric used with the objective 'multi:softprob' was changed from 'merror' to 'mlogloss'. Explicitly set eval_metric if you'd like to restore the old behavior.\n",
      "[CV 8/10; 1/1] END colsample_bytree=0.5, gamma=0.2, learning_rate=0.05, max_depth=12, min_child_weight=3;, score=0.990 total time= 5.1min\n",
      "[CV 7/10; 1/1] START colsample_bytree=0.4, gamma=0.3, learning_rate=0.1, max_depth=3, min_child_weight=3\n",
      "[16:00:58] WARNING: /var/folders/sy/f16zz6x50xz3113nwtb9bvq00000gp/T/abs_44tbtwf8c1/croots/recipe/xgboost-split_1659548960882/work/src/learner.cc:1115: Starting in XGBoost 1.3.0, the default evaluation metric used with the objective 'multi:softprob' was changed from 'merror' to 'mlogloss'. Explicitly set eval_metric if you'd like to restore the old behavior.\n",
      "[CV 7/10; 1/1] END colsample_bytree=0.4, gamma=0.3, learning_rate=0.1, max_depth=3, min_child_weight=3;, score=0.964 total time= 2.6min\n",
      "[CV 4/10; 1/1] START colsample_bytree=0.4, gamma=0.4, learning_rate=0.15, max_depth=10, min_child_weight=5\n",
      "[16:04:20] WARNING: /var/folders/sy/f16zz6x50xz3113nwtb9bvq00000gp/T/abs_44tbtwf8c1/croots/recipe/xgboost-split_1659548960882/work/src/learner.cc:1115: Starting in XGBoost 1.3.0, the default evaluation metric used with the objective 'multi:softprob' was changed from 'merror' to 'mlogloss'. Explicitly set eval_metric if you'd like to restore the old behavior.\n",
      "[CV 4/10; 1/1] END colsample_bytree=0.4, gamma=0.4, learning_rate=0.15, max_depth=10, min_child_weight=5;, score=0.990 total time= 2.4min\n",
      "[CV 2/10; 1/1] START colsample_bytree=0.5, gamma=0.2, learning_rate=0.3, max_depth=10, min_child_weight=3\n",
      "[16:07:24] WARNING: /var/folders/sy/f16zz6x50xz3113nwtb9bvq00000gp/T/abs_44tbtwf8c1/croots/recipe/xgboost-split_1659548960882/work/src/learner.cc:1115: Starting in XGBoost 1.3.0, the default evaluation metric used with the objective 'multi:softprob' was changed from 'merror' to 'mlogloss'. Explicitly set eval_metric if you'd like to restore the old behavior.\n",
      "[CV 2/10; 1/1] END colsample_bytree=0.5, gamma=0.2, learning_rate=0.3, max_depth=10, min_child_weight=3;, score=0.974 total time= 2.4min\n",
      "[CV 5/10; 1/1] START colsample_bytree=0.4, gamma=0.2, learning_rate=0.25, max_depth=5, min_child_weight=5\n",
      "[16:10:21] WARNING: /var/folders/sy/f16zz6x50xz3113nwtb9bvq00000gp/T/abs_44tbtwf8c1/croots/recipe/xgboost-split_1659548960882/work/src/learner.cc:1115: Starting in XGBoost 1.3.0, the default evaluation metric used with the objective 'multi:softprob' was changed from 'merror' to 'mlogloss'. Explicitly set eval_metric if you'd like to restore the old behavior.\n",
      "[CV 5/10; 1/1] END colsample_bytree=0.4, gamma=0.2, learning_rate=0.25, max_depth=5, min_child_weight=5;, score=0.974 total time= 1.8min\n",
      "[CV 10/10; 1/1] START colsample_bytree=0.4, gamma=0.2, learning_rate=0.25, max_depth=5, min_child_weight=5\n",
      "[16:12:08] WARNING: /var/folders/sy/f16zz6x50xz3113nwtb9bvq00000gp/T/abs_44tbtwf8c1/croots/recipe/xgboost-split_1659548960882/work/src/learner.cc:1115: Starting in XGBoost 1.3.0, the default evaluation metric used with the objective 'multi:softprob' was changed from 'merror' to 'mlogloss'. Explicitly set eval_metric if you'd like to restore the old behavior.\n",
      "[CV 10/10; 1/1] END colsample_bytree=0.4, gamma=0.2, learning_rate=0.25, max_depth=5, min_child_weight=5;, score=0.948 total time=  28.4s\n",
      "[CV 2/10; 1/1] START colsample_bytree=0.5, gamma=0.0, learning_rate=0.25, max_depth=8, min_child_weight=7\n",
      "[16:12:39] WARNING: /var/folders/sy/f16zz6x50xz3113nwtb9bvq00000gp/T/abs_44tbtwf8c1/croots/recipe/xgboost-split_1659548960882/work/src/learner.cc:1115: Starting in XGBoost 1.3.0, the default evaluation metric used with the objective 'multi:softprob' was changed from 'merror' to 'mlogloss'. Explicitly set eval_metric if you'd like to restore the old behavior.\n",
      "[CV 2/10; 1/1] END colsample_bytree=0.5, gamma=0.0, learning_rate=0.25, max_depth=8, min_child_weight=7;, score=0.979 total time= 2.2min\n",
      "[CV 5/10; 1/1] START colsample_bytree=0.5, gamma=0.4, learning_rate=0.05, max_depth=4, min_child_weight=5\n",
      "[16:15:21] WARNING: /var/folders/sy/f16zz6x50xz3113nwtb9bvq00000gp/T/abs_44tbtwf8c1/croots/recipe/xgboost-split_1659548960882/work/src/learner.cc:1115: Starting in XGBoost 1.3.0, the default evaluation metric used with the objective 'multi:softprob' was changed from 'merror' to 'mlogloss'. Explicitly set eval_metric if you'd like to restore the old behavior.\n",
      "[CV 5/10; 1/1] END colsample_bytree=0.5, gamma=0.4, learning_rate=0.05, max_depth=4, min_child_weight=5;, score=0.969 total time= 4.2min\n",
      "[CV 6/10; 1/1] START colsample_bytree=0.5, gamma=0.2, learning_rate=0.1, max_depth=10, min_child_weight=3\n",
      "[16:20:37] WARNING: /var/folders/sy/f16zz6x50xz3113nwtb9bvq00000gp/T/abs_44tbtwf8c1/croots/recipe/xgboost-split_1659548960882/work/src/learner.cc:1115: Starting in XGBoost 1.3.0, the default evaluation metric used with the objective 'multi:softprob' was changed from 'merror' to 'mlogloss'. Explicitly set eval_metric if you'd like to restore the old behavior.\n",
      "[CV 6/10; 1/1] END colsample_bytree=0.5, gamma=0.2, learning_rate=0.1, max_depth=10, min_child_weight=3;, score=0.964 total time= 3.8min\n",
      "[CV 9/10; 1/1] START colsample_bytree=0.5, gamma=0.2, learning_rate=0.1, max_depth=10, min_child_weight=3\n",
      "[16:24:24] WARNING: /var/folders/sy/f16zz6x50xz3113nwtb9bvq00000gp/T/abs_44tbtwf8c1/croots/recipe/xgboost-split_1659548960882/work/src/learner.cc:1115: Starting in XGBoost 1.3.0, the default evaluation metric used with the objective 'multi:softprob' was changed from 'merror' to 'mlogloss'. Explicitly set eval_metric if you'd like to restore the old behavior.\n",
      "[CV 9/10; 1/1] END colsample_bytree=0.5, gamma=0.2, learning_rate=0.1, max_depth=10, min_child_weight=3;, score=0.974 total time= 1.1min\n",
      "[CV 5/10; 1/1] START colsample_bytree=0.4, gamma=0.4, learning_rate=0.1, max_depth=4, min_child_weight=7\n",
      "[16:25:29] WARNING: /var/folders/sy/f16zz6x50xz3113nwtb9bvq00000gp/T/abs_44tbtwf8c1/croots/recipe/xgboost-split_1659548960882/work/src/learner.cc:1115: Starting in XGBoost 1.3.0, the default evaluation metric used with the objective 'multi:softprob' was changed from 'merror' to 'mlogloss'. Explicitly set eval_metric if you'd like to restore the old behavior.\n",
      "[CV 5/10; 1/1] END colsample_bytree=0.4, gamma=0.4, learning_rate=0.1, max_depth=4, min_child_weight=7;, score=0.979 total time= 2.7min\n",
      "[CV 10/10; 1/1] START colsample_bytree=0.4, gamma=0.4, learning_rate=0.1, max_depth=4, min_child_weight=7\n",
      "[16:28:10] WARNING: /var/folders/sy/f16zz6x50xz3113nwtb9bvq00000gp/T/abs_44tbtwf8c1/croots/recipe/xgboost-split_1659548960882/work/src/learner.cc:1115: Starting in XGBoost 1.3.0, the default evaluation metric used with the objective 'multi:softprob' was changed from 'merror' to 'mlogloss'. Explicitly set eval_metric if you'd like to restore the old behavior.\n",
      "[CV 10/10; 1/1] END colsample_bytree=0.4, gamma=0.4, learning_rate=0.1, max_depth=4, min_child_weight=7;, score=0.948 total time=  40.0s\n",
      "[CV 6/10; 1/1] START colsample_bytree=0.4, gamma=0.3, learning_rate=0.1, max_depth=3, min_child_weight=5\n",
      "[16:28:53] WARNING: /var/folders/sy/f16zz6x50xz3113nwtb9bvq00000gp/T/abs_44tbtwf8c1/croots/recipe/xgboost-split_1659548960882/work/src/learner.cc:1115: Starting in XGBoost 1.3.0, the default evaluation metric used with the objective 'multi:softprob' was changed from 'merror' to 'mlogloss'. Explicitly set eval_metric if you'd like to restore the old behavior.\n",
      "[CV 6/10; 1/1] END colsample_bytree=0.4, gamma=0.3, learning_rate=0.1, max_depth=3, min_child_weight=5;, score=0.953 total time= 2.5min\n",
      "[CV 9/10; 1/1] START colsample_bytree=0.4, gamma=0.3, learning_rate=0.1, max_depth=3, min_child_weight=5\n",
      "[16:31:25] WARNING: /var/folders/sy/f16zz6x50xz3113nwtb9bvq00000gp/T/abs_44tbtwf8c1/croots/recipe/xgboost-split_1659548960882/work/src/learner.cc:1115: Starting in XGBoost 1.3.0, the default evaluation metric used with the objective 'multi:softprob' was changed from 'merror' to 'mlogloss'. Explicitly set eval_metric if you'd like to restore the old behavior.\n",
      "[CV 9/10; 1/1] END colsample_bytree=0.4, gamma=0.3, learning_rate=0.1, max_depth=3, min_child_weight=5;, score=0.974 total time=  40.8s\n",
      "[CV 2/10; 1/1] START colsample_bytree=0.3, gamma=0.1, learning_rate=0.15, max_depth=15, min_child_weight=1\n"
     ]
    },
    {
     "name": "stdout",
     "output_type": "stream",
     "text": [
      "Fitting 10 folds for each of 1 candidates, totalling 10 fits\n"
     ]
    },
    {
     "name": "stderr",
     "output_type": "stream",
     "text": [
      "/Users/Yash/opt/anaconda3/envs/Om_sai_ram/lib/python3.9/site-packages/sklearn/model_selection/_split.py:676: UserWarning: The least populated class in y has only 2 members, which is less than n_splits=10.\n",
      "  warnings.warn(\n"
     ]
    },
    {
     "name": "stdout",
     "output_type": "stream",
     "text": [
      "Fitting 10 folds for each of 1 candidates, totalling 10 fits\n"
     ]
    },
    {
     "name": "stderr",
     "output_type": "stream",
     "text": [
      "/Users/Yash/opt/anaconda3/envs/Om_sai_ram/lib/python3.9/site-packages/sklearn/model_selection/_split.py:676: UserWarning: The least populated class in y has only 2 members, which is less than n_splits=10.\n",
      "  warnings.warn(\n"
     ]
    },
    {
     "name": "stdout",
     "output_type": "stream",
     "text": [
      "Fitting 10 folds for each of 1 candidates, totalling 10 fits\n"
     ]
    },
    {
     "name": "stderr",
     "output_type": "stream",
     "text": [
      "/Users/Yash/opt/anaconda3/envs/Om_sai_ram/lib/python3.9/site-packages/sklearn/model_selection/_split.py:676: UserWarning: The least populated class in y has only 2 members, which is less than n_splits=10.\n",
      "  warnings.warn(\n"
     ]
    },
    {
     "name": "stdout",
     "output_type": "stream",
     "text": [
      "Fitting 10 folds for each of 1 candidates, totalling 10 fits\n"
     ]
    },
    {
     "name": "stderr",
     "output_type": "stream",
     "text": [
      "/Users/Yash/opt/anaconda3/envs/Om_sai_ram/lib/python3.9/site-packages/sklearn/model_selection/_split.py:676: UserWarning: The least populated class in y has only 2 members, which is less than n_splits=10.\n",
      "  warnings.warn(\n"
     ]
    },
    {
     "name": "stdout",
     "output_type": "stream",
     "text": [
      "[CV 7/10; 1/1] START colsample_bytree=0.5, gamma=0.2, learning_rate=0.25, max_depth=3, min_child_weight=1\n",
      "[15:05:39] WARNING: /var/folders/sy/f16zz6x50xz3113nwtb9bvq00000gp/T/abs_44tbtwf8c1/croots/recipe/xgboost-split_1659548960882/work/src/learner.cc:1115: Starting in XGBoost 1.3.0, the default evaluation metric used with the objective 'multi:softprob' was changed from 'merror' to 'mlogloss'. Explicitly set eval_metric if you'd like to restore the old behavior.\n",
      "[CV 7/10; 1/1] END colsample_bytree=0.5, gamma=0.2, learning_rate=0.25, max_depth=3, min_child_weight=1;, score=0.964 total time= 2.9min\n",
      "[CV 6/10; 1/1] START colsample_bytree=0.3, gamma=0.4, learning_rate=0.25, max_depth=15, min_child_weight=3\n",
      "[15:09:11] WARNING: /var/folders/sy/f16zz6x50xz3113nwtb9bvq00000gp/T/abs_44tbtwf8c1/croots/recipe/xgboost-split_1659548960882/work/src/learner.cc:1115: Starting in XGBoost 1.3.0, the default evaluation metric used with the objective 'multi:softprob' was changed from 'merror' to 'mlogloss'. Explicitly set eval_metric if you'd like to restore the old behavior.\n",
      "[CV 6/10; 1/1] END colsample_bytree=0.3, gamma=0.4, learning_rate=0.25, max_depth=15, min_child_weight=3;, score=0.959 total time= 1.8min\n",
      "[CV 9/10; 1/1] START colsample_bytree=0.3, gamma=0.4, learning_rate=0.25, max_depth=15, min_child_weight=3\n",
      "[15:11:00] WARNING: /var/folders/sy/f16zz6x50xz3113nwtb9bvq00000gp/T/abs_44tbtwf8c1/croots/recipe/xgboost-split_1659548960882/work/src/learner.cc:1115: Starting in XGBoost 1.3.0, the default evaluation metric used with the objective 'multi:softprob' was changed from 'merror' to 'mlogloss'. Explicitly set eval_metric if you'd like to restore the old behavior.\n",
      "[CV 9/10; 1/1] END colsample_bytree=0.3, gamma=0.4, learning_rate=0.25, max_depth=15, min_child_weight=3;, score=0.969 total time=  32.4s\n",
      "[CV 5/10; 1/1] START colsample_bytree=0.4, gamma=0.2, learning_rate=0.1, max_depth=12, min_child_weight=1\n",
      "[15:11:37] WARNING: /var/folders/sy/f16zz6x50xz3113nwtb9bvq00000gp/T/abs_44tbtwf8c1/croots/recipe/xgboost-split_1659548960882/work/src/learner.cc:1115: Starting in XGBoost 1.3.0, the default evaluation metric used with the objective 'multi:softprob' was changed from 'merror' to 'mlogloss'. Explicitly set eval_metric if you'd like to restore the old behavior.\n",
      "[CV 5/10; 1/1] END colsample_bytree=0.4, gamma=0.2, learning_rate=0.1, max_depth=12, min_child_weight=1;, score=0.979 total time= 3.9min\n",
      "[CV 1/10; 1/1] START colsample_bytree=0.4, gamma=0.2, learning_rate=0.1, max_depth=4, min_child_weight=1\n",
      "[15:16:29] WARNING: /var/folders/sy/f16zz6x50xz3113nwtb9bvq00000gp/T/abs_44tbtwf8c1/croots/recipe/xgboost-split_1659548960882/work/src/learner.cc:1115: Starting in XGBoost 1.3.0, the default evaluation metric used with the objective 'multi:softprob' was changed from 'merror' to 'mlogloss'. Explicitly set eval_metric if you'd like to restore the old behavior.\n",
      "[CV 1/10; 1/1] END colsample_bytree=0.4, gamma=0.2, learning_rate=0.1, max_depth=4, min_child_weight=1;, score=0.974 total time= 3.3min\n",
      "[CV 2/10; 1/1] START colsample_bytree=0.5, gamma=0.3, learning_rate=0.1, max_depth=6, min_child_weight=3\n",
      "[15:20:35] WARNING: /var/folders/sy/f16zz6x50xz3113nwtb9bvq00000gp/T/abs_44tbtwf8c1/croots/recipe/xgboost-split_1659548960882/work/src/learner.cc:1115: Starting in XGBoost 1.3.0, the default evaluation metric used with the objective 'multi:softprob' was changed from 'merror' to 'mlogloss'. Explicitly set eval_metric if you'd like to restore the old behavior.\n",
      "[CV 2/10; 1/1] END colsample_bytree=0.5, gamma=0.3, learning_rate=0.1, max_depth=6, min_child_weight=3;, score=0.974 total time= 3.6min\n",
      "[CV 6/10; 1/1] START colsample_bytree=0.5, gamma=0.4, learning_rate=0.15, max_depth=4, min_child_weight=3\n",
      "[15:25:06] WARNING: /var/folders/sy/f16zz6x50xz3113nwtb9bvq00000gp/T/abs_44tbtwf8c1/croots/recipe/xgboost-split_1659548960882/work/src/learner.cc:1115: Starting in XGBoost 1.3.0, the default evaluation metric used with the objective 'multi:softprob' was changed from 'merror' to 'mlogloss'. Explicitly set eval_metric if you'd like to restore the old behavior.\n",
      "[CV 6/10; 1/1] END colsample_bytree=0.5, gamma=0.4, learning_rate=0.15, max_depth=4, min_child_weight=3;, score=0.964 total time= 2.8min\n",
      "[CV 9/10; 1/1] START colsample_bytree=0.5, gamma=0.4, learning_rate=0.15, max_depth=4, min_child_weight=3\n",
      "[15:27:55] WARNING: /var/folders/sy/f16zz6x50xz3113nwtb9bvq00000gp/T/abs_44tbtwf8c1/croots/recipe/xgboost-split_1659548960882/work/src/learner.cc:1115: Starting in XGBoost 1.3.0, the default evaluation metric used with the objective 'multi:softprob' was changed from 'merror' to 'mlogloss'. Explicitly set eval_metric if you'd like to restore the old behavior.\n",
      "[CV 9/10; 1/1] END colsample_bytree=0.5, gamma=0.4, learning_rate=0.15, max_depth=4, min_child_weight=3;, score=0.974 total time=  46.2s\n",
      "[CV 5/10; 1/1] START colsample_bytree=0.5, gamma=0.2, learning_rate=0.15, max_depth=10, min_child_weight=3\n",
      "[15:28:44] WARNING: /var/folders/sy/f16zz6x50xz3113nwtb9bvq00000gp/T/abs_44tbtwf8c1/croots/recipe/xgboost-split_1659548960882/work/src/learner.cc:1115: Starting in XGBoost 1.3.0, the default evaluation metric used with the objective 'multi:softprob' was changed from 'merror' to 'mlogloss'. Explicitly set eval_metric if you'd like to restore the old behavior.\n",
      "[CV 5/10; 1/1] END colsample_bytree=0.5, gamma=0.2, learning_rate=0.15, max_depth=10, min_child_weight=3;, score=0.974 total time= 3.1min\n",
      "[CV 1/10; 1/1] START colsample_bytree=0.3, gamma=0.0, learning_rate=0.3, max_depth=12, min_child_weight=3\n",
      "[15:32:38] WARNING: /var/folders/sy/f16zz6x50xz3113nwtb9bvq00000gp/T/abs_44tbtwf8c1/croots/recipe/xgboost-split_1659548960882/work/src/learner.cc:1115: Starting in XGBoost 1.3.0, the default evaluation metric used with the objective 'multi:softprob' was changed from 'merror' to 'mlogloss'. Explicitly set eval_metric if you'd like to restore the old behavior.\n",
      "[CV 1/10; 1/1] END colsample_bytree=0.3, gamma=0.0, learning_rate=0.3, max_depth=12, min_child_weight=3;, score=0.984 total time= 1.5min\n",
      "[CV 7/10; 1/1] START colsample_bytree=0.4, gamma=0.2, learning_rate=0.15, max_depth=10, min_child_weight=1\n",
      "[15:34:30] WARNING: /var/folders/sy/f16zz6x50xz3113nwtb9bvq00000gp/T/abs_44tbtwf8c1/croots/recipe/xgboost-split_1659548960882/work/src/learner.cc:1115: Starting in XGBoost 1.3.0, the default evaluation metric used with the objective 'multi:softprob' was changed from 'merror' to 'mlogloss'. Explicitly set eval_metric if you'd like to restore the old behavior.\n",
      "[CV 7/10; 1/1] END colsample_bytree=0.4, gamma=0.2, learning_rate=0.15, max_depth=10, min_child_weight=1;, score=0.964 total time= 3.2min\n",
      "[CV 4/10; 1/1] START colsample_bytree=0.5, gamma=0.1, learning_rate=0.15, max_depth=10, min_child_weight=3\n",
      "[15:38:39] WARNING: /var/folders/sy/f16zz6x50xz3113nwtb9bvq00000gp/T/abs_44tbtwf8c1/croots/recipe/xgboost-split_1659548960882/work/src/learner.cc:1115: Starting in XGBoost 1.3.0, the default evaluation metric used with the objective 'multi:softprob' was changed from 'merror' to 'mlogloss'. Explicitly set eval_metric if you'd like to restore the old behavior.\n",
      "[CV 4/10; 1/1] END colsample_bytree=0.5, gamma=0.1, learning_rate=0.15, max_depth=10, min_child_weight=3;, score=0.995 total time= 3.5min\n",
      "[CV 5/10; 1/1] START colsample_bytree=0.5, gamma=0.3, learning_rate=0.05, max_depth=5, min_child_weight=1\n",
      "[15:42:51] WARNING: /var/folders/sy/f16zz6x50xz3113nwtb9bvq00000gp/T/abs_44tbtwf8c1/croots/recipe/xgboost-split_1659548960882/work/src/learner.cc:1115: Starting in XGBoost 1.3.0, the default evaluation metric used with the objective 'multi:softprob' was changed from 'merror' to 'mlogloss'. Explicitly set eval_metric if you'd like to restore the old behavior.\n",
      "[CV 5/10; 1/1] END colsample_bytree=0.5, gamma=0.3, learning_rate=0.05, max_depth=5, min_child_weight=1;, score=0.979 total time= 4.7min\n",
      "[CV 3/10; 1/1] START colsample_bytree=0.5, gamma=0.1, learning_rate=0.05, max_depth=6, min_child_weight=3\n",
      "[15:48:47] WARNING: /var/folders/sy/f16zz6x50xz3113nwtb9bvq00000gp/T/abs_44tbtwf8c1/croots/recipe/xgboost-split_1659548960882/work/src/learner.cc:1115: Starting in XGBoost 1.3.0, the default evaluation metric used with the objective 'multi:softprob' was changed from 'merror' to 'mlogloss'. Explicitly set eval_metric if you'd like to restore the old behavior.\n",
      "[CV 3/10; 1/1] END colsample_bytree=0.5, gamma=0.1, learning_rate=0.05, max_depth=6, min_child_weight=3;, score=0.969 total time= 4.6min\n",
      "[CV 2/10; 1/1] START colsample_bytree=0.5, gamma=0.2, learning_rate=0.05, max_depth=12, min_child_weight=3\n",
      "[15:54:35] WARNING: /var/folders/sy/f16zz6x50xz3113nwtb9bvq00000gp/T/abs_44tbtwf8c1/croots/recipe/xgboost-split_1659548960882/work/src/learner.cc:1115: Starting in XGBoost 1.3.0, the default evaluation metric used with the objective 'multi:softprob' was changed from 'merror' to 'mlogloss'. Explicitly set eval_metric if you'd like to restore the old behavior.\n",
      "[CV 2/10; 1/1] END colsample_bytree=0.5, gamma=0.2, learning_rate=0.05, max_depth=12, min_child_weight=3;, score=0.979 total time= 5.1min\n",
      "[CV 2/10; 1/1] START colsample_bytree=0.4, gamma=0.3, learning_rate=0.1, max_depth=3, min_child_weight=3\n",
      "[16:00:58] WARNING: /var/folders/sy/f16zz6x50xz3113nwtb9bvq00000gp/T/abs_44tbtwf8c1/croots/recipe/xgboost-split_1659548960882/work/src/learner.cc:1115: Starting in XGBoost 1.3.0, the default evaluation metric used with the objective 'multi:softprob' was changed from 'merror' to 'mlogloss'. Explicitly set eval_metric if you'd like to restore the old behavior.\n",
      "[CV 2/10; 1/1] END colsample_bytree=0.4, gamma=0.3, learning_rate=0.1, max_depth=3, min_child_weight=3;, score=0.974 total time= 2.6min\n",
      "[CV 1/10; 1/1] START colsample_bytree=0.4, gamma=0.4, learning_rate=0.15, max_depth=10, min_child_weight=5\n",
      "[16:04:20] WARNING: /var/folders/sy/f16zz6x50xz3113nwtb9bvq00000gp/T/abs_44tbtwf8c1/croots/recipe/xgboost-split_1659548960882/work/src/learner.cc:1115: Starting in XGBoost 1.3.0, the default evaluation metric used with the objective 'multi:softprob' was changed from 'merror' to 'mlogloss'. Explicitly set eval_metric if you'd like to restore the old behavior.\n",
      "[CV 1/10; 1/1] END colsample_bytree=0.4, gamma=0.4, learning_rate=0.15, max_depth=10, min_child_weight=5;, score=0.979 total time= 2.5min\n",
      "[CV 4/10; 1/1] START colsample_bytree=0.5, gamma=0.2, learning_rate=0.3, max_depth=10, min_child_weight=3\n",
      "[16:07:24] WARNING: /var/folders/sy/f16zz6x50xz3113nwtb9bvq00000gp/T/abs_44tbtwf8c1/croots/recipe/xgboost-split_1659548960882/work/src/learner.cc:1115: Starting in XGBoost 1.3.0, the default evaluation metric used with the objective 'multi:softprob' was changed from 'merror' to 'mlogloss'. Explicitly set eval_metric if you'd like to restore the old behavior.\n",
      "[CV 4/10; 1/1] END colsample_bytree=0.5, gamma=0.2, learning_rate=0.3, max_depth=10, min_child_weight=3;, score=0.995 total time= 2.4min\n",
      "[CV 4/10; 1/1] START colsample_bytree=0.4, gamma=0.2, learning_rate=0.25, max_depth=5, min_child_weight=5\n",
      "[16:10:21] WARNING: /var/folders/sy/f16zz6x50xz3113nwtb9bvq00000gp/T/abs_44tbtwf8c1/croots/recipe/xgboost-split_1659548960882/work/src/learner.cc:1115: Starting in XGBoost 1.3.0, the default evaluation metric used with the objective 'multi:softprob' was changed from 'merror' to 'mlogloss'. Explicitly set eval_metric if you'd like to restore the old behavior.\n",
      "[CV 4/10; 1/1] END colsample_bytree=0.4, gamma=0.2, learning_rate=0.25, max_depth=5, min_child_weight=5;, score=0.984 total time= 1.8min\n",
      "[CV 4/10; 1/1] START colsample_bytree=0.5, gamma=0.0, learning_rate=0.25, max_depth=8, min_child_weight=7\n",
      "[16:12:40] WARNING: /var/folders/sy/f16zz6x50xz3113nwtb9bvq00000gp/T/abs_44tbtwf8c1/croots/recipe/xgboost-split_1659548960882/work/src/learner.cc:1115: Starting in XGBoost 1.3.0, the default evaluation metric used with the objective 'multi:softprob' was changed from 'merror' to 'mlogloss'. Explicitly set eval_metric if you'd like to restore the old behavior.\n",
      "[CV 4/10; 1/1] END colsample_bytree=0.5, gamma=0.0, learning_rate=0.25, max_depth=8, min_child_weight=7;, score=0.990 total time= 2.2min\n",
      "[CV 4/10; 1/1] START colsample_bytree=0.5, gamma=0.4, learning_rate=0.05, max_depth=4, min_child_weight=5\n",
      "[16:15:22] WARNING: /var/folders/sy/f16zz6x50xz3113nwtb9bvq00000gp/T/abs_44tbtwf8c1/croots/recipe/xgboost-split_1659548960882/work/src/learner.cc:1115: Starting in XGBoost 1.3.0, the default evaluation metric used with the objective 'multi:softprob' was changed from 'merror' to 'mlogloss'. Explicitly set eval_metric if you'd like to restore the old behavior.\n",
      "[CV 4/10; 1/1] END colsample_bytree=0.5, gamma=0.4, learning_rate=0.05, max_depth=4, min_child_weight=5;, score=0.990 total time= 4.2min\n",
      "[CV 2/10; 1/1] START colsample_bytree=0.5, gamma=0.2, learning_rate=0.1, max_depth=10, min_child_weight=3\n",
      "[16:20:38] WARNING: /var/folders/sy/f16zz6x50xz3113nwtb9bvq00000gp/T/abs_44tbtwf8c1/croots/recipe/xgboost-split_1659548960882/work/src/learner.cc:1115: Starting in XGBoost 1.3.0, the default evaluation metric used with the objective 'multi:softprob' was changed from 'merror' to 'mlogloss'. Explicitly set eval_metric if you'd like to restore the old behavior.\n",
      "[CV 2/10; 1/1] END colsample_bytree=0.5, gamma=0.2, learning_rate=0.1, max_depth=10, min_child_weight=3;, score=0.979 total time= 3.9min\n",
      "[CV 3/10; 1/1] START colsample_bytree=0.4, gamma=0.4, learning_rate=0.1, max_depth=4, min_child_weight=7\n",
      "[16:25:29] WARNING: /var/folders/sy/f16zz6x50xz3113nwtb9bvq00000gp/T/abs_44tbtwf8c1/croots/recipe/xgboost-split_1659548960882/work/src/learner.cc:1115: Starting in XGBoost 1.3.0, the default evaluation metric used with the objective 'multi:softprob' was changed from 'merror' to 'mlogloss'. Explicitly set eval_metric if you'd like to restore the old behavior.\n",
      "[CV 3/10; 1/1] END colsample_bytree=0.4, gamma=0.4, learning_rate=0.1, max_depth=4, min_child_weight=7;, score=0.974 total time= 2.7min\n",
      "[CV 1/10; 1/1] START colsample_bytree=0.4, gamma=0.3, learning_rate=0.1, max_depth=3, min_child_weight=5\n",
      "[16:28:53] WARNING: /var/folders/sy/f16zz6x50xz3113nwtb9bvq00000gp/T/abs_44tbtwf8c1/croots/recipe/xgboost-split_1659548960882/work/src/learner.cc:1115: Starting in XGBoost 1.3.0, the default evaluation metric used with the objective 'multi:softprob' was changed from 'merror' to 'mlogloss'. Explicitly set eval_metric if you'd like to restore the old behavior.\n",
      "[CV 1/10; 1/1] END colsample_bytree=0.4, gamma=0.3, learning_rate=0.1, max_depth=3, min_child_weight=5;, score=0.974 total time= 2.6min\n",
      "[CV 7/10; 1/1] START colsample_bytree=0.3, gamma=0.1, learning_rate=0.15, max_depth=15, min_child_weight=1\n",
      "[16:32:10] WARNING: /var/folders/sy/f16zz6x50xz3113nwtb9bvq00000gp/T/abs_44tbtwf8c1/croots/recipe/xgboost-split_1659548960882/work/src/learner.cc:1115: Starting in XGBoost 1.3.0, the default evaluation metric used with the objective 'multi:softprob' was changed from 'merror' to 'mlogloss'. Explicitly set eval_metric if you'd like to restore the old behavior.\n",
      "[CV 7/10; 1/1] END colsample_bytree=0.3, gamma=0.1, learning_rate=0.15, max_depth=15, min_child_weight=1;, score=0.959 total time= 2.8min\n",
      "[CV 1/10; 1/1] START colsample_bytree=0.7, gamma=0.1, learning_rate=0.15, max_depth=8, min_child_weight=1\n",
      "[16:35:39] WARNING: /var/folders/sy/f16zz6x50xz3113nwtb9bvq00000gp/T/abs_44tbtwf8c1/croots/recipe/xgboost-split_1659548960882/work/src/learner.cc:1115: Starting in XGBoost 1.3.0, the default evaluation metric used with the objective 'multi:softprob' was changed from 'merror' to 'mlogloss'. Explicitly set eval_metric if you'd like to restore the old behavior.\n",
      "[CV 1/10; 1/1] END colsample_bytree=0.7, gamma=0.1, learning_rate=0.15, max_depth=8, min_child_weight=1;, score=0.974 total time= 5.1min\n",
      "[CV 2/10; 1/1] START colsample_bytree=0.3, gamma=0.0, learning_rate=0.2, max_depth=6, min_child_weight=1\n"
     ]
    },
    {
     "name": "stdout",
     "output_type": "stream",
     "text": [
      "Fitting 10 folds for each of 1 candidates, totalling 10 fits\n"
     ]
    },
    {
     "name": "stderr",
     "output_type": "stream",
     "text": [
      "/Users/Yash/opt/anaconda3/envs/Om_sai_ram/lib/python3.9/site-packages/sklearn/model_selection/_split.py:676: UserWarning: The least populated class in y has only 2 members, which is less than n_splits=10.\n",
      "  warnings.warn(\n"
     ]
    },
    {
     "name": "stdout",
     "output_type": "stream",
     "text": [
      "Fitting 10 folds for each of 1 candidates, totalling 10 fits\n"
     ]
    },
    {
     "name": "stderr",
     "output_type": "stream",
     "text": [
      "/Users/Yash/opt/anaconda3/envs/Om_sai_ram/lib/python3.9/site-packages/sklearn/model_selection/_split.py:676: UserWarning: The least populated class in y has only 2 members, which is less than n_splits=10.\n",
      "  warnings.warn(\n"
     ]
    },
    {
     "name": "stdout",
     "output_type": "stream",
     "text": [
      "Fitting 10 folds for each of 1 candidates, totalling 10 fits\n"
     ]
    },
    {
     "name": "stderr",
     "output_type": "stream",
     "text": [
      "/Users/Yash/opt/anaconda3/envs/Om_sai_ram/lib/python3.9/site-packages/sklearn/model_selection/_split.py:676: UserWarning: The least populated class in y has only 2 members, which is less than n_splits=10.\n",
      "  warnings.warn(\n"
     ]
    },
    {
     "name": "stdout",
     "output_type": "stream",
     "text": [
      "Fitting 10 folds for each of 1 candidates, totalling 10 fits\n"
     ]
    },
    {
     "name": "stderr",
     "output_type": "stream",
     "text": [
      "/Users/Yash/opt/anaconda3/envs/Om_sai_ram/lib/python3.9/site-packages/sklearn/model_selection/_split.py:676: UserWarning: The least populated class in y has only 2 members, which is less than n_splits=10.\n",
      "  warnings.warn(\n"
     ]
    },
    {
     "name": "stdout",
     "output_type": "stream",
     "text": [
      "Fitting 10 folds for each of 1 candidates, totalling 10 fits\n"
     ]
    },
    {
     "name": "stderr",
     "output_type": "stream",
     "text": [
      "/Users/Yash/opt/anaconda3/envs/Om_sai_ram/lib/python3.9/site-packages/sklearn/model_selection/_split.py:676: UserWarning: The least populated class in y has only 2 members, which is less than n_splits=10.\n",
      "  warnings.warn(\n"
     ]
    },
    {
     "name": "stdout",
     "output_type": "stream",
     "text": [
      "Fitting 10 folds for each of 1 candidates, totalling 10 fits\n"
     ]
    },
    {
     "name": "stderr",
     "output_type": "stream",
     "text": [
      "/Users/Yash/opt/anaconda3/envs/Om_sai_ram/lib/python3.9/site-packages/sklearn/model_selection/_split.py:676: UserWarning: The least populated class in y has only 2 members, which is less than n_splits=10.\n",
      "  warnings.warn(\n"
     ]
    },
    {
     "name": "stdout",
     "output_type": "stream",
     "text": [
      "[17:53:18] WARNING: /var/folders/sy/f16zz6x50xz3113nwtb9bvq00000gp/T/abs_44tbtwf8c1/croots/recipe/xgboost-split_1659548960882/work/src/learner.cc:1115: Starting in XGBoost 1.3.0, the default evaluation metric used with the objective 'multi:softprob' was changed from 'merror' to 'mlogloss'. Explicitly set eval_metric if you'd like to restore the old behavior.\n",
      "\n",
      "Best Parameters Found\n",
      "OrderedDict([('colsample_bytree', 0.5), ('gamma', 0.2), ('learning_rate', 0.15), ('max_depth', 10), ('min_child_weight', 3)])\n",
      "[17:53:42] WARNING: /var/folders/sy/f16zz6x50xz3113nwtb9bvq00000gp/T/abs_44tbtwf8c1/croots/recipe/xgboost-split_1659548960882/work/src/learner.cc:1115: Starting in XGBoost 1.3.0, the default evaluation metric used with the objective 'multi:softprob' was changed from 'merror' to 'mlogloss'. Explicitly set eval_metric if you'd like to restore the old behavior.\n",
      "Xgboost Accuracy\n"
     ]
    },
    {
     "ename": "NameError",
     "evalue": "name 'chi2_accuracy' is not defined",
     "output_type": "error",
     "traceback": [
      "\u001b[0;31m---------------------------------------------------------------------------\u001b[0m",
      "\u001b[0;31mNameError\u001b[0m                                 Traceback (most recent call last)",
      "Input \u001b[0;32mIn [6]\u001b[0m, in \u001b[0;36m<cell line: 129>\u001b[0;34m()\u001b[0m\n\u001b[1;32m    127\u001b[0m Xgboost_accuracy \u001b[38;5;241m=\u001b[39m accuracy_score(y_test, y_pred)\n\u001b[1;32m    128\u001b[0m \u001b[38;5;28mprint\u001b[39m(\u001b[38;5;124m\"\u001b[39m\u001b[38;5;124mXgboost Accuracy\u001b[39m\u001b[38;5;124m\"\u001b[39m)\n\u001b[0;32m--> 129\u001b[0m \u001b[38;5;28mprint\u001b[39m(\u001b[43mchi2_accuracy\u001b[49m) \u001b[38;5;66;03m#0.9585492227979274, 0.6621621621621622\u001b[39;00m\n\u001b[1;32m    131\u001b[0m perf_cols \u001b[38;5;241m=\u001b[39m [\u001b[38;5;124m\"\u001b[39m\u001b[38;5;124mCell Type\u001b[39m\u001b[38;5;124m\"\u001b[39m, \u001b[38;5;124m\"\u001b[39m\u001b[38;5;124mAccuracy\u001b[39m\u001b[38;5;124m%\u001b[39m\u001b[38;5;124m\"\u001b[39m,\u001b[38;5;124m\"\u001b[39m\u001b[38;5;124mPrecision\u001b[39m\u001b[38;5;124m%\u001b[39m\u001b[38;5;124m\"\u001b[39m,\u001b[38;5;124m\"\u001b[39m\u001b[38;5;124mRecall\u001b[39m\u001b[38;5;124m%\u001b[39m\u001b[38;5;124m\"\u001b[39m,\u001b[38;5;124m\"\u001b[39m\u001b[38;5;124mNegative Predictive Value\u001b[39m\u001b[38;5;124m%\u001b[39m\u001b[38;5;124m\"\u001b[39m,\u001b[38;5;124m\"\u001b[39m\u001b[38;5;124mSpecificity\u001b[39m\u001b[38;5;124m%\u001b[39m\u001b[38;5;124m\"\u001b[39m,\u001b[38;5;124m\"\u001b[39m\u001b[38;5;124mF1-score\u001b[39m\u001b[38;5;124m%\u001b[39m\u001b[38;5;124m\"\u001b[39m]\n\u001b[1;32m    132\u001b[0m perf_anova  \u001b[38;5;241m=\u001b[39m pd\u001b[38;5;241m.\u001b[39mDataFrame(columns \u001b[38;5;241m=\u001b[39m perf_cols)\n",
      "\u001b[0;31mNameError\u001b[0m: name 'chi2_accuracy' is not defined"
     ]
    }
   ],
   "source": [
    "def precision_MC(y_true, y_pred):\n",
    "    TP = np.diag(confusion_matrix(y_true, y_pred))\n",
    "    FP = confusion_matrix(y_true, y_pred).sum(axis=1) - np.diag(confusion_matrix(y_true, y_pred))\n",
    "    FP = FP.astype(float)\n",
    "    TP = TP.astype(float)\n",
    "    precision = TP/(TP+FP) * 100\n",
    "    return precision\n",
    "\n",
    "def recall_MC(y_true, y_pred):\n",
    "    TP = np.diag(confusion_matrix(y_true, y_pred))\n",
    "    FN = confusion_matrix(y_true, y_pred).sum(axis=0) - np.diag(confusion_matrix(y_true, y_pred))\n",
    "    FN = FN.astype(float)\n",
    "    TP = TP.astype(float)\n",
    "    recall =  TP/(TP+FN) * 100\n",
    "    return recall\n",
    "\n",
    "def accuracy_MC(y_true, y_pred):\n",
    "    FP = confusion_matrix(y_true, y_pred).sum(axis=1) - np.diag(confusion_matrix(y_true, y_pred))  \n",
    "    FN = confusion_matrix(y_true, y_pred).sum(axis=0) - np.diag(confusion_matrix(y_true, y_pred))\n",
    "    TP = np.diag(confusion_matrix(y_true, y_pred))\n",
    "    TP = TP.astype(float)\n",
    "    TN = confusion_matrix(y_true, y_pred).sum() - (FP + FN + TP)\n",
    "    FP = FP.astype(float)\n",
    "    FN = FN.astype(float)\n",
    "    TN = TN.astype(float)\n",
    "    accuracy = (TP+TN)/(TP+FP+FN+TN) * 100\n",
    "    return accuracy\n",
    "\n",
    "def npval_MC(y_true, y_pred): \n",
    "    FN = confusion_matrix(y_true, y_pred).sum(axis=0) - np.diag(confusion_matrix(y_true, y_pred))\n",
    "    FN = FN.astype(float)\n",
    "    TP = np.diag(confusion_matrix(y_true, y_pred))\n",
    "    TP = TP.astype(float)\n",
    "    FP = confusion_matrix(y_true, y_pred).sum(axis=1) - np.diag(confusion_matrix(y_true, y_pred)) \n",
    "    FP = FP.astype(float)\n",
    "    TN = confusion_matrix(y_true, y_pred).sum() - (FP + FN + TP)\n",
    "    TN = TN.astype(float)\n",
    "    npv = TN/(TN+FN) * 100\n",
    "    return npv\n",
    "\n",
    "def specificity_MC(y_true, y_pred): \n",
    "    FP = confusion_matrix(y_true, y_pred).sum(axis=1) - np.diag(confusion_matrix(y_true, y_pred)) \n",
    "    FP = FP.astype(float)\n",
    "    FN = confusion_matrix(y_true, y_pred).sum(axis=0) - np.diag(confusion_matrix(y_true, y_pred))\n",
    "    FN = FN.astype(float)\n",
    "    TP = np.diag(confusion_matrix(y_true, y_pred))\n",
    "    TP = TP.astype(float)\n",
    "    TN = confusion_matrix(y_true, y_pred).sum() - (FP + FN + TP)\n",
    "    TN = TN.astype(float)\n",
    "    spec = TN/(TN+FP)  * 100\n",
    "    return spec\n",
    "\n",
    "\n",
    "def plot_ROC_curve_MC(y_true, y_pred, FSName):\n",
    "    n_classes = len(np.unique(y_true))\n",
    "    y_true = label_binarize(y_true, classes=np.arange(n_classes))\n",
    "    #y_pred = label_binarize(y_pred, classes=np.arange(n_classes))\n",
    "    \n",
    "    # Compute ROC curve and ROC area for each class\n",
    "    fpr = dict()\n",
    "    tpr = dict()\n",
    "    roc_auc = dict()\n",
    "    for i in range(n_classes):\n",
    "        fpr[i], tpr[i], _ = roc_curve(y_true[:, i], y_pred[:, i])\n",
    "        roc_auc[i] = auc(fpr[i], tpr[i])\n",
    "        \n",
    "    # First aggregate all false positive rates\n",
    "    all_fpr = np.unique(np.concatenate([fpr[i] for i in range(n_classes)]))\n",
    "\n",
    "    # Then interpolate all ROC curves at this points\n",
    "    mean_tpr = np.zeros_like(all_fpr)\n",
    "    for i in range(n_classes):\n",
    "        mean_tpr += np.interp(all_fpr, fpr[i], tpr[i])\n",
    "\n",
    "    # Finally average it and compute AUC\n",
    "    mean_tpr /= n_classes\n",
    "    \n",
    "    # Plot all ROC curves\n",
    "    plt.figure()\n",
    "    #colors = cycle([\"aqua\", \"darkorange\", \"cornflowerblue\"])\n",
    "    for i in range(n_classes):\n",
    "        plt.plot(\n",
    "            fpr[i],\n",
    "            tpr[i],\n",
    "            label=\"ROC curve of class {0} (area = {1:0.4f})\".format(i, roc_auc[i]),\n",
    "        )\n",
    "\n",
    "    plt.plot([0, 1], [0, 1], \"k--\")\n",
    "    plt.xlim([0.0, 1.0])\n",
    "    plt.ylim([0.0, 1.05])\n",
    "    plt.xlabel(\"False Positive Rate\")\n",
    "    plt.ylabel(\"True Positive Rate\")\n",
    "    plt.title(\"ROC Curve of \" + str(FSName))\n",
    "    plt.legend(loc=\"lower right\")\n",
    "    path = \"ROC_\"+ str(FSName)\n",
    "    plt.savefig(f'{path}.png')\n",
    "\n",
    "#Bayesian Search\n",
    "bayesian_search = BayesSearchCV(\n",
    "        classifier,\n",
    "        {\n",
    "            'learning_rate'    : [0.05, 0.10, 0.15, 0.20, 0.25, 0.30 ] ,\n",
    "            'max_depth'        : [ 3, 4, 5, 6, 8, 10, 12, 15],\n",
    "             'min_child_weight' : [ 1, 3, 5, 7 ],\n",
    "             'gamma'            : [ 0.0, 0.1, 0.2 , 0.3, 0.4 ],\n",
    "             'colsample_bytree' : [ 0.3, 0.4, 0.5 , 0.7 ]\n",
    "            #'max_leaf_nodes':Integer(0,prior='log-uniform'),\n",
    "            #'min_samples_leaf':Real(0.1,0.5,prior='uniform'),\n",
    "            #'min_samples_split':Real(0.1,1,prior='uniform')\n",
    "        },\n",
    "        n_iter=50,scoring='accuracy',n_jobs = -1, verbose = 10,\n",
    "        random_state=0, cv=10\n",
    "    )\n",
    "#grid_search = GridSearchCV(SVC(), tuned_params, cv=10, scoring='accuracy',n_jobs = -1, verbose = 10)\n",
    "bayesian_search.fit(X, y)\n",
    "bayesian_search.best_params_\n",
    "print(\"\")\n",
    "print(\"Best Parameters Found\")\n",
    "print(bayesian_search.best_params_) \n",
    "clf = xgb.XGBClassifier(learning_rate = bayesian_search.best_params_['learning_rate'], max_depth = bayesian_search.best_params_['max_depth'], min_child_weight= bayesian_search.best_params_['min_child_weight'],\n",
    "      gamma= bayesian_search.best_params_['gamma'], colsample_bytree= bayesian_search.best_params_['colsample_bytree'], use_label_encoder=False)\n",
    "X_train, X_test, y_train, y_test = train_test_split(X, y, test_size = 0.30, stratify=y)\n",
    "clf.fit(X_train, y_train)\n",
    "y_pred = clf.predict(X_test)\n",
    "X_train.shape\n",
    "X_test.shape \n",
    "Xgboost_accuracy = accuracy_score(y_test, y_pred)\n",
    "print(\"Xgboost Accuracy\")\n",
    "print(Xgboost_accuracy) #0.9585492227979274, 0.6621621621621622\n",
    "\n",
    "perf_cols = [\"Cell Type\", \"Accuracy%\",\"Precision%\",\"Recall%\",\"Negative Predictive Value%\",\"Specificity%\",\"F1-score%\"]\n",
    "perf_anova  = pd.DataFrame(columns = perf_cols)\n",
    "label = np.unique(y.tolist())\n",
    "class_lbl = [int(i) for i in label] \n",
    "class_lbl = ['CellType ' + str(s) for s in class_lbl]\n",
    "\n",
    "pre_chi2 = precision_MC(y_test,y_pred)\n",
    "rec_chi2 = recall_MC(y_test,y_pred)\n",
    "acc_chi2 = accuracy_MC(y_test,y_pred)\n",
    "npv_chi2 = npval_MC(y_test,y_pred)\n",
    "spe_chi2 = specificity_MC(y_test,y_pred)\n",
    "f1_chi2 = 2* (pre_chi2 * rec_chi2)/(pre_chi2 + rec_chi2)\n",
    "\n",
    "print(\"XGBoost MultiClass\")\n",
    "print(pre_chi2)\n",
    "print(rec_chi2)\n",
    "print(acc_chi2)\n",
    "print(npv_chi2)\n",
    "print(spe_chi2)\n",
    "print(f1_chi2)\n",
    "\n",
    "perf_chi2['Cell Type'] = class_lbl\n",
    "perf_chi2['Precision%'] = pre_chi2.tolist()\n",
    "perf_chi2['Accuracy%'] =  acc_chi2.tolist()\n",
    "perf_chi2['Recall%']  = rec_chi2.tolist()\n",
    "perf_chi2['Negative Predictive Value%'] = npv_chi2.tolist()\n",
    "perf_chi2['Specificity%'] = spe_chi2.tolist()\n",
    "perf_chi2['F1-score%'] = f1_chi2.tolist()\n",
    "\n",
    "perf_chi2.to_csv('xgboosPerformanceMetrics.csv', index = False)\n",
    "\n",
    "#Plot ROC curve for OneVsRest + Chi2\n",
    "#y_score_chi2 = classifier.fit(X_train_chi2, y_train_chi2).decision_function(X_test_chi2)\n",
    "\n",
    "n_classes = len(np.unique(y_test))\n",
    "y_pred_chi = label_binarize(y_pred, classes=np.arange(n_classes))\n",
    "\n",
    "plot_ROC_curve_MC(y_test, y_pred_chi, \"Chi2\")\n"
   ]
  },
  {
   "cell_type": "code",
   "execution_count": 7,
   "id": "4325a6af",
   "metadata": {},
   "outputs": [
    {
     "name": "stdout",
     "output_type": "stream",
     "text": [
      "0.9740932642487047\n"
     ]
    }
   ],
   "source": [
    "print(Xgboost_accuracy)"
   ]
  },
  {
   "cell_type": "code",
   "execution_count": 14,
   "id": "953fb9ee",
   "metadata": {},
   "outputs": [
    {
     "name": "stderr",
     "output_type": "stream",
     "text": [
      "/var/folders/fh/mtkq58kd5ks3szv1j095_fbc0000gp/T/ipykernel_80203/3533521258.py:14: RuntimeWarning: invalid value encountered in true_divide\n",
      "  recall =  TP/(TP+FN) * 100\n"
     ]
    },
    {
     "name": "stdout",
     "output_type": "stream",
     "text": [
      "XGBoost MultiClass\n",
      "[ 96.875      100.          90.625       92.85714286  94.44444444\n",
      " 100.         100.          90.47619048  97.43589744 100.\n",
      "  75.         100.         100.           0.        ]\n",
      "[ 96.875       96.67896679  98.30508475 100.          97.14285714\n",
      "  97.26027397 100.         100.         100.         100.\n",
      " 100.         100.          66.66666667          nan]\n",
      "[ 99.65457686  98.44559585  98.791019    99.82728843  99.48186528\n",
      "  99.65457686 100.          99.65457686  99.82728843 100.\n",
      "  99.82728843 100.          99.82728843  99.82728843]\n",
      "[ 99.81718464  97.16088328  99.80582524 100.          99.81583794\n",
      "  99.60629921 100.         100.         100.         100.\n",
      " 100.         100.          99.82668977 100.        ]\n",
      "[ 99.81718464 100.          98.84615385  99.82332155  99.63235294\n",
      " 100.         100.          99.64285714  99.81515712 100.\n",
      "  99.82638889 100.         100.          99.82728843]\n",
      "[ 96.875       98.31144465  94.30894309  96.2962963   95.77464789\n",
      "  98.61111111 100.          95.          98.7012987  100.\n",
      "  85.71428571 100.          80.                  nan]\n"
     ]
    },
    {
     "data": {
      "image/png": "[encoded data removed]",
      "text/plain": [
       "<Figure size 432x288 with 1 Axes>"
      ]
     },
     "metadata": {
      "needs_background": "light"
     },
     "output_type": "display_data"
    }
   ],
   "source": [
    "perf_cols = [\"Cell Type\", \"Accuracy%\",\"Precision%\",\"Recall%\",\"Negative Predictive Value%\",\"Specificity%\",\"F1-score%\"]\n",
    "perf  = pd.DataFrame(columns = perf_cols)\n",
    "label = np.unique(y.tolist())\n",
    "class_lbl = [int(i) for i in label] \n",
    "class_lbl = ['CellType ' + str(s) for s in class_lbl]\n",
    "\n",
    "pre_chi2 = precision_MC(y_test,y_pred)\n",
    "rec_chi2 = recall_MC(y_test,y_pred)\n",
    "acc_chi2 = accuracy_MC(y_test,y_pred)\n",
    "npv_chi2 = npval_MC(y_test,y_pred)\n",
    "spe_chi2 = specificity_MC(y_test,y_pred)\n",
    "f1_chi2 = 2* (pre_chi2 * rec_chi2)/(pre_chi2 + rec_chi2)\n",
    "\n",
    "print(\"XGBoost MultiClass\")\n",
    "print(pre_chi2)\n",
    "print(rec_chi2)\n",
    "print(acc_chi2)\n",
    "print(npv_chi2)\n",
    "print(spe_chi2)\n",
    "print(f1_chi2)\n",
    "\n",
    "perf['Cell Type'] = class_lbl\n",
    "perf['Precision%'] = pre_chi2.tolist()\n",
    "perf['Accuracy%'] =  acc_chi2.tolist()\n",
    "perf['Recall%']  = rec_chi2.tolist()\n",
    "perf['Negative Predictive Value%'] = npv_chi2.tolist()\n",
    "perf['Specificity%'] = spe_chi2.tolist()\n",
    "perf['F1-score%'] = f1_chi2.tolist()\n",
    "\n",
    "perf.to_csv('XgboostPerformanceMetrics.csv', index = False)\n",
    "\n",
    "#Plot ROC curve for OneVsRest + Chi2\n",
    "#y_score_chi2 = classifier.fit(X_train_chi2, y_train_chi2).decision_function(X_test_chi2)\n",
    "\n",
    "n_classes = len(np.unique(y_test))\n",
    "y_pred_chi = label_binarize(y_pred, classes=np.arange(n_classes))\n",
    "\n",
    "plot_ROC_curve_MC(y_test, y_pred_chi, \"XGBoost_\")\n"
   ]
  },
  {
   "cell_type": "code",
   "execution_count": null,
   "id": "c1288147",
   "metadata": {},
   "outputs": [],
   "source": []
  }
 ],
 "metadata": {
  "kernelspec": {
   "display_name": "Python 3 (ipykernel)",
   "language": "python",
   "name": "python3"
  },
  "language_info": {
   "codemirror_mode": {
    "name": "ipython",
    "version": 3
   },
   "file_extension": ".py",
   "mimetype": "text/x-python",
   "name": "python",
   "nbconvert_exporter": "python",
   "pygments_lexer": "ipython3",
   "version": "3.9.12"
  }
 },
 "nbformat": 4,
 "nbformat_minor": 5
}
